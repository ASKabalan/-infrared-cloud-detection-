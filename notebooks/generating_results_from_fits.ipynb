{
 "cells": [
  {
   "cell_type": "code",
   "execution_count": 1,
   "metadata": {},
   "outputs": [
    {
     "name": "stderr",
     "output_type": "stream",
     "text": [
      "2023-11-16 00:04:29.628576: I tensorflow/core/platform/cpu_feature_guard.cc:182] This TensorFlow binary is optimized to use available CPU instructions in performance-critical operations.\n",
      "To enable the following instructions: SSE4.1 SSE4.2 AVX, in other operations, rebuild TensorFlow with the appropriate compiler flags.\n"
     ]
    }
   ],
   "source": [
    "%load_ext autoreload\n",
    "%autoreload 2\n",
    "import sys\n",
    "sys.path.append('../utilities')\n",
    "\n",
    "import utilities as util\n",
    "import augmentations as aug\n",
    "import visualization as viz\n",
    "from training_utilities import TrainingMetrics, TrainingTimer\n",
    "import glob\n",
    "from astropy.io import fits\n",
    "from random import randint\n"
   ]
  },
  {
   "cell_type": "code",
   "execution_count": 2,
   "metadata": {},
   "outputs": [],
   "source": [
    "def open_fits_with_mask_and_pred(filename,DR = 2**14):\n",
    "    image = fits.open(filename)\n",
    "    cloud = image[0].data\n",
    "    mask = image[1].data\n",
    "    pred = image[2].data\n",
    "    del image\n",
    "\n",
    "    # Normalize image\n",
    "    cloud  = cloud / DR\n",
    "    return cloud , mask, pred"
   ]
  },
  {
   "cell_type": "code",
   "execution_count": 5,
   "metadata": {},
   "outputs": [
    {
     "data": {
      "text/plain": [
       "200"
      ]
     },
     "execution_count": 5,
     "metadata": {},
     "output_type": "execute_result"
    }
   ],
   "source": [
    "images_list = glob.glob('../Results/LWIRISEG/Results/*val*.fits')\n",
    "len(images_list)"
   ]
  },
  {
   "cell_type": "code",
   "execution_count": 7,
   "metadata": {},
   "outputs": [],
   "source": [
    "\n",
    "l_fits = []\n",
    "for indx in range(len(images_list)):\n",
    "    l_fits.append(open_fits_with_mask_and_pred(filename=images_list[indx],DR = 1))"
   ]
  },
  {
   "cell_type": "code",
   "execution_count": null,
   "metadata": {},
   "outputs": [],
   "source": [
    "for indx in range(1,(len(l_fits)//5)+1):\n",
    "    nb = indx*5\n",
    "    viz.save_image_preds(l_fits[nb-5:nb],f'../output/res{nb}.pdf')"
   ]
  },
  {
   "cell_type": "code",
   "execution_count": null,
   "metadata": {},
   "outputs": [],
   "source": []
  }
 ],
 "metadata": {
  "kernelspec": {
   "display_name": "base",
   "language": "python",
   "name": "python3"
  },
  "language_info": {
   "codemirror_mode": {
    "name": "ipython",
    "version": 3
   },
   "file_extension": ".py",
   "mimetype": "text/x-python",
   "name": "python",
   "nbconvert_exporter": "python",
   "pygments_lexer": "ipython3",
   "version": "3.11.5"
  }
 },
 "nbformat": 4,
 "nbformat_minor": 2
}
