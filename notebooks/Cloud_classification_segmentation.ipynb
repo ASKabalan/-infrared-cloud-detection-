{
 "cells": [
  {
   "cell_type": "markdown",
   "metadata": {},
   "source": [
    "# Cloud Image Classification and Segmentation\n",
    "\n",
    "This notebook demonstrates how to classify images and segment clouds in the classified cloudy images using pre-trained classifier and segmentation models."
   ]
  },
  {
   "cell_type": "markdown",
   "metadata": {},
   "source": [
    "## Imports and Setup"
   ]
  },
  {
   "cell_type": "code",
   "execution_count": null,
   "metadata": {},
   "outputs": [],
   "source": [
    "import jax\n",
    "import jax.numpy as jnp\n",
    "from jax import random, jit\n",
    "from flax.training import train_state\n",
    "import optax\n",
    "import numpy as np\n",
    "from astropy.io import fits\n",
    "import matplotlib.pyplot as plt\n",
    "from tqdm import tqdm\n",
    "import os\n",
    "import glob\n",
    "\n",
    "# Utility functions for loading models and data\n",
    "from utilities import load_model, open_fits_with_mask\n",
    "from visualization import plot_image_preds\n",
    "from cloudsifier.model import load_model as load_classifier_model\n",
    "\n",
    "\n",
    "\n",
    "# Function to load the segmentation model\n",
    "def load_segmentation_model(model_path):\n",
    "    return load_model(model_path)\n",
    "\n",
    "# Load the pre-trained models\n",
    "classifier_state = load_classifier_model('models/image_classification_VGG8.keras')\n",
    "segmentation_state = load_segmentation_model('models/doubleconv_64_128_256_Flax')\n",
    "\n",
    "# Set paths to the data\n",
    "image_paths = sorted(glob.glob('path/to/test/images/*.fits'))\n",
    "\n",
    "# Function to classify images\n",
    "@jit\n",
    "def classify_image(state, image):\n",
    "    logits = state.apply_fn({'params': state.params}, image)\n",
    "    probs = jax.nn.sigmoid(logits)\n",
    "    return probs > 0.5  # Assuming binary classification, return True if cloud is detected\n",
    "\n",
    "# Function to segment images\n",
    "@jit\n",
    "def segment_image(state, image):\n",
    "    logits = state.apply_fn({'params': state.params}, image)\n",
    "    probs = jax.nn.sigmoid(logits)\n",
    "    return jnp.round(probs)\n",
    "\n",
    "# Function to classify images and then segment if they contain clouds\n",
    "def classify_and_segment(image_path, classifier_state, segmentation_state):\n",
    "    # Open image file\n",
    "    image, _ = open_fits_with_mask(image_path)\n",
    "    image = jnp.expand_dims(image, axis=-1)  # Add channel dimension\n",
    "    \n",
    "    # Classify the image\n",
    "    is_cloud = classify_image(classifier_state, jnp.expand_dims(image, axis=0))\n",
    "    \n",
    "    if is_cloud:\n",
    "        # Segment the image\n",
    "        mask_pred = segment_image(segmentation_state, jnp.expand_dims(image, axis=0))\n",
    "        return image.squeeze(), mask_pred.squeeze(), True\n",
    "    else:\n",
    "        return image.squeeze(), None, False\n"
   ]
  },
  {
   "cell_type": "markdown",
   "metadata": {},
   "source": [
    "## Classify and Segment Images\n"
   ]
  },
  {
   "cell_type": "code",
   "execution_count": null,
   "metadata": {},
   "outputs": [],
   "source": [
    "# List to store results\n",
    "results = []\n",
    "\n",
    "# Loop through images and process each\n",
    "for image_path in tqdm(image_paths):\n",
    "    image, mask_pred, is_cloud = classify_and_segment(image_path, classifier_state, segmentation_state)\n",
    "    results.append((image, mask_pred, is_cloud))\n",
    "\n",
    "# Plot results\n",
    "for i, (image, mask_pred, is_cloud) in enumerate(results[:10]):\n",
    "    plt.figure(figsize=(10, 5))\n",
    "    \n",
    "    plt.subplot(1, 3, 1)\n",
    "    plt.imshow(image, cmap='gray')\n",
    "    plt.title('Original Image')\n",
    "\n",
    "    if is_cloud:\n",
    "        plt.subplot(1, 3, 2)\n",
    "        plt.imshow(mask_pred, cmap='jet')\n",
    "        plt.title('Predicted Mask')\n",
    "    \n",
    "    plt.subplot(1, 3, 3)\n",
    "    plt.imshow(image, cmap='gray')\n",
    "    if is_cloud:\n",
    "        plt.imshow(mask_pred, cmap='jet', alpha=0.5)\n",
    "    plt.title('Overlay')\n",
    "    \n",
    "    plt.show()\n"
   ]
  },
  {
   "cell_type": "markdown",
   "metadata": {},
   "source": [
    "## Save Results"
   ]
  },
  {
   "cell_type": "code",
   "execution_count": null,
   "metadata": {},
   "outputs": [],
   "source": [
    "# Save the results to files\n",
    "output_dir = 'output/segmented_images'\n",
    "os.makedirs(output_dir, exist_ok=True)\n",
    "\n",
    "for i, (image, mask_pred, is_cloud) in enumerate(results):\n",
    "    image_path = os.path.join(output_dir, f'image_{i}.png')\n",
    "    plt.imsave(image_path, image, cmap='gray')\n",
    "    \n",
    "    if is_cloud:\n",
    "        mask_path = os.path.join(output_dir, f'mask_{i}.png')\n",
    "        plt.imsave(mask_path, mask_pred, cmap='jet')\n",
    "\n",
    "print(\"Results saved successfully.\")"
   ]
  },
  {
   "cell_type": "markdown",
   "metadata": {},
   "source": [
    "## Conclusion\n",
    "\n",
    "This notebook demonstrates how to classify images and segment clouds in the classified cloudy images using pre-trained classifier and segmentation models. The results are visualized and saved for further analysis.\n"
   ]
  }
 ],
 "metadata": {
  "language_info": {
   "name": "python"
  }
 },
 "nbformat": 4,
 "nbformat_minor": 2
}
