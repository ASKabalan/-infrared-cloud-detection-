{
 "cells": [
  {
   "cell_type": "markdown",
   "metadata": {},
   "source": [
    "## **Ground-truth masks generator**\n",
    "Author : *Kélian Sommer*<br>\n",
    "This notebook aims to generate a keras model that classifies images.\n",
    "Our objective is to create a robust model that can accurately distinguish between cloudy and clear sky images.\n",
    "Default image resolution of 640x512 is too large to process. Need to bin them in 4x4, i.e. 160x128.\n",
    "* Data Preprocessing: We'll explore techniques for preparing our data, including resizing, normalization, and data augmentation.\n",
    "* Model Building: Using Keras, we'll construct a Convolutional Neural Network (CNN) to learn intricate patterns in the sky images.\n",
    "* Model Training: We'll train our model on the prepared dataset, monitoring its performance throughout the training process.\n",
    "* Model Evaluation: After training, we'll evaluate the model's accuracy and visualize its performance using various metrics and charts."
   ]
  },
  {
   "cell_type": "code",
   "execution_count": null,
   "metadata": {},
   "outputs": [],
   "source": [
    "import optuna\n",
    "from optuna.integration import TFKerasPruningCallback\n",
    "from optuna.trial import TrialState\n",
    "from optuna.visualization import plot_intermediate_values\n",
    "from optuna.visualization import plot_optimization_history\n",
    "from optuna.visualization import plot_param_importances\n",
    "from optuna.visualization import plot_contour\n",
    "import matplotlib.pyplot as plt\n",
    "import tensorflow as tf\n",
    "from tensorflow import keras\n",
    "from tensorflow.keras.layers import *\n",
    "from tensorflow.keras import *\n",
    "from tensorflow.keras.callbacks import EarlyStopping\n",
    "from tensorflow.keras.callbacks import LearningRateScheduler\n",
    "from tensorflow.keras.optimizers.schedules import ExponentialDecay\n",
    "from sklearn.preprocessing import RobustScaler, normalize\n",
    "from sklearn.model_selection import train_test_split\n",
    "\n",
    "from astropy.io import fits\n",
    "import numpy as np\n",
    "import glob\n",
    "\n",
    "from utilities import *\n",
    "from mask_generator import *\n",
    "\n",
    "import multiprocessing\n",
    "num_cores = multiprocessing.cpu_count()\n",
    "from joblib import parallel_backend, Parallel, delayed\n",
    "from dask.distributed import Client\n",
    "client = Client()"
   ]
  },
  {
   "cell_type": "markdown",
   "metadata": {},
   "source": [
    "#### **Read FITS files : cloudy and clear (= synthetic) images**"
   ]
  },
  {
   "cell_type": "code",
   "execution_count": 2,
   "metadata": {},
   "outputs": [],
   "source": [
    "def read_fits_data(filename, shape=(128, 160)):\n",
    "    data = fits.getdata(filename)\n",
    "    data = rebin(data, shape)\n",
    "    return data\n",
    "\n",
    "cloud_images_names = glob.glob('../CLASSIFICATION_TEST/CLOUD/*.fits')\n",
    "clear_images_names = glob.glob('../CLASSIFICATION_TEST/SIM_CLEAR/*.fits')"
   ]
  },
  {
   "cell_type": "code",
   "execution_count": 3,
   "metadata": {},
   "outputs": [
    {
     "name": "stderr",
     "output_type": "stream",
     "text": [
      "[Parallel(n_jobs=8)]: Using backend ThreadingBackend with 8 concurrent workers.\n",
      "[Parallel(n_jobs=8)]: Done   2 tasks      | elapsed:    0.0s\n",
      "[Parallel(n_jobs=8)]: Done  56 tasks      | elapsed:    0.1s\n",
      "[Parallel(n_jobs=8)]: Done 146 tasks      | elapsed:    0.3s\n",
      "[Parallel(n_jobs=8)]: Done 272 tasks      | elapsed:    0.7s\n",
      "[Parallel(n_jobs=8)]: Done 434 tasks      | elapsed:    1.1s\n",
      "[Parallel(n_jobs=8)]: Done 632 tasks      | elapsed:    1.5s\n",
      "[Parallel(n_jobs=8)]: Done 866 tasks      | elapsed:    1.9s\n",
      "[Parallel(n_jobs=8)]: Done 1136 tasks      | elapsed:    2.4s\n",
      "[Parallel(n_jobs=8)]: Done 1413 out of 1413 | elapsed:    2.9s finished\n"
     ]
    }
   ],
   "source": [
    "with parallel_backend('threading', n_jobs=num_cores):\n",
    "    cloud_images_data = Parallel(verbose=5)(delayed(read_fits_data)(filename = filename) for filename in cloud_images_names)\n",
    "\n",
    "cloud_images_data = np.array(cloud_images_data)"
   ]
  },
  {
   "cell_type": "code",
   "execution_count": 4,
   "metadata": {},
   "outputs": [
    {
     "name": "stderr",
     "output_type": "stream",
     "text": [
      "[Parallel(n_jobs=8)]: Using backend ThreadingBackend with 8 concurrent workers.\n",
      "[Parallel(n_jobs=8)]: Done   2 tasks      | elapsed:    0.0s\n",
      "[Parallel(n_jobs=8)]: Done  56 tasks      | elapsed:    0.1s\n",
      "[Parallel(n_jobs=8)]: Done 146 tasks      | elapsed:    0.1s\n",
      "[Parallel(n_jobs=8)]: Done 272 tasks      | elapsed:    0.3s\n",
      "[Parallel(n_jobs=8)]: Done 434 tasks      | elapsed:    0.4s\n",
      "[Parallel(n_jobs=8)]: Done 632 tasks      | elapsed:    0.6s\n",
      "[Parallel(n_jobs=8)]: Done 866 tasks      | elapsed:    0.8s\n",
      "[Parallel(n_jobs=8)]: Done 1136 tasks      | elapsed:    1.2s\n",
      "[Parallel(n_jobs=8)]: Done 1442 tasks      | elapsed:    1.7s\n",
      "[Parallel(n_jobs=8)]: Done 1784 tasks      | elapsed:    2.5s\n",
      "[Parallel(n_jobs=8)]: Done 2000 out of 2000 | elapsed:    3.0s finished\n"
     ]
    }
   ],
   "source": [
    "with parallel_backend('threading', n_jobs=num_cores):\n",
    "    clear_images_data = Parallel(verbose=5)(delayed(read_fits_data)(filename = filename) for filename in clear_images_names)\n",
    "\n",
    "clear_images_data = np.array(clear_images_data)"
   ]
  },
  {
   "cell_type": "code",
   "execution_count": 5,
   "metadata": {},
   "outputs": [
    {
     "data": {
      "text/plain": [
       "((1413, 128, 160), (2000, 128, 160))"
      ]
     },
     "execution_count": 5,
     "metadata": {},
     "output_type": "execute_result"
    }
   ],
   "source": [
    "cloud_images_data.shape, clear_images_data.shape"
   ]
  },
  {
   "cell_type": "markdown",
   "metadata": {},
   "source": [
    "#### **Data pre-processing : split into test, train, validation + normalize + create truth labels**"
   ]
  },
  {
   "cell_type": "code",
   "execution_count": 6,
   "metadata": {},
   "outputs": [],
   "source": [
    "# Normalize pixel values to be between 0 and 1\n",
    "norm = 2**14\n",
    "cloud_images_data, test_images = cloud_images_data / norm, clear_images_data / norm"
   ]
  },
  {
   "cell_type": "code",
   "execution_count": 7,
   "metadata": {},
   "outputs": [],
   "source": [
    "# 1 = cloud\n",
    "# 0 = clear\n",
    "\n",
    "cloud_labels = np.array(np.full(len(cloud_images_data), 1), dtype=np.uint8).reshape(-1, 1)\n",
    "clear_labels = np.array(np.full(len(clear_images_data), 0), dtype=np.uint8).reshape(-1, 1)"
   ]
  },
  {
   "cell_type": "code",
   "execution_count": 8,
   "metadata": {},
   "outputs": [],
   "source": [
    "train = np.concatenate([cloud_images_data, clear_images_data])\n",
    "targets = np.concatenate([cloud_labels, clear_labels])"
   ]
  },
  {
   "cell_type": "code",
   "execution_count": 9,
   "metadata": {},
   "outputs": [
    {
     "data": {
      "text/plain": [
       "((3413, 128, 160), (3413, 1))"
      ]
     },
     "execution_count": 9,
     "metadata": {},
     "output_type": "execute_result"
    }
   ],
   "source": [
    "train.shape, targets.shape"
   ]
  },
  {
   "cell_type": "code",
   "execution_count": 10,
   "metadata": {},
   "outputs": [
    {
     "data": {
      "text/plain": [
       "((2730, 128, 160), (546, 128, 160), (137, 128, 160))"
      ]
     },
     "execution_count": 10,
     "metadata": {},
     "output_type": "execute_result"
    }
   ],
   "source": [
    "X_train, X_test, y_train, y_test = train_test_split(train, targets, test_size=0.2, random_state=21)\n",
    "X_test, X_valid, y_test, y_valid = train_test_split(X_test, y_test, test_size=0.2, random_state=21)\n",
    "X_train.shape, X_test.shape, X_valid.shape"
   ]
  },
  {
   "cell_type": "markdown",
   "metadata": {},
   "source": [
    "#### **Function to detect if GPU is available and does black magic**"
   ]
  },
  {
   "cell_type": "code",
   "execution_count": 11,
   "metadata": {},
   "outputs": [],
   "source": [
    "# Function to get hardware strategy\n",
    "def get_hardware_strategy():\n",
    "    try:\n",
    "        # TPU detection. No parameters necessary if TPU_NAME environment variable is\n",
    "        # set: this is always the case on Kaggle.\n",
    "        tpu = tf.distribute.cluster_resolver.TPUClusterResolver()\n",
    "        print('Running on TPU ', tpu.master())\n",
    "    except ValueError:\n",
    "        tpu = None\n",
    "\n",
    "    if tpu:\n",
    "        tf.config.experimental_connect_to_cluster(tpu)\n",
    "        tf.tpu.experimental.initialize_tpu_system(tpu)\n",
    "        strategy = tf.distribute.experimental.TPUStrategy(tpu)\n",
    "        tf.config.optimizer.set_jit(True)\n",
    "    else:\n",
    "        # Default distribution strategy in Tensorflow. Works on CPU and single GPU.\n",
    "        strategy = tf.distribute.get_strategy()\n",
    "\n",
    "    return tpu, strategy\n",
    "\n",
    "tpu, strategy = get_hardware_strategy()"
   ]
  },
  {
   "cell_type": "markdown",
   "metadata": {},
   "source": [
    "#### **Define objective function for Optuna hyperparameter optimization**"
   ]
  },
  {
   "cell_type": "code",
   "execution_count": 12,
   "metadata": {},
   "outputs": [],
   "source": [
    "EPOCHS = 10 # number of epochs per trial\n",
    "BATCH_SIZE = 32 # batch size\n",
    "\n",
    "def objective(trial):\n",
    "    # Clear clutter from previous session graphs.\n",
    "    keras.backend.clear_session()\n",
    "    \n",
    "    with strategy.scope():\n",
    "        # Generate our trial model.\n",
    "\n",
    "        # Define a search space for the number of layers\n",
    "        num_layers = trial.suggest_int('num_layers', 1, 5)\n",
    "\n",
    "        model = keras.Sequential()\n",
    "\n",
    "        # Add the input layer\n",
    "        model.add(keras.layers.Conv2D(32, (3, 3), padding='same', activation='relu', input_shape=(128, 160, 1)))\n",
    "        model.add(keras.layers.MaxPooling2D((2, 2), padding='same'))\n",
    "\n",
    "        # Add the hidden layers based on the suggested number of layers\n",
    "        for i in range(num_layers):\n",
    "            num_filters = trial.suggest_int(f'num_filters_layer{i}', 8, 64)\n",
    "            model.add(keras.layers.Conv2D(num_filters, (3, 3), padding='same', activation='relu'))\n",
    "            model.add(keras.layers.MaxPooling2D((2, 2), padding='same'))\n",
    "\n",
    "        model.add(keras.layers.Flatten())\n",
    "        model.add(keras.layers.Dense(8, activation='relu'))\n",
    "        model.add(keras.layers.Dense(2))\n",
    "\n",
    "        optimizer = tf.keras.optimizers.Adam(learning_rate=0.001)\n",
    "        #loss = tf.keras.losses.BinaryCrossentropy()\n",
    "        loss = tf.keras.losses.SparseCategoricalCrossentropy(from_logits=True)\n",
    "        metrics = ['accuracy']\n",
    "\n",
    "        model.compile(optimizer=optimizer, loss=loss, metrics=metrics)\n",
    "\n",
    "        early_stopping = tf.keras.callbacks.EarlyStopping(monitor='val_loss', patience=15, min_delta=0.01, mode='auto', baseline=None, restore_best_weights=True)\n",
    "        lr_schedule = tf.keras.callbacks.LearningRateScheduler(lambda epoch: 0.001 * 0.5 ** (epoch // 10) , verbose=1)\n",
    "\n",
    "        history = model.fit(X_train, y_train, batch_size=BATCH_SIZE, epochs=EPOCHS, callbacks=[lr_schedule, early_stopping],\n",
    "                            validation_data=(X_test, y_test), verbose=1)\n",
    "\n",
    "        # Evaluate the model accuracy on the validation set.\n",
    "        #score = model.evaluate(X_valid, y_valid, verbose=1)\n",
    "\n",
    "        # Return the validation loss as the objective to minimize\n",
    "        return history.history['val_loss'][-1]\n",
    "        #return score[1]"
   ]
  },
  {
   "cell_type": "code",
   "execution_count": 13,
   "metadata": {},
   "outputs": [
    {
     "name": "stderr",
     "output_type": "stream",
     "text": [
      "[I 2023-09-01 18:21:26,090] A new study created in memory with name: no-name-b8de2eb5-edd5-45a6-a743-63b19bd161f0\n"
     ]
    },
    {
     "name": "stdout",
     "output_type": "stream",
     "text": [
      "\n",
      "Epoch 1: LearningRateScheduler setting learning rate to 0.001.\n",
      "Epoch 1/10\n",
      "86/86 [==============================] - 7s 72ms/step - loss: 7.0445 - accuracy: 0.5857 - val_loss: 0.6857 - val_accuracy: 0.5861 - lr: 0.0010\n",
      "\n",
      "Epoch 2: LearningRateScheduler setting learning rate to 0.001.\n",
      "Epoch 2/10\n",
      "86/86 [==============================] - 9s 108ms/step - loss: 0.6834 - accuracy: 0.5872 - val_loss: 0.6817 - val_accuracy: 0.5861 - lr: 0.0010\n",
      "\n",
      "Epoch 3: LearningRateScheduler setting learning rate to 0.001.\n",
      "Epoch 3/10\n",
      "86/86 [==============================] - 9s 102ms/step - loss: 0.6804 - accuracy: 0.5872 - val_loss: 0.6797 - val_accuracy: 0.5861 - lr: 0.0010\n",
      "\n",
      "Epoch 4: LearningRateScheduler setting learning rate to 0.001.\n",
      "Epoch 4/10\n",
      "86/86 [==============================] - 9s 106ms/step - loss: 0.6789 - accuracy: 0.5872 - val_loss: 0.6789 - val_accuracy: 0.5861 - lr: 0.0010\n",
      "\n",
      "Epoch 5: LearningRateScheduler setting learning rate to 0.001.\n",
      "Epoch 5/10\n",
      "86/86 [==============================] - 9s 104ms/step - loss: 0.6783 - accuracy: 0.5872 - val_loss: 0.6785 - val_accuracy: 0.5861 - lr: 0.0010\n",
      "\n",
      "Epoch 6: LearningRateScheduler setting learning rate to 0.001.\n",
      "Epoch 6/10\n",
      "86/86 [==============================] - 9s 102ms/step - loss: 0.6781 - accuracy: 0.5872 - val_loss: 0.6784 - val_accuracy: 0.5861 - lr: 0.0010\n",
      "\n",
      "Epoch 7: LearningRateScheduler setting learning rate to 0.001.\n",
      "Epoch 7/10\n",
      "86/86 [==============================] - 9s 104ms/step - loss: 0.6780 - accuracy: 0.5872 - val_loss: 0.6783 - val_accuracy: 0.5861 - lr: 0.0010\n",
      "\n",
      "Epoch 8: LearningRateScheduler setting learning rate to 0.001.\n",
      "Epoch 8/10\n",
      "86/86 [==============================] - 9s 105ms/step - loss: 0.6780 - accuracy: 0.5872 - val_loss: 0.6783 - val_accuracy: 0.5861 - lr: 0.0010\n",
      "\n",
      "Epoch 9: LearningRateScheduler setting learning rate to 0.001.\n",
      "Epoch 9/10\n",
      "86/86 [==============================] - 10s 112ms/step - loss: 0.6779 - accuracy: 0.5872 - val_loss: 0.6783 - val_accuracy: 0.5861 - lr: 0.0010\n",
      "\n",
      "Epoch 10: LearningRateScheduler setting learning rate to 0.001.\n",
      "Epoch 10/10\n",
      "86/86 [==============================] - 9s 101ms/step - loss: 0.6779 - accuracy: 0.5872 - val_loss: 0.6783 - val_accuracy: 0.5861 - lr: 0.0010\n"
     ]
    },
    {
     "name": "stderr",
     "output_type": "stream",
     "text": [
      "[I 2023-09-01 18:22:54,575] Trial 0 finished with value: 0.6782540678977966 and parameters: {'num_layers': 1, 'num_filters_layer0': 45}. Best is trial 0 with value: 0.6782540678977966.\n"
     ]
    },
    {
     "name": "stdout",
     "output_type": "stream",
     "text": [
      "\n",
      "Epoch 1: LearningRateScheduler setting learning rate to 0.001.\n",
      "Epoch 1/10\n",
      "86/86 [==============================] - 9s 98ms/step - loss: 1.5386 - accuracy: 0.9527 - val_loss: 2.0392e-05 - val_accuracy: 1.0000 - lr: 0.0010\n",
      "\n",
      "Epoch 2: LearningRateScheduler setting learning rate to 0.001.\n",
      "Epoch 2/10\n",
      "86/86 [==============================] - 8s 94ms/step - loss: 2.4198e-06 - accuracy: 1.0000 - val_loss: 8.2355e-07 - val_accuracy: 1.0000 - lr: 0.0010\n",
      "\n",
      "Epoch 3: LearningRateScheduler setting learning rate to 0.001.\n",
      "Epoch 3/10\n",
      "86/86 [==============================] - 8s 98ms/step - loss: 6.6534e-07 - accuracy: 1.0000 - val_loss: 5.2007e-07 - val_accuracy: 1.0000 - lr: 0.0010\n",
      "\n",
      "Epoch 4: LearningRateScheduler setting learning rate to 0.001.\n",
      "Epoch 4/10\n",
      "86/86 [==============================] - 9s 104ms/step - loss: 4.3300e-07 - accuracy: 1.0000 - val_loss: 3.5020e-07 - val_accuracy: 1.0000 - lr: 0.0010\n",
      "\n",
      "Epoch 5: LearningRateScheduler setting learning rate to 0.001.\n",
      "Epoch 5/10\n",
      "86/86 [==============================] - 10s 111ms/step - loss: 2.9868e-07 - accuracy: 1.0000 - val_loss: 2.4562e-07 - val_accuracy: 1.0000 - lr: 0.0010\n",
      "\n",
      "Epoch 6: LearningRateScheduler setting learning rate to 0.001.\n",
      "Epoch 6/10\n",
      "86/86 [==============================] - 8s 98ms/step - loss: 2.1266e-07 - accuracy: 1.0000 - val_loss: 1.7685e-07 - val_accuracy: 1.0000 - lr: 0.0010\n",
      "\n",
      "Epoch 7: LearningRateScheduler setting learning rate to 0.001.\n",
      "Epoch 7/10\n",
      "86/86 [==============================] - 9s 99ms/step - loss: 1.5152e-07 - accuracy: 1.0000 - val_loss: 1.2685e-07 - val_accuracy: 1.0000 - lr: 0.0010\n",
      "\n",
      "Epoch 8: LearningRateScheduler setting learning rate to 0.001.\n",
      "Epoch 8/10\n",
      "86/86 [==============================] - 8s 94ms/step - loss: 1.0428e-07 - accuracy: 1.0000 - val_loss: 7.8818e-08 - val_accuracy: 1.0000 - lr: 0.0010\n",
      "\n",
      "Epoch 9: LearningRateScheduler setting learning rate to 0.001.\n",
      "Epoch 9/10\n",
      "86/86 [==============================] - 8s 93ms/step - loss: 6.4845e-08 - accuracy: 1.0000 - val_loss: 4.7815e-08 - val_accuracy: 1.0000 - lr: 0.0010\n",
      "\n",
      "Epoch 10: LearningRateScheduler setting learning rate to 0.001.\n",
      "Epoch 10/10\n",
      "86/86 [==============================] - 8s 94ms/step - loss: 3.6112e-08 - accuracy: 1.0000 - val_loss: 2.2488e-08 - val_accuracy: 1.0000 - lr: 0.0010\n"
     ]
    },
    {
     "name": "stderr",
     "output_type": "stream",
     "text": [
      "[I 2023-09-01 18:24:20,507] Trial 1 finished with value: 2.2488197970460533e-08 and parameters: {'num_layers': 3, 'num_filters_layer0': 25, 'num_filters_layer1': 37, 'num_filters_layer2': 46}. Best is trial 1 with value: 2.2488197970460533e-08.\n"
     ]
    },
    {
     "name": "stdout",
     "output_type": "stream",
     "text": [
      "\n",
      "Epoch 1: LearningRateScheduler setting learning rate to 0.001.\n",
      "Epoch 1/10\n",
      "86/86 [==============================] - 13s 139ms/step - loss: 2.1467 - accuracy: 0.9187 - val_loss: 0.0034 - val_accuracy: 1.0000 - lr: 0.0010\n",
      "\n",
      "Epoch 2: LearningRateScheduler setting learning rate to 0.001.\n",
      "Epoch 2/10\n",
      "86/86 [==============================] - 12s 134ms/step - loss: 2.6938e-04 - accuracy: 1.0000 - val_loss: 2.7292e-08 - val_accuracy: 1.0000 - lr: 0.0010\n",
      "\n",
      "Epoch 3: LearningRateScheduler setting learning rate to 0.001.\n",
      "Epoch 3/10\n",
      "86/86 [==============================] - 11s 133ms/step - loss: 7.2050e-09 - accuracy: 1.0000 - val_loss: 6.5500e-10 - val_accuracy: 1.0000 - lr: 0.0010\n",
      "\n",
      "Epoch 4: LearningRateScheduler setting learning rate to 0.001.\n",
      "Epoch 4/10\n",
      "86/86 [==============================] - 11s 133ms/step - loss: 1.3537e-09 - accuracy: 1.0000 - val_loss: 4.3666e-10 - val_accuracy: 1.0000 - lr: 0.0010\n",
      "\n",
      "Epoch 5: LearningRateScheduler setting learning rate to 0.001.\n",
      "Epoch 5/10\n",
      "86/86 [==============================] - 12s 134ms/step - loss: 8.2966e-10 - accuracy: 1.0000 - val_loss: 4.3666e-10 - val_accuracy: 1.0000 - lr: 0.0010\n",
      "\n",
      "Epoch 6: LearningRateScheduler setting learning rate to 0.001.\n",
      "Epoch 6/10\n",
      "86/86 [==============================] - 12s 136ms/step - loss: 7.4233e-10 - accuracy: 1.0000 - val_loss: 4.3666e-10 - val_accuracy: 1.0000 - lr: 0.0010\n",
      "\n",
      "Epoch 7: LearningRateScheduler setting learning rate to 0.001.\n",
      "Epoch 7/10\n",
      "86/86 [==============================] - 12s 134ms/step - loss: 9.1699e-10 - accuracy: 1.0000 - val_loss: 4.3666e-10 - val_accuracy: 1.0000 - lr: 0.0010\n",
      "\n",
      "Epoch 8: LearningRateScheduler setting learning rate to 0.001.\n",
      "Epoch 8/10\n",
      "86/86 [==============================] - 11s 133ms/step - loss: 8.2966e-10 - accuracy: 1.0000 - val_loss: 4.3666e-10 - val_accuracy: 1.0000 - lr: 0.0010\n",
      "\n",
      "Epoch 9: LearningRateScheduler setting learning rate to 0.001.\n",
      "Epoch 9/10\n",
      "86/86 [==============================] - 12s 134ms/step - loss: 7.4233e-10 - accuracy: 1.0000 - val_loss: 4.3666e-10 - val_accuracy: 1.0000 - lr: 0.0010\n",
      "\n",
      "Epoch 10: LearningRateScheduler setting learning rate to 0.001.\n",
      "Epoch 10/10\n",
      "86/86 [==============================] - 12s 135ms/step - loss: 7.8600e-10 - accuracy: 1.0000 - val_loss: 4.3666e-10 - val_accuracy: 1.0000 - lr: 0.0010\n"
     ]
    },
    {
     "name": "stderr",
     "output_type": "stream",
     "text": [
      "[I 2023-09-01 18:26:18,153] Trial 2 finished with value: 4.3666403826136957e-10 and parameters: {'num_layers': 3, 'num_filters_layer0': 44, 'num_filters_layer1': 63, 'num_filters_layer2': 21}. Best is trial 2 with value: 4.3666403826136957e-10.\n"
     ]
    },
    {
     "name": "stdout",
     "output_type": "stream",
     "text": [
      "\n",
      "Epoch 1: LearningRateScheduler setting learning rate to 0.001.\n",
      "Epoch 1/10\n",
      "86/86 [==============================] - 8s 88ms/step - loss: 1.4328 - accuracy: 0.9608 - val_loss: 0.2572 - val_accuracy: 1.0000 - lr: 0.0010\n",
      "\n",
      "Epoch 2: LearningRateScheduler setting learning rate to 0.001.\n",
      "Epoch 2/10\n",
      "86/86 [==============================] - 7s 86ms/step - loss: 0.2418 - accuracy: 1.0000 - val_loss: 0.2278 - val_accuracy: 1.0000 - lr: 0.0010\n",
      "\n",
      "Epoch 3: LearningRateScheduler setting learning rate to 0.001.\n",
      "Epoch 3/10\n",
      "86/86 [==============================] - 7s 84ms/step - loss: 0.2144 - accuracy: 1.0000 - val_loss: 0.2024 - val_accuracy: 1.0000 - lr: 0.0010\n",
      "\n",
      "Epoch 4: LearningRateScheduler setting learning rate to 0.001.\n",
      "Epoch 4/10\n",
      "86/86 [==============================] - 7s 85ms/step - loss: 0.1907 - accuracy: 1.0000 - val_loss: 0.1802 - val_accuracy: 1.0000 - lr: 0.0010\n",
      "\n",
      "Epoch 5: LearningRateScheduler setting learning rate to 0.001.\n",
      "Epoch 5/10\n",
      "86/86 [==============================] - 8s 87ms/step - loss: 0.1700 - accuracy: 1.0000 - val_loss: 0.1607 - val_accuracy: 1.0000 - lr: 0.0010\n",
      "\n",
      "Epoch 6: LearningRateScheduler setting learning rate to 0.001.\n",
      "Epoch 6/10\n",
      "86/86 [==============================] - 7s 87ms/step - loss: 0.1520 - accuracy: 1.0000 - val_loss: 0.1440 - val_accuracy: 1.0000 - lr: 0.0010\n",
      "\n",
      "Epoch 7: LearningRateScheduler setting learning rate to 0.001.\n",
      "Epoch 7/10\n",
      "86/86 [==============================] - 8s 88ms/step - loss: 0.1362 - accuracy: 1.0000 - val_loss: 0.1294 - val_accuracy: 1.0000 - lr: 0.0010\n",
      "\n",
      "Epoch 8: LearningRateScheduler setting learning rate to 0.001.\n",
      "Epoch 8/10\n",
      "86/86 [==============================] - 8s 90ms/step - loss: 0.1225 - accuracy: 1.0000 - val_loss: 0.1164 - val_accuracy: 1.0000 - lr: 0.0010\n",
      "\n",
      "Epoch 9: LearningRateScheduler setting learning rate to 0.001.\n",
      "Epoch 9/10\n",
      "86/86 [==============================] - 8s 92ms/step - loss: 0.1105 - accuracy: 1.0000 - val_loss: 0.1052 - val_accuracy: 1.0000 - lr: 0.0010\n",
      "\n",
      "Epoch 10: LearningRateScheduler setting learning rate to 0.001.\n",
      "Epoch 10/10\n",
      "86/86 [==============================] - 8s 87ms/step - loss: 0.1001 - accuracy: 1.0000 - val_loss: 0.0954 - val_accuracy: 1.0000 - lr: 0.0010\n"
     ]
    },
    {
     "name": "stderr",
     "output_type": "stream",
     "text": [
      "[I 2023-09-01 18:27:34,847] Trial 3 finished with value: 0.09544511884450912 and parameters: {'num_layers': 3, 'num_filters_layer0': 26, 'num_filters_layer1': 19, 'num_filters_layer2': 17}. Best is trial 2 with value: 4.3666403826136957e-10.\n"
     ]
    },
    {
     "name": "stdout",
     "output_type": "stream",
     "text": [
      "\n",
      "Epoch 1: LearningRateScheduler setting learning rate to 0.001.\n",
      "Epoch 1/10\n",
      "86/86 [==============================] - 11s 123ms/step - loss: 1.9384 - accuracy: 0.9487 - val_loss: 3.1359e-06 - val_accuracy: 1.0000 - lr: 0.0010\n",
      "\n",
      "Epoch 2: LearningRateScheduler setting learning rate to 0.001.\n",
      "Epoch 2/10\n",
      "86/86 [==============================] - 12s 143ms/step - loss: 1.3060e-06 - accuracy: 1.0000 - val_loss: 7.2486e-07 - val_accuracy: 1.0000 - lr: 0.0010\n",
      "\n",
      "Epoch 3: LearningRateScheduler setting learning rate to 0.001.\n",
      "Epoch 3/10\n",
      "86/86 [==============================] - 11s 122ms/step - loss: 2.8305e-07 - accuracy: 1.0000 - val_loss: 4.9343e-08 - val_accuracy: 1.0000 - lr: 0.0010\n",
      "\n",
      "Epoch 4: LearningRateScheduler setting learning rate to 0.001.\n",
      "Epoch 4/10\n",
      "86/86 [==============================] - 10s 116ms/step - loss: 2.7684e-08 - accuracy: 1.0000 - val_loss: 4.3666e-10 - val_accuracy: 1.0000 - lr: 0.0010\n",
      "\n",
      "Epoch 5: LearningRateScheduler setting learning rate to 0.001.\n",
      "Epoch 5/10\n",
      "86/86 [==============================] - 11s 130ms/step - loss: 2.1833e-09 - accuracy: 1.0000 - val_loss: 4.3666e-10 - val_accuracy: 1.0000 - lr: 0.0010\n",
      "\n",
      "Epoch 6: LearningRateScheduler setting learning rate to 0.001.\n",
      "Epoch 6/10\n",
      "86/86 [==============================] - 12s 139ms/step - loss: 4.8033e-10 - accuracy: 1.0000 - val_loss: 0.0000e+00 - val_accuracy: 1.0000 - lr: 0.0010\n",
      "\n",
      "Epoch 7: LearningRateScheduler setting learning rate to 0.001.\n",
      "Epoch 7/10\n",
      "86/86 [==============================] - 13s 156ms/step - loss: 0.0000e+00 - accuracy: 1.0000 - val_loss: 0.0000e+00 - val_accuracy: 1.0000 - lr: 0.0010\n",
      "\n",
      "Epoch 8: LearningRateScheduler setting learning rate to 0.001.\n",
      "Epoch 8/10\n",
      "86/86 [==============================] - 10s 121ms/step - loss: 0.0000e+00 - accuracy: 1.0000 - val_loss: 0.0000e+00 - val_accuracy: 1.0000 - lr: 0.0010\n",
      "\n",
      "Epoch 9: LearningRateScheduler setting learning rate to 0.001.\n",
      "Epoch 9/10\n",
      "86/86 [==============================] - 11s 127ms/step - loss: 0.0000e+00 - accuracy: 1.0000 - val_loss: 0.0000e+00 - val_accuracy: 1.0000 - lr: 0.0010\n",
      "\n",
      "Epoch 10: LearningRateScheduler setting learning rate to 0.001.\n",
      "Epoch 10/10\n",
      "86/86 [==============================] - 12s 138ms/step - loss: 0.0000e+00 - accuracy: 1.0000 - val_loss: 0.0000e+00 - val_accuracy: 1.0000 - lr: 0.0010\n"
     ]
    },
    {
     "name": "stderr",
     "output_type": "stream",
     "text": [
      "[I 2023-09-01 18:29:29,301] Trial 4 finished with value: 0.0 and parameters: {'num_layers': 2, 'num_filters_layer0': 45, 'num_filters_layer1': 29}. Best is trial 4 with value: 0.0.\n"
     ]
    },
    {
     "name": "stdout",
     "output_type": "stream",
     "text": [
      "Best hyperparameters: {'num_layers': 2, 'num_filters_layer0': 45, 'num_filters_layer1': 29}\n",
      "Best validation loss: 0.0\n"
     ]
    }
   ],
   "source": [
    "# Create a study object to manage the optimization process\n",
    "study = optuna.create_study(direction='minimize')\n",
    "\n",
    "# Start the optimization process\n",
    "study.optimize(objective, n_trials=5)  # You can adjust the number of trials\n",
    "\n",
    "# Print the best hyperparameters found\n",
    "best_params = study.best_params\n",
    "best_loss = study.best_value\n",
    "print(\"Best hyperparameters:\", best_params)\n",
    "print(\"Best validation loss:\", best_loss)"
   ]
  },
  {
   "cell_type": "markdown",
   "metadata": {},
   "source": [
    "#### **Create model with best parameters from Optuna**"
   ]
  },
  {
   "cell_type": "code",
   "execution_count": 20,
   "metadata": {},
   "outputs": [],
   "source": [
    "# Initialize lists to store accuracy values\n",
    "accuracy_values = []\n",
    "\n",
    "# Retrieve the best trial and best hyperparameters\n",
    "best_trial = study.best_trial\n",
    "best_params = best_trial.params"
   ]
  },
  {
   "cell_type": "code",
   "execution_count": 21,
   "metadata": {},
   "outputs": [
    {
     "name": "stdout",
     "output_type": "stream",
     "text": [
      "\n",
      "Epoch 1: LearningRateScheduler setting learning rate to 0.001.\n",
      "Epoch 1/10\n",
      "86/86 [==============================] - 9s 98ms/step - loss: 0.2821 - accuracy: 0.9722 - val_loss: 0.2785 - val_accuracy: 1.0000 - lr: 0.0010\n",
      "\n",
      "Epoch 2: LearningRateScheduler setting learning rate to 0.001.\n",
      "Epoch 2/10\n",
      "86/86 [==============================] - 12s 143ms/step - loss: 0.2738 - accuracy: 1.0000 - val_loss: 0.2704 - val_accuracy: 1.0000 - lr: 0.0010\n",
      "\n",
      "Epoch 3: LearningRateScheduler setting learning rate to 0.001.\n",
      "Epoch 3/10\n",
      "86/86 [==============================] - 10s 122ms/step - loss: 0.2649 - accuracy: 1.0000 - val_loss: 0.2605 - val_accuracy: 1.0000 - lr: 0.0010\n",
      "\n",
      "Epoch 4: LearningRateScheduler setting learning rate to 0.001.\n",
      "Epoch 4/10\n",
      "86/86 [==============================] - 11s 123ms/step - loss: 0.2549 - accuracy: 1.0000 - val_loss: 0.2504 - val_accuracy: 1.0000 - lr: 0.0010\n",
      "\n",
      "Epoch 5: LearningRateScheduler setting learning rate to 0.001.\n",
      "Epoch 5/10\n",
      "86/86 [==============================] - 10s 121ms/step - loss: 0.2442 - accuracy: 1.0000 - val_loss: 0.2390 - val_accuracy: 1.0000 - lr: 0.0010\n",
      "\n",
      "Epoch 6: LearningRateScheduler setting learning rate to 0.001.\n",
      "Epoch 6/10\n",
      "86/86 [==============================] - 10s 117ms/step - loss: 0.2323 - accuracy: 1.0000 - val_loss: 0.2264 - val_accuracy: 1.0000 - lr: 0.0010\n",
      "\n",
      "Epoch 7: LearningRateScheduler setting learning rate to 0.001.\n",
      "Epoch 7/10\n",
      "86/86 [==============================] - 10s 117ms/step - loss: 0.2186 - accuracy: 1.0000 - val_loss: 0.2112 - val_accuracy: 1.0000 - lr: 0.0010\n",
      "\n",
      "Epoch 8: LearningRateScheduler setting learning rate to 0.001.\n",
      "Epoch 8/10\n",
      "86/86 [==============================] - 10s 118ms/step - loss: 0.2017 - accuracy: 1.0000 - val_loss: 0.1923 - val_accuracy: 1.0000 - lr: 0.0010\n",
      "\n",
      "Epoch 9: LearningRateScheduler setting learning rate to 0.001.\n",
      "Epoch 9/10\n",
      "86/86 [==============================] - 10s 118ms/step - loss: 0.1805 - accuracy: 1.0000 - val_loss: 0.1683 - val_accuracy: 1.0000 - lr: 0.0010\n",
      "\n",
      "Epoch 10: LearningRateScheduler setting learning rate to 0.001.\n",
      "Epoch 10/10\n",
      "86/86 [==============================] - 10s 118ms/step - loss: 0.1542 - accuracy: 1.0000 - val_loss: 0.1397 - val_accuracy: 1.0000 - lr: 0.0010\n"
     ]
    }
   ],
   "source": [
    "model = keras.Sequential()\n",
    "\n",
    "# Add the input layer\n",
    "model.add(keras.layers.Conv2D(32, (3, 3), padding='same', activation='relu', input_shape=(128, 160, 1)))\n",
    "model.add(keras.layers.MaxPooling2D((2, 2), padding='same'))\n",
    "\n",
    "# Add the hidden layers based on the suggested number of layers\n",
    "for i in range(best_params['num_layers']):\n",
    "    num_filters = best_params[f'num_filters_layer{i}']\n",
    "    model.add(keras.layers.Conv2D(num_filters, (3, 3), padding='same', activation='relu'))\n",
    "    model.add(keras.layers.MaxPooling2D((2, 2), padding='same'))\n",
    "\n",
    "model.add(keras.layers.Flatten())\n",
    "model.add(keras.layers.Dense(8, activation='relu'))\n",
    "model.add(keras.layers.Dense(2))\n",
    "\n",
    "#optimizer = tf.keras.optimizers.Adam(learning_rate=0.001)\n",
    "#loss = tf.keras.losses.BinaryCrossentropy()\n",
    "optimizer = tf.keras.optimizers.SGD(learning_rate=0.001)\n",
    "loss = tf.keras.losses.SparseCategoricalCrossentropy(from_logits=True)\n",
    "metrics = ['accuracy']\n",
    "\n",
    "model.compile(optimizer=optimizer, loss=loss, metrics=metrics)\n",
    "\n",
    "early_stopping = tf.keras.callbacks.EarlyStopping(monitor='val_loss', patience=15, min_delta=0.01, mode='auto', baseline=None, restore_best_weights=True)\n",
    "lr_schedule = tf.keras.callbacks.LearningRateScheduler(lambda epoch: 0.001 * 0.5 ** (epoch // 10) , verbose=1)\n",
    "\n",
    "history = model.fit(X_train, y_train, batch_size=BATCH_SIZE, epochs=EPOCHS, callbacks=[lr_schedule, early_stopping],\n",
    "                    validation_data=(X_test, y_test), verbose=1)"
   ]
  },
  {
   "cell_type": "code",
   "execution_count": 49,
   "metadata": {},
   "outputs": [],
   "source": [
    "model.save('image_classificaton.keras')\n",
    "#model = keras.models.load_model('path/to/location.keras')"
   ]
  },
  {
   "cell_type": "code",
   "execution_count": 29,
   "metadata": {},
   "outputs": [
    {
     "data": {
      "text/plain": [
       "{'loss': [0.2820616662502289,\n",
       "  0.27382969856262207,\n",
       "  0.26486754417419434,\n",
       "  0.2549055814743042,\n",
       "  0.24421489238739014,\n",
       "  0.23234060406684875,\n",
       "  0.21861211955547333,\n",
       "  0.20172327756881714,\n",
       "  0.1804884523153305,\n",
       "  0.15423788130283356],\n",
       " 'accuracy': [0.9721611738204956, 1.0, 1.0, 1.0, 1.0, 1.0, 1.0, 1.0, 1.0, 1.0],\n",
       " 'val_loss': [0.2784644365310669,\n",
       "  0.27041754126548767,\n",
       "  0.2605351507663727,\n",
       "  0.25035059452056885,\n",
       "  0.23899589478969574,\n",
       "  0.22637632489204407,\n",
       "  0.2111724466085434,\n",
       "  0.19226036965847015,\n",
       "  0.16832271218299866,\n",
       "  0.13968388736248016],\n",
       " 'val_accuracy': [1.0, 1.0, 1.0, 1.0, 1.0, 1.0, 1.0, 1.0, 1.0, 1.0],\n",
       " 'lr': [0.001, 0.001, 0.001, 0.001, 0.001, 0.001, 0.001, 0.001, 0.001, 0.001]}"
      ]
     },
     "execution_count": 29,
     "metadata": {},
     "output_type": "execute_result"
    }
   ],
   "source": [
    "history.history"
   ]
  },
  {
   "cell_type": "markdown",
   "metadata": {},
   "source": [
    "#### **Metrics and other evaluation things...**"
   ]
  },
  {
   "cell_type": "code",
   "execution_count": 31,
   "metadata": {},
   "outputs": [
    {
     "data": {
      "text/plain": [
       "<matplotlib.legend.Legend at 0x7f23ffd82b80>"
      ]
     },
     "execution_count": 31,
     "metadata": {},
     "output_type": "execute_result"
    },
    {
     "data": {
      "image/png": "[encoded data removed]",
      "text/plain": [
       "<Figure size 640x480 with 1 Axes>"
      ]
     },
     "metadata": {},
     "output_type": "display_data"
    }
   ],
   "source": [
    "plt.figure()\n",
    "plt.plot(history.history['accuracy'], label='accuracy')\n",
    "plt.plot(history.history['val_accuracy'], label = 'val_accuracy')\n",
    "plt.plot(history.history['loss'], label = 'loss')\n",
    "plt.plot(history.history['val_loss'], label = 'val_loss')\n",
    "plt.xlabel('Epoch')\n",
    "plt.ylabel('Accuracy')\n",
    "#plt.ylim([0.5, 1])\n",
    "plt.legend(loc='lower right')\n"
   ]
  },
  {
   "cell_type": "code",
   "execution_count": 23,
   "metadata": {},
   "outputs": [
    {
     "name": "stdout",
     "output_type": "stream",
     "text": [
      "18/18 - 1s - loss: 0.1397 - accuracy: 1.0000 - 569ms/epoch - 32ms/step\n",
      "1.0\n"
     ]
    }
   ],
   "source": [
    "test_loss, test_acc = model.evaluate(X_test, y_test, verbose=2)\n",
    "print(test_acc)"
   ]
  },
  {
   "cell_type": "code",
   "execution_count": 24,
   "metadata": {},
   "outputs": [
    {
     "name": "stdout",
     "output_type": "stream",
     "text": [
      "5/5 - 0s - loss: 0.1478 - accuracy: 1.0000 - 169ms/epoch - 34ms/step\n",
      "1.0\n"
     ]
    }
   ],
   "source": [
    "test_loss, test_acc = model.evaluate(X_valid, y_valid, verbose=2)\n",
    "print(test_acc)"
   ]
  },
  {
   "cell_type": "code",
   "execution_count": 36,
   "metadata": {},
   "outputs": [
    {
     "name": "stdout",
     "output_type": "stream",
     "text": [
      "18/18 [==============================] - 0s 24ms/step\n"
     ]
    }
   ],
   "source": [
    "predict_x=model.predict(X_test) \n",
    "classes_x=np.argmax(predict_x,axis=1)"
   ]
  },
  {
   "cell_type": "code",
   "execution_count": 37,
   "metadata": {},
   "outputs": [
    {
     "data": {
      "text/plain": [
       "array([1, 1, 1, 1, 0, 0, 1, 1, 0, 0, 0, 1, 0, 0, 0, 0, 0, 0, 0, 0, 0, 0,\n",
       "       0, 0, 0, 1, 1, 1, 1, 1, 1, 1, 1, 1, 1, 0, 1, 0, 1, 0, 0, 1, 0, 0,\n",
       "       0, 1, 0, 1, 0, 0, 1, 0, 0, 1, 0, 0, 1, 1, 1, 1, 1, 0, 1, 1, 1, 0,\n",
       "       0, 0, 0, 0, 0, 0, 0, 0, 1, 0, 0, 1, 0, 0, 0, 0, 1, 1, 1, 1, 1, 0,\n",
       "       1, 1, 0, 0, 1, 0, 1, 0, 0, 1, 0, 0, 0, 1, 1, 0, 1, 1, 0, 0, 0, 0,\n",
       "       0, 1, 1, 0, 0, 1, 0, 0, 0, 1, 0, 0, 0, 0, 0, 1, 0, 0, 1, 0, 1, 0,\n",
       "       0, 1, 0, 0, 0, 1, 0, 1, 1, 0, 0, 0, 0, 0, 1, 0, 0, 1, 1, 1, 1, 1,\n",
       "       0, 1, 0, 0, 0, 1, 0, 0, 0, 0, 0, 0, 0, 0, 0, 0, 0, 0, 1, 0, 1, 0,\n",
       "       1, 1, 0, 1, 0, 0, 1, 0, 0, 0, 1, 1, 1, 0, 1, 1, 1, 0, 0, 1, 1, 0,\n",
       "       0, 1, 1, 0, 1, 0, 0, 0, 0, 1, 1, 1, 0, 1, 0, 0, 1, 1, 0, 1, 1, 1,\n",
       "       1, 0, 1, 1, 1, 0, 1, 0, 0, 0, 0, 0, 0, 0, 1, 1, 1, 0, 1, 1, 0, 1,\n",
       "       0, 1, 0, 1, 0, 0, 0, 0, 0, 0, 0, 1, 0, 0, 0, 0, 0, 0, 1, 1, 0, 1,\n",
       "       0, 0, 1, 0, 1, 0, 1, 0, 0, 0, 0, 1, 1, 0, 1, 0, 0, 0, 0, 0, 1, 0,\n",
       "       0, 1, 1, 1, 1, 0, 1, 0, 0, 1, 0, 0, 0, 1, 0, 1, 1, 1, 1, 1, 1, 1,\n",
       "       0, 0, 0, 1, 0, 1, 1, 0, 0, 1, 1, 0, 0, 1, 1, 0, 1, 1, 0, 1, 1, 1,\n",
       "       0, 0, 0, 0, 0, 0, 0, 0, 0, 1, 1, 0, 0, 0, 0, 0, 1, 1, 0, 0, 0, 1,\n",
       "       1, 0, 0, 1, 1, 1, 1, 0, 0, 0, 1, 1, 0, 1, 0, 1, 0, 1, 0, 0, 0, 0,\n",
       "       0, 0, 0, 0, 1, 0, 0, 1, 1, 1, 0, 0, 0, 0, 1, 1, 0, 0, 1, 0, 0, 1,\n",
       "       0, 0, 0, 0, 0, 1, 1, 1, 0, 1, 0, 0, 1, 1, 0, 1, 0, 1, 1, 1, 0, 0,\n",
       "       1, 1, 0, 0, 1, 1, 1, 0, 1, 0, 0, 1, 1, 1, 1, 0, 1, 0, 0, 1, 1, 1,\n",
       "       1, 1, 0, 0, 1, 0, 0, 0, 0, 0, 0, 0, 0, 0, 1, 0, 0, 1, 0, 0, 1, 0,\n",
       "       0, 1, 0, 0, 0, 1, 0, 0, 0, 0, 0, 0, 1, 1, 1, 1, 0, 0, 0, 0, 0, 0,\n",
       "       0, 1, 0, 0, 0, 0, 0, 0, 0, 0, 0, 1, 0, 0, 1, 0, 1, 0, 0, 0, 1, 0,\n",
       "       0, 1, 1, 0, 0, 0, 1, 0, 1, 0, 1, 1, 0, 1, 0, 1, 0, 1, 1, 1, 0, 0,\n",
       "       0, 0, 0, 0, 0, 0, 1, 1, 1, 1, 1, 0, 1, 0, 1, 0, 1, 0])"
      ]
     },
     "execution_count": 37,
     "metadata": {},
     "output_type": "execute_result"
    }
   ],
   "source": [
    "classes_x"
   ]
  },
  {
   "cell_type": "code",
   "execution_count": 40,
   "metadata": {},
   "outputs": [
    {
     "name": "stdout",
     "output_type": "stream",
     "text": [
      "5/5 [==============================] - 0s 20ms/step\n"
     ]
    }
   ],
   "source": [
    "from sklearn.metrics import precision_score\n",
    "predict_x=model.predict(X_valid) \n",
    "classes_x=np.argmax(predict_x,axis=1)"
   ]
  },
  {
   "cell_type": "code",
   "execution_count": 44,
   "metadata": {},
   "outputs": [
    {
     "data": {
      "text/plain": [
       "1.0"
      ]
     },
     "execution_count": 44,
     "metadata": {},
     "output_type": "execute_result"
    }
   ],
   "source": [
    "precision_score(y_true=y_valid, y_pred=classes_x, average='binary')"
   ]
  },
  {
   "cell_type": "code",
   "execution_count": 48,
   "metadata": {},
   "outputs": [
    {
     "data": {
      "text/plain": [
       "array([ True,  True,  True,  True,  True,  True,  True,  True,  True,\n",
       "        True,  True,  True,  True,  True,  True,  True,  True,  True,\n",
       "        True,  True,  True,  True,  True,  True,  True,  True,  True,\n",
       "        True,  True,  True,  True,  True,  True,  True,  True,  True,\n",
       "        True,  True,  True,  True,  True,  True,  True,  True,  True,\n",
       "        True,  True,  True,  True,  True,  True,  True,  True,  True,\n",
       "        True,  True,  True,  True,  True,  True,  True,  True,  True,\n",
       "        True,  True,  True,  True,  True,  True,  True,  True,  True,\n",
       "        True,  True,  True,  True,  True,  True,  True,  True,  True,\n",
       "        True,  True,  True,  True,  True,  True,  True,  True,  True,\n",
       "        True,  True,  True,  True,  True,  True,  True,  True,  True,\n",
       "        True,  True,  True,  True,  True,  True,  True,  True,  True,\n",
       "        True,  True,  True,  True,  True,  True,  True,  True,  True,\n",
       "        True,  True,  True,  True,  True,  True,  True,  True,  True,\n",
       "        True,  True,  True,  True,  True,  True,  True,  True,  True,\n",
       "        True,  True])"
      ]
     },
     "execution_count": 48,
     "metadata": {},
     "output_type": "execute_result"
    }
   ],
   "source": [
    "np.array(y_valid.flatten()) == classes_x"
   ]
  },
  {
   "cell_type": "code",
   "execution_count": null,
   "metadata": {},
   "outputs": [],
   "source": []
  }
 ],
 "metadata": {
  "kernelspec": {
   "display_name": "irml",
   "language": "python",
   "name": "python3"
  },
  "language_info": {
   "codemirror_mode": {
    "name": "ipython",
    "version": 3
   },
   "file_extension": ".py",
   "mimetype": "text/x-python",
   "name": "python",
   "nbconvert_exporter": "python",
   "pygments_lexer": "ipython3",
   "version": "3.9.17"
  },
  "orig_nbformat": 4
 },
 "nbformat": 4,
 "nbformat_minor": 2
}
