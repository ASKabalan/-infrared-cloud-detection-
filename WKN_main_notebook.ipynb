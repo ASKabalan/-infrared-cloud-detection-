{
  "cells": [
    {
      "cell_type": "markdown",
      "id": "b9fwoQ6ld2IX",
      "metadata": {
        "id": "b9fwoQ6ld2IX"
      },
      "source": [
        "## Imports"
      ]
    },
    {
      "cell_type": "code",
      "execution_count": null,
      "id": "b654b145-2aeb-48f8-aabb-46dcf128b3ae",
      "metadata": {
        "id": "b654b145-2aeb-48f8-aabb-46dcf128b3ae"
      },
      "outputs": [],
      "source": [
        "import tensorflow as tf\n",
        "import matplotlib.pyplot as plt\n",
        "import numpy as np\n",
        "from astropy.io import fits\n",
        "\n",
        "# Multiprocessing\n",
        "import multiprocessing\n",
        "from joblib import parallel_backend, Parallel, delayed\n",
        "from dask.distributed import Client\n",
        "num_cores = multiprocessing.cpu_count()\n",
        "client = Client()\n",
        "# Multiprocessing\n",
        "\n",
        "import glob\n",
        "import gc\n",
        "from sklearn.model_selection import train_test_split\n",
        "\n",
        "import utilities as util\n",
        "import augmentations as aug"
      ]
    },
    {
      "cell_type": "markdown",
      "id": "XGEPArzTd6eh",
      "metadata": {
        "id": "XGEPArzTd6eh"
      },
      "source": [
        "## Download files"
      ]
    },
    {
      "cell_type": "code",
      "execution_count": null,
      "id": "g-3M8WRfQpCl",
      "metadata": {
        "colab": {
          "base_uri": "https://localhost:8080/"
        },
        "id": "g-3M8WRfQpCl",
        "outputId": "779c7ceb-88f4-4000-d29b-f560eae2c2e5"
      },
      "outputs": [],
      "source": [
        "!wget 'https://filesender.renater.fr/download.php?token=6263a9b4-1dc1-4eb3-b63f-26582b4221fd&files_ids=28357145' -O MAKED_DATA.zip"
      ]
    },
    {
      "cell_type": "code",
      "execution_count": null,
      "id": "87P6JMFxQrsP",
      "metadata": {
        "id": "87P6JMFxQrsP"
      },
      "outputs": [],
      "source": [
        "!unzip MAKED_DATA.zip"
      ]
    },
    {
      "cell_type": "markdown",
      "id": "6uegbH9Md9Om",
      "metadata": {
        "id": "6uegbH9Md9Om"
      },
      "source": [
        "UNET Model Creation"
      ]
    },
    {
      "cell_type": "code",
      "execution_count": null,
      "id": "524441f6-567e-440d-8f23-1d837cb69ffb",
      "metadata": {
        "id": "524441f6-567e-440d-8f23-1d837cb69ffb"
      },
      "outputs": [],
      "source": [
        "input_shape = (512, 640, 1)\n",
        "output_channels = 1\n",
        "sigma_noise = 0\n",
        "channels_list = [128 , 64 , 32 , 32]\n",
        "\n",
        "kernel_initializer='glorot_uniform'\n",
        "#kernel_initializer='he_normal'\n",
        "\n",
        "def unet():\n",
        "    unet_input = tf.keras.layers.Input(shape=input_shape)\n",
        "\n",
        "    list_features = []\n",
        "    x = unet_input\n",
        "    for i, n_channels in enumerate(channels_list):\n",
        "        x = tf.keras.layers.Conv2D(n_channels, 3, activation='relu', kernel_initializer=kernel_initializer, padding='same', name=f'Encoder_conv_{i}')(x)\n",
        "        #print(f'encoder layer number {i} number of channel {n_channels}')\n",
        "        list_features.append((n_channels, x))\n",
        "        x = tf.keras.layers.MaxPooling2D(pool_size=2, strides=2, padding='same')(x)\n",
        "\n",
        "\n",
        "    for i, (n_channels, same_reso_features) in enumerate(reversed(list_features)):\n",
        "        #print(f'decoder layer number {i} number of channel {n_channels}')\n",
        "        #print(f'concat decoder layer number {i} number of channel {same_reso_features}')\n",
        "        x = tf.keras.layers.UpSampling2D(2)(x)\n",
        "        x = tf.keras.layers.Concatenate(axis=-1)([x, same_reso_features])\n",
        "        x = tf.keras.layers.Conv2D(n_channels, 3, activation='elu', padding='same', kernel_initializer=kernel_initializer, name=f'Decoder_conv_{i}')(x)\n",
        "\n",
        "    if sigma_noise > 0:\n",
        "            x = tf.keras.layers.GaussianNoise(sigma_noise)(x)\n",
        "\n",
        "    unet_output = tf.keras.layers.Conv2D(output_channels, 3, activation='sigmoid', padding='same')(x)\n",
        "\n",
        "    model = tf.keras.Model(unet_input, unet_output, name='unet')\n",
        "\n",
        "    return model"
      ]
    },
    {
      "cell_type": "code",
      "execution_count": null,
      "id": "79a3f8de-abf0-4977-a24d-d5d0ebe05140",
      "metadata": {
        "colab": {
          "base_uri": "https://localhost:8080/"
        },
        "id": "79a3f8de-abf0-4977-a24d-d5d0ebe05140",
        "outputId": "69cfaabc-72c9-4dca-8cec-fadc69b38f02"
      },
      "outputs": [],
      "source": [
        "gc.collect()"
      ]
    },
    {
      "cell_type": "code",
      "execution_count": null,
      "id": "19b60a22-047a-4a83-8062-06efb43ba4df",
      "metadata": {
        "id": "19b60a22-047a-4a83-8062-06efb43ba4df"
      },
      "outputs": [],
      "source": [
        "optimizer = tf.keras.optimizers.Adam(learning_rate=0.001)\n",
        "loss = tf.keras.losses.BinaryCrossentropy()\n",
        "\n",
        "model = unet()\n",
        "model.compile(optimizer=optimizer, loss=loss, metrics=['accuracy'])"
      ]
    },
    {
      "cell_type": "markdown",
      "id": "IOJ8zBA1d_wN",
      "metadata": {
        "id": "IOJ8zBA1d_wN"
      },
      "source": [
        "## Preprocessing"
      ]
    },
    {
      "cell_type": "markdown",
      "id": "2NlhaPGorVGI",
      "metadata": {
        "id": "2NlhaPGorVGI"
      },
      "source": [
        "### Data Augmentation"
      ]
    },
    {
      "cell_type": "code",
      "execution_count": null,
      "id": "N9x6ufHvLlOj",
      "metadata": {
        "colab": {
          "base_uri": "https://localhost:8080/",
          "height": 828
        },
        "id": "N9x6ufHvLlOj",
        "outputId": "438f8628-66b4-48e2-f211-afd92dd179f8"
      },
      "outputs": [],
      "source": [
        "random_index = random.randint(0, len(l_fits) - 1)\n",
        "data=l_fits[random_index]\n",
        "\n",
        "plot_image(data=data)\n",
        "\n",
        "img, mask = data\n",
        "\n",
        "aug_img = zoom(img, mask)\n",
        "\n",
        "plot_image(data=aug_img)"
      ]
    },
    {
      "cell_type": "markdown",
      "id": "IR_mqYVsrX69",
      "metadata": {
        "id": "IR_mqYVsrX69"
      },
      "source": [
        "### DATA loading"
      ]
    },
    {
      "cell_type": "code",
      "execution_count": null,
      "id": "964f9e3d-e0cd-436b-a4ba-dd48fa6937f5",
      "metadata": {
        "id": "964f9e3d-e0cd-436b-a4ba-dd48fa6937f5"
      },
      "outputs": [],
      "source": [
        "DR = 2**14\n",
        "def open_fits_with_mask(filename):\n",
        "    image = fits.open(filename)\n",
        "    cloud = image[0].data\n",
        "    mask = image[1].data\n",
        "\n",
        "    del image\n",
        "\n",
        "    cloud  = cloud / DR\n",
        "    return cloud , mask"
      ]
    },
    {
      "cell_type": "code",
      "execution_count": null,
      "id": "68ae6ea2-d49b-48ea-a067-1670770402b0",
      "metadata": {
        "id": "68ae6ea2-d49b-48ea-a067-1670770402b0"
      },
      "outputs": [],
      "source": [
        "images_list = glob.glob('/content/MASKED_IMAGES/*.fits')"
      ]
    },
    {
      "cell_type": "code",
      "execution_count": null,
      "id": "0a0df78a-b5af-4bdb-a36d-2140393c04d8",
      "metadata": {
        "id": "0a0df78a-b5af-4bdb-a36d-2140393c04d8"
      },
      "outputs": [],
      "source": [
        "import random\n",
        "images_list = random.choices(images_list, k=len(images_list))"
      ]
    },
    {
      "cell_type": "code",
      "execution_count": null,
      "id": "5dcf9bd0-2e8a-4b9f-bf7b-6f5356cf0d9c",
      "metadata": {
        "colab": {
          "base_uri": "https://localhost:8080/"
        },
        "id": "5dcf9bd0-2e8a-4b9f-bf7b-6f5356cf0d9c",
        "outputId": "64948c77-32d2-455b-ebf4-5a2c6dbd037d"
      },
      "outputs": [],
      "source": [
        "with parallel_backend('threading', n_jobs=num_cores):\n",
        "    l_fits = Parallel(verbose=0)(delayed(open_fits_with_mask)(filename=r) for r in images_list)\n",
        "l_fits = np.array(l_fits)"
      ]
    },
    {
      "cell_type": "code",
      "execution_count": null,
      "id": "9193448c",
      "metadata": {},
      "outputs": [],
      "source": [
        "def random_augment(img_mask):\n",
        "    img , mask = img_mask\n",
        "\n",
        "    aug_image, aug_mask = aug.random_augmentation(img,mask)\n",
        "\n",
        "    aug_fit = (augmented_image, augmented_mask)\n",
        "\n",
        "    return aug_fit"
      ]
    },
    {
      "cell_type": "code",
      "execution_count": null,
      "id": "026d1cdd-115a-4129-9d60-a5294edf8128",
      "metadata": {
        "colab": {
          "base_uri": "https://localhost:8080/"
        },
        "id": "026d1cdd-115a-4129-9d60-a5294edf8128",
        "outputId": "d78e8ba2-6634-44aa-9b00-32ce28099ca2"
      },
      "outputs": [],
      "source": [
        "k = round(len(l_fits) * 0.75)\n",
        "l_fits_to_augment = random.choices(l_fits, k=k)\n",
        "\n",
        "with parallel_backend('threading', n_jobs=num_cores):\n",
        "    aug_fits = Parallel(verbose=0)(delayed(random_augment)(img_mask=l_fit) for l_fit in l_fits_to_augment)\n",
        "aug_fits = np.array(aug_fits)"
      ]
    },
    {
      "cell_type": "code",
      "execution_count": null,
      "id": "lDlJV7teeNjv",
      "metadata": {
        "colab": {
          "base_uri": "https://localhost:8080/",
          "height": 433
        },
        "id": "lDlJV7teeNjv",
        "outputId": "9b7ef42a-ba5e-47bb-bf71-2313d06cbed5"
      },
      "outputs": [],
      "source": [
        "random_index = random.randint(0, len(l_fits) - 1)\n",
        "plot_image(data=l_fits[random_index])"
      ]
    },
    {
      "cell_type": "markdown",
      "id": "ji-EX-uceCDt",
      "metadata": {
        "id": "ji-EX-uceCDt"
      },
      "source": [
        "## DataSet gen and batching"
      ]
    },
    {
      "cell_type": "code",
      "execution_count": null,
      "id": "1d5bbadb-7444-4548-aaec-6e4977255c3a",
      "metadata": {
        "id": "1d5bbadb-7444-4548-aaec-6e4977255c3a"
      },
      "outputs": [],
      "source": [
        "class CloudImageDataGenerator(tf.keras.utils.Sequence):\n",
        "    def __init__(self, x_data, y_data, batch_size, shuffle=True):\n",
        "        self.x_data = x_data\n",
        "        self.y_data = y_data\n",
        "        self.batch_size = batch_size\n",
        "        self.shuffle = shuffle\n",
        "        self.indices = np.arange(len(self.x_data))\n",
        "        if self.shuffle:\n",
        "            np.random.shuffle(self.indices)\n",
        "\n",
        "    def __len__(self):\n",
        "        return int(np.ceil(len(self.x_data) / self.batch_size))\n",
        "\n",
        "    def __getitem__(self, index):\n",
        "        start_idx = index * self.batch_size\n",
        "        end_idx = (index + 1) * self.batch_size\n",
        "        batch_indices = self.indices[start_idx:end_idx]\n",
        "\n",
        "        batch_x = self.x_data[batch_indices]\n",
        "        batch_y = self.y_data[batch_indices]\n",
        "\n",
        "        # You can perform any preprocessing here before returning the batch\n",
        "\n",
        "        return batch_x, batch_y\n",
        "\n",
        "    def on_epoch_end(self):\n",
        "        if self.shuffle:\n",
        "            np.random.shuffle(self.indices)"
      ]
    },
    {
      "cell_type": "code",
      "execution_count": null,
      "id": "4271028c-096c-41a2-92c7-40a96d792713",
      "metadata": {
        "id": "4271028c-096c-41a2-92c7-40a96d792713"
      },
      "outputs": [],
      "source": [
        "images_cloud = l_fits[:,0]\n",
        "mask_cloud = l_fits[:,1]"
      ]
    },
    {
      "cell_type": "code",
      "execution_count": null,
      "id": "Q6-2T8mlVdmR",
      "metadata": {
        "id": "Q6-2T8mlVdmR"
      },
      "outputs": [],
      "source": [
        "X_train, X_test, y_train, y_test = train_test_split(images_cloud, mask_cloud, test_size=0.2, random_state=42)"
      ]
    },
    {
      "cell_type": "code",
      "execution_count": null,
      "id": "009f95c9-539f-45b6-affa-3090371e666a",
      "metadata": {
        "id": "009f95c9-539f-45b6-affa-3090371e666a"
      },
      "outputs": [],
      "source": [
        "ds_train_gen = CloudImageDataGenerator(x_data=X_train,y_data=y_train,batch_size=8, shuffle=True)\n",
        "ds_val_gen = CloudImageDataGenerator(x_data=X_test,y_data=y_test,batch_size=8, shuffle=True)"
      ]
    },
    {
      "cell_type": "markdown",
      "id": "kbf1T0vGeGRt",
      "metadata": {
        "id": "kbf1T0vGeGRt"
      },
      "source": [
        "## Training"
      ]
    },
    {
      "cell_type": "code",
      "execution_count": null,
      "id": "4ccc1678-e5f2-49ee-9088-78a25c64bcbe",
      "metadata": {
        "colab": {
          "base_uri": "https://localhost:8080/"
        },
        "id": "4ccc1678-e5f2-49ee-9088-78a25c64bcbe",
        "outputId": "e7ec80be-78ae-4519-c965-b6081bc30816"
      },
      "outputs": [],
      "source": [
        "early_stopping = tf.keras.callbacks.EarlyStopping(monitor='val_loss', patience=15, min_delta=0.01, mode='auto', baseline=None, restore_best_weights=True)\n",
        "lr_schedule = tf.keras.callbacks.LearningRateScheduler(lambda epoch: 0.001 * 0.5 ** (epoch // 10) , verbose=1)\n",
        "\n",
        "history = model.fit(ds_train_gen,validation_data=ds_val_gen, epochs=100, callbacks=[lr_schedule, early_stopping])\n",
        "#history = model.fit(images_cloud, mask_cloud, validation_split=0.2, epochs=50, batch_size = 16 , callbacks=[lr_schedule, early_stopping])"
      ]
    },
    {
      "cell_type": "code",
      "execution_count": null,
      "id": "xOQFZgWsVlpp",
      "metadata": {
        "id": "xOQFZgWsVlpp"
      },
      "outputs": [],
      "source": [
        "# Plotting\n",
        "plt.figure(figsize=(12, 10))\n",
        "\n",
        "# Loss\n",
        "plt.subplot(2, 2, 1)\n",
        "plt.plot(history['loss'], label='Training Loss')\n",
        "plt.plot(history['val_loss'], label='Validation Loss')\n",
        "plt.xlabel('Epoch')\n",
        "plt.ylabel('Loss')\n",
        "plt.title('Training and Validation Loss')\n",
        "plt.legend()\n",
        "\n",
        "# Accuracy\n",
        "plt.subplot(2, 2, 2)\n",
        "plt.plot(history['accuracy'], label='Training Accuracy')\n",
        "plt.plot(history['val_accuracy'], label='Validation Accuracy')\n",
        "plt.xlabel('Epoch')\n",
        "plt.ylabel('Accuracy')\n",
        "plt.title('Training and Validation Accuracy')\n",
        "plt.legend()\n",
        "\n",
        "plt.tight_layout()\n",
        "plt.show()"
      ]
    },
    {
      "cell_type": "code",
      "execution_count": null,
      "id": "LG1LI_k1o_4z",
      "metadata": {
        "id": "LG1LI_k1o_4z"
      },
      "outputs": [],
      "source": [
        "# Assuming 'model' is your Keras model\n",
        "model.save('full_model.h5')"
      ]
    },
    {
      "cell_type": "markdown",
      "id": "rWLEJOYXeIU_",
      "metadata": {
        "id": "rWLEJOYXeIU_"
      },
      "source": [
        "## Plot result"
      ]
    },
    {
      "cell_type": "code",
      "execution_count": null,
      "id": "VSig7q_Teebn",
      "metadata": {
        "colab": {
          "base_uri": "https://localhost:8080/"
        },
        "id": "VSig7q_Teebn",
        "outputId": "cd5c27f8-15f0-4587-c3c8-4de8c6541560"
      },
      "outputs": [],
      "source": [
        "batch_size = 5  # Set the batch size that works for your memory capacity\n",
        "\n",
        "# Calculate the number of batches\n",
        "num_batches = len(X_test) // batch_size\n",
        "\n",
        "# Initialize an empty list to store predictions\n",
        "all_predictions = []\n",
        "\n",
        "# Predict using batches\n",
        "for batch_index in range(num_batches):\n",
        "    start_index = batch_index * batch_size\n",
        "    end_index = (batch_index + 1) * batch_size\n",
        "\n",
        "    batch_X = X_test[start_index:end_index]\n",
        "    batch_predictions = model.predict(batch_X)\n",
        "    print(batch_predictions.shape)\n",
        "    all_predictions.append(batch_predictions)\n",
        "\n",
        "# If there are any remaining samples not covered by full batches\n",
        "if len(X_test) % batch_size != 0:\n",
        "    last_batch_X = X_test[num_batches * batch_size:]\n",
        "    last_batch_predictions = model.predict(last_batch_X)\n",
        "\n",
        "    all_predictions.append(last_batch_predictions)\n",
        "\n",
        "# Combine predictions from all batches\n",
        "predictions = np.vstack(all_predictions)  # Assuming numpy is imported"
      ]
    },
    {
      "cell_type": "code",
      "execution_count": null,
      "id": "l2Y0DxP5oq4o",
      "metadata": {
        "colab": {
          "base_uri": "https://localhost:8080/"
        },
        "id": "l2Y0DxP5oq4o",
        "outputId": "ea5b2dc0-db9f-485d-e1c5-520d119053a1"
      },
      "outputs": [],
      "source": [
        "all_predictions[0].shape"
      ]
    },
    {
      "cell_type": "code",
      "execution_count": null,
      "id": "rdATYKNAoX4O",
      "metadata": {
        "id": "rdATYKNAoX4O"
      },
      "outputs": [],
      "source": [
        "batch_predictions = model.predict(X_test)"
      ]
    },
    {
      "cell_type": "code",
      "execution_count": null,
      "id": "PzE54aH4fUD5",
      "metadata": {
        "id": "PzE54aH4fUD5"
      },
      "outputs": [],
      "source": [
        "y_predictions = np.squeeze(predictions, axis=-1)"
      ]
    },
    {
      "cell_type": "code",
      "execution_count": null,
      "id": "4ZxuVf1lg1Q-",
      "metadata": {
        "colab": {
          "base_uri": "https://localhost:8080/"
        },
        "id": "4ZxuVf1lg1Q-",
        "outputId": "64ccd194-d469-4e93-e546-b2a002e3ec85"
      },
      "outputs": [],
      "source": [
        "y_predictions.shape"
      ]
    },
    {
      "cell_type": "code",
      "execution_count": null,
      "id": "b7e2bdec-2eb8-43ac-825f-e4a658e71954",
      "metadata": {
        "colab": {
          "base_uri": "https://localhost:8080/",
          "height": 305
        },
        "id": "b7e2bdec-2eb8-43ac-825f-e4a658e71954",
        "outputId": "14907061-4ec5-4aa8-b3c5-69abe8436950"
      },
      "outputs": [],
      "source": [
        "random_index = random.randint(0, len(X_test) - 1)\n",
        "plot_image_pred(X_test[random_index], y_test[random_index], y_predictions[random_index])"
      ]
    },
    {
      "cell_type": "code",
      "execution_count": null,
      "id": "Yb7hDs7DiJSl",
      "metadata": {
        "colab": {
          "base_uri": "https://localhost:8080/"
        },
        "id": "Yb7hDs7DiJSl",
        "outputId": "a66a4866-1b92-4afa-8fcf-b2096806bf2c"
      },
      "outputs": [],
      "source": [
        "y_test[1]"
      ]
    },
    {
      "cell_type": "code",
      "execution_count": null,
      "id": "7786e46f-80e6-4f11-af84-eeb61a2003a0",
      "metadata": {
        "colab": {
          "base_uri": "https://localhost:8080/",
          "height": 1000
        },
        "id": "7786e46f-80e6-4f11-af84-eeb61a2003a0",
        "outputId": "07f4136d-ecde-4f9d-ff00-56681ecf4cf8"
      },
      "outputs": [],
      "source": [
        "# Create a random NumPy array for demonstration\n",
        "i = 25\n",
        "thresh = 0.8\n",
        "origin = y_predictions[i]\n",
        "origin_gt = y_test[i]\n",
        "image_array = np.array(y_predictions[i])\n",
        "\n",
        "image_array[image_array >= thresh] = 1\n",
        "image_array[image_array < thresh] = 0\n",
        "\n",
        "# Plot the NumPy array as an image\n",
        "plt.imshow(origin_gt, cmap='gray')  # 'gray' colormap for grayscale images\n",
        "plt.title('Image Plot')\n",
        "plt.colorbar()  # Display colorbar\n",
        "plt.show()\n",
        "# Plot the NumPy array as an image\n",
        "plt.imshow(origin, cmap='gray')  # 'gray' colormap for grayscale images\n",
        "plt.title('Image Plot')\n",
        "plt.colorbar()  # Display colorbar\n",
        "plt.show()\n",
        "# Plot the NumPy array as an image\n",
        "plt.imshow(image_array, cmap='gray')  # 'gray' colormap for grayscale images\n",
        "plt.title('Image Plot')\n",
        "plt.colorbar()  # Display colorbar\n",
        "plt.show()"
      ]
    },
    {
      "cell_type": "code",
      "execution_count": null,
      "id": "_tUZZRAtiHEh",
      "metadata": {
        "colab": {
          "base_uri": "https://localhost:8080/"
        },
        "id": "_tUZZRAtiHEh",
        "outputId": "fba66099-6fcb-4d8c-df61-4e4aca36e9c0"
      },
      "outputs": [],
      "source": [
        "y_test[29]"
      ]
    },
    {
      "cell_type": "code",
      "execution_count": null,
      "id": "o8xP-WZ9i0Mb",
      "metadata": {
        "colab": {
          "base_uri": "https://localhost:8080/"
        },
        "id": "o8xP-WZ9i0Mb",
        "outputId": "523babe3-98ce-4267-ec00-a58ec4ab2f03"
      },
      "outputs": [],
      "source": [
        "y_predictions[29]"
      ]
    }
  ],
  "metadata": {
    "accelerator": "GPU",
    "colab": {
      "collapsed_sections": [
        "2NlhaPGorVGI"
      ],
      "gpuType": "T4",
      "provenance": []
    },
    "kernelspec": {
      "display_name": "Python 3",
      "name": "python3"
    },
    "language_info": {
      "codemirror_mode": {
        "name": "ipython",
        "version": 3
      },
      "file_extension": ".py",
      "mimetype": "text/x-python",
      "name": "python",
      "nbconvert_exporter": "python",
      "pygments_lexer": "ipython3",
      "version": "3.11.3"
    }
  },
  "nbformat": 4,
  "nbformat_minor": 5
}
