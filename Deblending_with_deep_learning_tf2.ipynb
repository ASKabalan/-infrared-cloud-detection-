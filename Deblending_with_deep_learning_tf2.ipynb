{
 "cells": [
  {
   "cell_type": "markdown",
   "metadata": {
    "id": "qQ4Qc_IdnY-0"
   },
   "source": [
    "# Deep learning for galaxy deblending\n",
    "\n",
    "> Author: Alexandre Boucaud (APC, CNRS)  \n",
    "> Email: <aboucaud@apc.in2p3.fr>"
   ]
  },
  {
   "cell_type": "markdown",
   "metadata": {
    "id": "bawDfwt8nY-1"
   },
   "source": [
    "1. [Introduction](#Introduction)\n",
    "2. [Data](#Data)\n",
    "3. [Workflow](#Workflow)\n",
    "4. [Evaluation](#Detection-evaluation)\n",
    "5. [Local testing/exploration](#Local-testing)"
   ]
  },
  {
   "cell_type": "markdown",
   "metadata": {
    "id": "m0w55TtWnY-2"
   },
   "source": [
    "## Introduction\n",
    "\n",
    "In astronomical images, the projection effects may cause two or more galaxies to overlap. When they are barely indistinguishable from one another, they are referred to as _blended_ and this can bias astrophysical estimators such as the morphology of galaxies or the shear (weak gravitational lensing distortion).  \n",
    "As the sensitivity of imaging devices grows, a high fraction of galaxies appear _blended_ in the images, which is a known and important issue for current and upcoming galaxy surveys.  \n",
    "\n",
    "In order not to discard such a wealth of information, it is key to develop methods to enable astronomers to alleviate such effect.\n",
    "We can foresee some features that would help, in which machine learning could provide a solution:\n",
    "- classify an image as containing isolated/blended objects  \n",
    "  ___binary classification___\n",
    "- count the number of blended sources in a blended image  \n",
    "  ___regression / object detection___\n",
    "- find the contours of each object  \n",
    "  ___object detection/segmentation___\n",
    "- ...\n",
    "\n",
    "In this exercice, we will approach the third item, the detection of contours, but in a constrained way : the images will only contain **two galaxies** and the goal will be to find the **contours of the central galaxy**."
   ]
  },
  {
   "cell_type": "code",
   "execution_count": null,
   "metadata": {
    "colab": {
     "base_uri": "https://localhost:8080/"
    },
    "id": "WWWbqIt7iw2T",
    "outputId": "1a6d0ad0-c9f0-43d6-ec47-18834ccf6988"
   },
   "outputs": [
    {
     "name": "stdout",
     "output_type": "stream",
     "text": [
      "\u001b[33mWARNING: Skipping dltools as it is not installed.\u001b[0m\n"
     ]
    }
   ],
   "source": [
    "!pip uninstall dltools  --yes"
   ]
  },
  {
   "cell_type": "code",
   "execution_count": null,
   "metadata": {
    "id": "BKz7EvJsiw2W"
   },
   "outputs": [],
   "source": [
    "# Install the `dltools` lib that contains helper methods for training a deep neural network on the provided blended galaxy dataset.\n",
    "!pip install git+https://github.com/ASKabalan/deeplearning4astro_tools"
   ]
  },
  {
   "cell_type": "code",
   "execution_count": null,
   "metadata": {
    "id": "4Vm7CxCVnY-7"
   },
   "outputs": [],
   "source": [
    "## Necessary imports"
   ]
  },
  {
   "cell_type": "code",
   "execution_count": null,
   "metadata": {
    "id": "u5-aIAELnY-7"
   },
   "outputs": [],
   "source": [
    "import os\n",
    "\n",
    "import numpy as np\n",
    "import matplotlib.pyplot as plt\n",
    "\n",
    "%matplotlib inline"
   ]
  },
  {
   "cell_type": "code",
   "execution_count": null,
   "metadata": {
    "id": "Nbh5WW4knY--"
   },
   "outputs": [],
   "source": [
    "from dltools.detector import ObjectDetector\n",
    "from dltools.metric import iou_bitmap\n",
    "from dltools.plots import plot_history\n",
    "from dltools.plots import plot_random_results"
   ]
  },
  {
   "cell_type": "code",
   "execution_count": null,
   "metadata": {
    "id": "Zid61nBnqCzv"
   },
   "outputs": [],
   "source": [
    "ObjectDetector??"
   ]
  },
  {
   "cell_type": "markdown",
   "metadata": {
    "id": "g3aWl_rtiw2b"
   },
   "source": [
    "## Data"
   ]
  },
  {
   "cell_type": "code",
   "execution_count": null,
   "metadata": {
    "cellView": "form",
    "id": "nf_n0tzLp97L"
   },
   "outputs": [],
   "source": [
    "use_big_data = True\n",
    "# use_big_data = False  # uncomment the line if running on a machine without GPU.\n",
    "suffix = \"\" if use_big_data else \"_mini\""
   ]
  },
  {
   "cell_type": "code",
   "execution_count": null,
   "metadata": {
    "cellView": "form",
    "colab": {
     "base_uri": "https://localhost:8080/"
    },
    "id": "JPtgMD3enY_E",
    "outputId": "5abda667-daca-415a-f91d-b37fb1026b2d"
   },
   "outputs": [
    {
     "name": "stdout",
     "output_type": "stream",
     "text": [
      "Creating directory data\n",
      "Downloading from https://www.apc.univ-paris7.fr/Downloads/comput/aboucaud/ed127/masks2.tar.gz ...\n",
      "=> File saved as data/masks2.tar.gz\n",
      "Extracting tarball..\n",
      "Done.\n",
      "Downloading from https://www.apc.univ-paris7.fr/Downloads/comput/aboucaud/ed127/blends.tar.gz ...\n",
      "=> File saved as data/blends.tar.gz\n",
      "Extracting tarball..\n",
      "Done.\n"
     ]
    }
   ],
   "source": [
    "# Download the data\n",
    "# This will fetch the data files from the APC server and unpack them into the `data` directory.\n",
    "\n",
    "datadir = \"data\"\n",
    "\n",
    "import sys\n",
    "import tarfile\n",
    "from urllib.request import urlretrieve\n",
    "\n",
    "URL = \"https://www.apc.univ-paris7.fr/Downloads/comput/aboucaud\"\n",
    "FOLDER = \"ed127\"\n",
    "FILES = [\n",
    "    \"test_blends_mini.npy\",\n",
    "    \"test_target_masks_2_mini.npy\",\n",
    "    \"train_blends_mini.npy\",\n",
    "    \"train_target_masks_2_mini.npy\",\n",
    "\n",
    "]\n",
    "BIG_FILES = [\n",
    "    \"masks2.tar.gz\",\n",
    "    \"blends.tar.gz\",\n",
    "]\n",
    "\n",
    "def download_data(output_dir, use_big_data=False):\n",
    "    if use_big_data:\n",
    "        files = BIG_FILES\n",
    "    else:\n",
    "        files = FILES\n",
    "\n",
    "    urls = [\n",
    "        f\"{URL}/{FOLDER}/{filename}\"\n",
    "        for filename in files\n",
    "    ]\n",
    "\n",
    "    if not os.path.exists(output_dir):\n",
    "        print(f\"Creating directory {output_dir}\")\n",
    "        os.mkdir(output_dir)\n",
    "\n",
    "    for url, filename in zip(urls, files):\n",
    "        output_file = os.path.join(output_dir, filename)\n",
    "\n",
    "        if os.path.exists(output_file):\n",
    "            print(f\"{filename} already downloaded.\")\n",
    "            continue\n",
    "\n",
    "        print(f\"Downloading from {url} ...\")\n",
    "        urlretrieve(url, filename=output_file)\n",
    "        print(f\"=> File saved as {output_file}\")\n",
    "\n",
    "        if filename.endswith(\"tar.gz\"):\n",
    "            print(\"Extracting tarball..\")\n",
    "            with tarfile.open(output_file, \"r:gz\") as f:\n",
    "                f.extractall(output_dir)\n",
    "            print(\"Done.\")\n",
    "\n",
    "download_data(output_dir=datadir, use_big_data=use_big_data)"
   ]
  },
  {
   "cell_type": "markdown",
   "metadata": {
    "id": "G-0fSEi6nY_K"
   },
   "source": [
    "## Load data"
   ]
  },
  {
   "cell_type": "markdown",
   "metadata": {
    "id": "t6aNon-wnY_L"
   },
   "source": [
    "Load the train and test datasets in memory-mapping mode. This does not actually load the data into memory but creates a mapping to it to easily retrieve chunks of the data using its indices when needed."
   ]
  },
  {
   "cell_type": "code",
   "execution_count": null,
   "metadata": {
    "id": "rDJgK9f7nY_L"
   },
   "outputs": [],
   "source": [
    "X_train = np.load(os.path.join(datadir, f\"train_blends{suffix}.npy\"), mmap_mode='r')\n",
    "Y_train = np.load(os.path.join(datadir, f\"train_target_masks_2{suffix}.npy\"), mmap_mode='r')\n",
    "\n",
    "X_test = np.load(os.path.join(datadir, f\"test_blends{suffix}.npy\"), mmap_mode='r')\n",
    "Y_test = np.load(os.path.join(datadir, f\"test_target_masks_2{suffix}.npy\"), mmap_mode='r')"
   ]
  },
  {
   "cell_type": "code",
   "execution_count": null,
   "metadata": {
    "id": "bzIIxkNUnY_O"
   },
   "outputs": [],
   "source": [
    "def plot_data_basic(idx):\n",
    "    titles = [\n",
    "        'blended galaxies',\n",
    "        'segmap of companion galaxy'\n",
    "    ]\n",
    "\n",
    "    fig_size = (12, 6)\n",
    "    fig, axes = plt.subplots(nrows=1, ncols=2, figsize=fig_size)\n",
    "    axes[0].imshow(X_train[idx], cmap='viridis')\n",
    "    axes[1].imshow(Y_train[idx], cmap='Greys_r')\n",
    "    for title, ax in zip(titles, axes):\n",
    "        ax.set_title(title)\n",
    "        ax.set_axis_off()"
   ]
  },
  {
   "cell_type": "code",
   "execution_count": null,
   "metadata": {
    "colab": {
     "base_uri": "https://localhost:8080/",
     "height": 368
    },
    "id": "rh8x5NJjnY_Q",
    "outputId": "25dcd835-2eb7-49cf-c0ce-d105cf0bc61a"
   },
   "outputs": [
    {
     "name": "stdout",
     "output_type": "stream",
     "text": [
      "1101\n"
     ]
    },
    {
     "data": {
      "image/png": "[encoded data removed]",
      "text/plain": [
       "<Figure size 864x432 with 2 Axes>"
      ]
     },
     "metadata": {
      "needs_background": "light"
     },
     "output_type": "display_data"
    }
   ],
   "source": [
    "index = np.random.randint(len(X_train))\n",
    "print(index)\n",
    "plot_data_basic(index)"
   ]
  },
  {
   "cell_type": "markdown",
   "metadata": {
    "id": "EDYK1a46nY_T"
   },
   "source": [
    "The goal in this exercise is to create a deep learning model that produces the segmentation map (mask) of the companion galaxy from the image of the blend. This can be seen as a classification task where each pixel of the image has to be classified as \"galaxy companion\" or \"not galaxy companion\"."
   ]
  },
  {
   "cell_type": "markdown",
   "metadata": {
    "id": "jmqc0c6nnY_U"
   },
   "source": [
    "## Workflow\n",
    "\n",
    "In the `dltools` package we have implemented a class called `ObjectDetector`, with two main methods implemented : `fit()` and `predict()`"
   ]
  },
  {
   "cell_type": "markdown",
   "metadata": {
    "id": "ruyeg_BXnY_U"
   },
   "source": [
    "However `ObjectDetector` is missing a model that **you need to provide**. You can have a look at how the ObjectDetector was implemented to run your model. It will give you an idea of how to organize your code."
   ]
  },
  {
   "cell_type": "code",
   "execution_count": null,
   "metadata": {
    "id": "66gS0n0JnY_V"
   },
   "outputs": [],
   "source": [
    "# too much text\n",
    "ObjectDetector??"
   ]
  },
  {
   "cell_type": "markdown",
   "metadata": {
    "id": "-65oSdAunY_X"
   },
   "source": [
    "The model needs to take the image blend as input and produce an other image as output."
   ]
  },
  {
   "cell_type": "markdown",
   "metadata": {
    "id": "7ZcNhKqPnY_Y"
   },
   "source": [
    "## Detection evaluation\n",
    "\n",
    "For image detection a classical metric is the ***Intersection over Union (IoU)*** also referred to as ***Jaccard index*** and defined as\n",
    "\n",
    "$$ IoU(A, B) =  \\dfrac{|A \\cap B|}{|A \\cup B|} $$\n",
    "\n",
    "This metric is very sensitive to small shifts or area difference between truth and prediction.\n",
    "\n",
    "Typically, a value of IoU superior to 0.5 is used to define a good detection.\n",
    "\n",
    "An implementation of the IoU for a series of flatten segmentation images $\\in [0, 1]$ can be found in"
   ]
  },
  {
   "cell_type": "code",
   "execution_count": null,
   "metadata": {
    "id": "5z7V8mqYnY_Y"
   },
   "outputs": [],
   "source": [
    "# too much text\n",
    "#iou_bitmap??"
   ]
  },
  {
   "cell_type": "markdown",
   "metadata": {
    "id": "zDBJGB1QnY_a"
   },
   "source": [
    "This is the metric used to score the segmentation."
   ]
  },
  {
   "cell_type": "markdown",
   "metadata": {
    "id": "In_DJJpSnY_b"
   },
   "source": [
    "## Model\n",
    "\n",
    "The model is the part where you intervention is needed. A very basic (working) model is implemented below. It has two convolution layers. While it is very fast to train, it does not yield good results.\n",
    "\n",
    "Try to navigate the web/github to find appropriate models for this image segmentation task. Or build upon this existing model by complexifying it."
   ]
  },
  {
   "cell_type": "code",
   "execution_count": null,
   "metadata": {
    "colab": {
     "base_uri": "https://localhost:8080/"
    },
    "id": "QsfdGZLBnY_b",
    "outputId": "0ea32e12-392f-4ac4-828e-bc9180b68005"
   },
   "outputs": [
    {
     "name": "stdout",
     "output_type": "stream",
     "text": [
      "TensorFlow version:  2.8.2\n"
     ]
    }
   ],
   "source": [
    "# You may need some more imports here\n",
    "# ===================================\n",
    "import tensorflow as tf\n",
    "print(\"TensorFlow version: \", tf.__version__)\n",
    "tf.autograph.set_verbosity(0)\n",
    "\n",
    "from tensorflow.keras.models import Sequential, Model\n",
    "from tensorflow.keras.layers import (\n",
    "    Conv2D,\n",
    "    Dropout,\n",
    "    Input,\n",
    "    MaxPooling2D,\n",
    "    concatenate,\n",
    "    Conv2DTranspose,\n",
    "    UpSampling2D,\n",
    "    Concatenate\n",
    ")\n",
    "from tensorflow.keras.layers import GaussianNoise\n",
    "\n",
    "input_shape = (128, 128, 1)  # input images are 128 x 128 with a single channel\n",
    "output_channels = 1          # we want a single image as output\n",
    "last_activation = \"sigmoid\"  # to get the output values between 0 and 1"
   ]
  },
  {
   "cell_type": "code",
   "execution_count": null,
   "metadata": {
    "id": "826qgUnavLQy"
   },
   "outputs": [],
   "source": [
    "# This is were you need to upgrade the model\n",
    "# ==========================================\n",
    "input_shape = (128, 128, 1)\n",
    "output_channels = 1\n",
    "depth = 32\n",
    "n_layers = 7 #5\n",
    "conv_size0 = (3, 3)\n",
    "conv_size = (3, 3)\n",
    "last_conv_size = (3, 3)\n",
    "activation = \"relu\"\n",
    "last_activation = \"sigmoid\"\n",
    "dropout_rate = 0.5 #0.3\n",
    "sigma_noise = 0.01\n",
    "\n",
    "def convmodel():\n",
    "    model = Sequential()\n",
    "\n",
    "    # first layer\n",
    "    model.add(Conv2D(depth, conv_size0, input_shape=input_shape, activation=activation, padding=\"same\", name=\"conv0\"))\n",
    "\n",
    "    if dropout_rate > 0:\n",
    "        model.add(Dropout(dropout_rate))\n",
    "\n",
    "    # middle layer\n",
    "    for layer_n in range(1, n_layers):\n",
    "        model.add(Conv2D(depth, conv_size, activation=activation, padding=\"same\", name=\"conv{}\".format(layer_n)) )\n",
    "\n",
    "        if dropout_rate > 0:\n",
    "            model.add(Dropout(dropout_rate))\n",
    "\n",
    "    if sigma_noise > 0:\n",
    "        model.add(GaussianNoise(sigma_noise))\n",
    "\n",
    "    # last layer\n",
    "    model.add(Conv2D(output_channels, last_conv_size, activation=last_activation, padding=\"same\", name=\"last\"))\n",
    "\n",
    "    return model"
   ]
  },
  {
   "cell_type": "code",
   "execution_count": null,
   "metadata": {
    "id": "gi0bA7KDs-23"
   },
   "outputs": [],
   "source": [
    "input_shape = (128, 128, 1)\n",
    "output_channels = 1\n",
    "depths = [8, 16, 16, 32, 64]\n",
    "dropout_rate = 0.5\n",
    "sigma_noise = 0.01\n",
    "\n",
    "def autoencoder():\n",
    "    model_input = Input(shape=input_shape)\n",
    "\n",
    "    # Encoder\n",
    "    for i, depth in enumerate(depths):\n",
    "        if i == 0:\n",
    "            x = Conv2D(depth, 3, activation=\"relu\", padding=\"same\", name=\"Encoder_conv{}\".format(i))(model_input)\n",
    "        else:\n",
    "            x = Conv2D(depth, 3, activation=\"relu\", padding=\"same\", name=\"Encoder_conv{}\".format(i))(x)\n",
    "            x = MaxPooling2D(2)(x)\n",
    "            if dropout_rate > 0:\n",
    "                x = Dropout(dropout_rate)(x)\n",
    "\n",
    "    # Decoder\n",
    "    for i, depth in enumerate(reversed(depths)):\n",
    "        x = Conv2D(depth, 3, activation=\"relu\", padding=\"same\", name=\"Decoder_conv{}\".format(i))(x)\n",
    "        if i < len(depths) - 1:\n",
    "            x = UpSampling2D(2)(x)\n",
    "\n",
    "        if dropout_rate > 0:\n",
    "            x = Dropout(dropout_rate)(x)\n",
    "\n",
    "    if sigma_noise > 0:\n",
    "        x = GaussianNoise(sigma_noise)(x)\n",
    "\n",
    "    # last layer\n",
    "    model_output = Conv2D(output_channels, 3, activation=\"sigmoid\", padding=\"same\", name=\"last\")(x)\n",
    "\n",
    "    model = Model(model_input, model_output)\n",
    "\n",
    "    return model"
   ]
  },
  {
   "cell_type": "code",
   "execution_count": null,
   "metadata": {
    "id": "mQX63FR8uFHS"
   },
   "outputs": [],
   "source": [
    "input_shape = (128, 128, 1)\n",
    "output_channels = 1\n",
    "sigma_noise = 0.01\n",
    "channels_list = [8, 16, 32, 32, 64 , 128]\n",
    "#channels_list = [32, 32, 64, 128]\n",
    "\n",
    "def unet():\n",
    "    unet_input = Input(shape=input_shape)\n",
    "\n",
    "    list_features = []\n",
    "    x = unet_input\n",
    "    for i, n_channels in enumerate(channels_list):\n",
    "        x = Conv2D(n_channels, 3, activation='relu', padding='same', name=f'Encoder_conv_{i}')(x)\n",
    "        list_features.append((n_channels, x))\n",
    "        x = MaxPooling2D(pool_size=2, strides=2, padding='same')(x)\n",
    "\n",
    "\n",
    "    for i, (n_channels, same_reso_features) in enumerate(reversed(list_features)):\n",
    "        x = UpSampling2D(2)(x)\n",
    "        x = Concatenate(axis=-1)([x, same_reso_features])\n",
    "        x = Conv2D(n_channels, 3, activation='relu', padding='same', name=f'Decoder_conv_{i}')(x)\n",
    "\n",
    "    if sigma_noise > 0:\n",
    "            x = GaussianNoise(sigma_noise)(x)\n",
    "\n",
    "    unet_output = Conv2D(output_channels, 3, activation='sigmoid', padding='same')(x)\n",
    "\n",
    "    model = Model(unet_input, unet_output, name='unet')\n",
    "\n",
    "    return model"
   ]
  },
  {
   "cell_type": "markdown",
   "metadata": {
    "id": "hH0XSW6bjdXM"
   },
   "source": [
    "#### Vérifier avec le `summary()` que la sortie du modèle correspond bien à `(None, 128, 128, 1)`."
   ]
  },
  {
   "cell_type": "code",
   "execution_count": null,
   "metadata": {
    "colab": {
     "base_uri": "https://localhost:8080/"
    },
    "id": "d6xOMSscjaR9",
    "outputId": "8462d461-bcae-46ee-93ef-83a930d2cbcc"
   },
   "outputs": [
    {
     "name": "stdout",
     "output_type": "stream",
     "text": [
      "Model: \"unet\"\n",
      "__________________________________________________________________________________________________\n",
      " Layer (type)                   Output Shape         Param #     Connected to                     \n",
      "==================================================================================================\n",
      " input_1 (InputLayer)           [(None, 128, 128, 1  0           []                               \n",
      "                                )]                                                                \n",
      "                                                                                                  \n",
      " Encoder_conv_0 (Conv2D)        (None, 128, 128, 8)  80          ['input_1[0][0]']                \n",
      "                                                                                                  \n",
      " max_pooling2d (MaxPooling2D)   (None, 64, 64, 8)    0           ['Encoder_conv_0[0][0]']         \n",
      "                                                                                                  \n",
      " Encoder_conv_1 (Conv2D)        (None, 64, 64, 16)   1168        ['max_pooling2d[0][0]']          \n",
      "                                                                                                  \n",
      " max_pooling2d_1 (MaxPooling2D)  (None, 32, 32, 16)  0           ['Encoder_conv_1[0][0]']         \n",
      "                                                                                                  \n",
      " Encoder_conv_2 (Conv2D)        (None, 32, 32, 32)   4640        ['max_pooling2d_1[0][0]']        \n",
      "                                                                                                  \n",
      " max_pooling2d_2 (MaxPooling2D)  (None, 16, 16, 32)  0           ['Encoder_conv_2[0][0]']         \n",
      "                                                                                                  \n",
      " Encoder_conv_3 (Conv2D)        (None, 16, 16, 32)   9248        ['max_pooling2d_2[0][0]']        \n",
      "                                                                                                  \n",
      " max_pooling2d_3 (MaxPooling2D)  (None, 8, 8, 32)    0           ['Encoder_conv_3[0][0]']         \n",
      "                                                                                                  \n",
      " Encoder_conv_4 (Conv2D)        (None, 8, 8, 64)     18496       ['max_pooling2d_3[0][0]']        \n",
      "                                                                                                  \n",
      " max_pooling2d_4 (MaxPooling2D)  (None, 4, 4, 64)    0           ['Encoder_conv_4[0][0]']         \n",
      "                                                                                                  \n",
      " up_sampling2d (UpSampling2D)   (None, 8, 8, 64)     0           ['max_pooling2d_4[0][0]']        \n",
      "                                                                                                  \n",
      " concatenate (Concatenate)      (None, 8, 8, 128)    0           ['up_sampling2d[0][0]',          \n",
      "                                                                  'Encoder_conv_4[0][0]']         \n",
      "                                                                                                  \n",
      " Decoder_conv_0 (Conv2D)        (None, 8, 8, 64)     73792       ['concatenate[0][0]']            \n",
      "                                                                                                  \n",
      " up_sampling2d_1 (UpSampling2D)  (None, 16, 16, 64)  0           ['Decoder_conv_0[0][0]']         \n",
      "                                                                                                  \n",
      " concatenate_1 (Concatenate)    (None, 16, 16, 96)   0           ['up_sampling2d_1[0][0]',        \n",
      "                                                                  'Encoder_conv_3[0][0]']         \n",
      "                                                                                                  \n",
      " Decoder_conv_1 (Conv2D)        (None, 16, 16, 32)   27680       ['concatenate_1[0][0]']          \n",
      "                                                                                                  \n",
      " up_sampling2d_2 (UpSampling2D)  (None, 32, 32, 32)  0           ['Decoder_conv_1[0][0]']         \n",
      "                                                                                                  \n",
      " concatenate_2 (Concatenate)    (None, 32, 32, 64)   0           ['up_sampling2d_2[0][0]',        \n",
      "                                                                  'Encoder_conv_2[0][0]']         \n",
      "                                                                                                  \n",
      " Decoder_conv_2 (Conv2D)        (None, 32, 32, 32)   18464       ['concatenate_2[0][0]']          \n",
      "                                                                                                  \n",
      " up_sampling2d_3 (UpSampling2D)  (None, 64, 64, 32)  0           ['Decoder_conv_2[0][0]']         \n",
      "                                                                                                  \n",
      " concatenate_3 (Concatenate)    (None, 64, 64, 48)   0           ['up_sampling2d_3[0][0]',        \n",
      "                                                                  'Encoder_conv_1[0][0]']         \n",
      "                                                                                                  \n",
      " Decoder_conv_3 (Conv2D)        (None, 64, 64, 16)   6928        ['concatenate_3[0][0]']          \n",
      "                                                                                                  \n",
      " up_sampling2d_4 (UpSampling2D)  (None, 128, 128, 16  0          ['Decoder_conv_3[0][0]']         \n",
      "                                )                                                                 \n",
      "                                                                                                  \n",
      " concatenate_4 (Concatenate)    (None, 128, 128, 24  0           ['up_sampling2d_4[0][0]',        \n",
      "                                )                                 'Encoder_conv_0[0][0]']         \n",
      "                                                                                                  \n",
      " Decoder_conv_4 (Conv2D)        (None, 128, 128, 8)  1736        ['concatenate_4[0][0]']          \n",
      "                                                                                                  \n",
      " gaussian_noise (GaussianNoise)  (None, 128, 128, 8)  0          ['Decoder_conv_4[0][0]']         \n",
      "                                                                                                  \n",
      " conv2d (Conv2D)                (None, 128, 128, 1)  73          ['gaussian_noise[0][0]']         \n",
      "                                                                                                  \n",
      "==================================================================================================\n",
      "Total params: 162,305\n",
      "Trainable params: 162,305\n",
      "Non-trainable params: 0\n",
      "__________________________________________________________________________________________________\n"
     ]
    }
   ],
   "source": [
    "# model = convmodel()\n",
    "# model = autoencoder()\n",
    "model = unet()\n",
    "model.summary()"
   ]
  },
  {
   "cell_type": "markdown",
   "metadata": {
    "id": "FTytCBZpiw2n"
   },
   "source": [
    "## Train the model"
   ]
  },
  {
   "cell_type": "code",
   "execution_count": null,
   "metadata": {
    "id": "ahNMWTkCiw2o"
   },
   "outputs": [],
   "source": [
    "# Reset TensorBoard\n",
    "#!mv logs logs.old"
   ]
  },
  {
   "cell_type": "code",
   "execution_count": null,
   "metadata": {
    "id": "B1kgL1Z5iw2o"
   },
   "outputs": [],
   "source": [
    "%load_ext tensorboard"
   ]
  },
  {
   "cell_type": "code",
   "execution_count": null,
   "metadata": {
    "id": "j8QU4lLEiw2p"
   },
   "outputs": [],
   "source": [
    "%tensorboard --logdir=\"logs/fit\""
   ]
  },
  {
   "cell_type": "code",
   "execution_count": null,
   "metadata": {
    "id": "WqUIMPmdiw2p"
   },
   "outputs": [],
   "source": [
    "# Change here the number of epochs or the batch size\n",
    "# ==================================================\n",
    "ObjectDetector??"
   ]
  },
  {
   "cell_type": "code",
   "execution_count": null,
   "metadata": {
    "colab": {
     "base_uri": "https://localhost:8080/"
    },
    "id": "nQWpQIVZiw2q",
    "outputId": "52df269a-9822-45bb-f37a-d60a8d9f5f1d"
   },
   "outputs": [
    {
     "name": "stderr",
     "output_type": "stream",
     "text": [
      "/usr/local/lib/python3.7/dist-packages/keras/optimizer_v2/adam.py:105: UserWarning: The `lr` argument is deprecated, use `learning_rate` instead.\n",
      "  super(Adam, self).__init__(name, **kwargs)\n"
     ]
    }
   ],
   "source": [
    "obj = ObjectDetector(\n",
    "    model,\n",
    "    lr=1e-3,\n",
    "    batch_size=32,\n",
    "    epoch=13,\n",
    "    model_check_point=True\n",
    ")\n",
    "\n",
    "obj.set_log_name(\"lr 1^-3 channels_list = [8, 16, 32, 32, 64]\")"
   ]
  },
  {
   "cell_type": "code",
   "execution_count": null,
   "metadata": {
    "colab": {
     "base_uri": "https://localhost:8080/"
    },
    "id": "Za2eX58UnY_g",
    "outputId": "475bc924-91be-4380-8ca9-6f108cf5326c"
   },
   "outputs": [
    {
     "name": "stdout",
     "output_type": "stream",
     "text": [
      "WARNING:tensorflow:`period` argument is deprecated. Please use `save_freq` to specify the frequency in number of batches seen.\n",
      "Epoch 1/13\n",
      "225/225 [==============================] - ETA: 0s - loss: 0.1104\n",
      "Epoch 1: val_loss improved from inf to 0.05411, saving model to ./fcnn_weights_best.h5\n",
      "225/225 [==============================] - 20s 32ms/step - loss: 0.1104 - val_loss: 0.0541 - lr: 0.0010\n",
      "Epoch 2/13\n",
      "225/225 [==============================] - ETA: 0s - loss: 0.0434\n",
      "Epoch 2: val_loss improved from 0.05411 to 0.04007, saving model to ./fcnn_weights_best.h5\n",
      "225/225 [==============================] - 7s 29ms/step - loss: 0.0434 - val_loss: 0.0401 - lr: 0.0010\n",
      "Epoch 3/13\n",
      "225/225 [==============================] - ETA: 0s - loss: 0.0376\n",
      "Epoch 3: val_loss improved from 0.04007 to 0.03746, saving model to ./fcnn_weights_best.h5\n",
      "225/225 [==============================] - 7s 30ms/step - loss: 0.0376 - val_loss: 0.0375 - lr: 0.0010\n",
      "Epoch 4/13\n",
      "225/225 [==============================] - ETA: 0s - loss: 0.0356\n",
      "Epoch 4: val_loss improved from 0.03746 to 0.03514, saving model to ./fcnn_weights_best.h5\n",
      "225/225 [==============================] - 7s 29ms/step - loss: 0.0356 - val_loss: 0.0351 - lr: 0.0010\n",
      "Epoch 5/13\n",
      "225/225 [==============================] - ETA: 0s - loss: 0.0343\n",
      "Epoch 5: val_loss improved from 0.03514 to 0.03386, saving model to ./fcnn_weights_best.h5\n",
      "225/225 [==============================] - 7s 29ms/step - loss: 0.0343 - val_loss: 0.0339 - lr: 0.0010\n",
      "Epoch 6/13\n",
      "225/225 [==============================] - ETA: 0s - loss: 0.0328\n",
      "Epoch 6: val_loss improved from 0.03386 to 0.03386, saving model to ./fcnn_weights_best.h5\n",
      "225/225 [==============================] - 7s 29ms/step - loss: 0.0328 - val_loss: 0.0339 - lr: 0.0010\n",
      "Epoch 7/13\n",
      "225/225 [==============================] - ETA: 0s - loss: 0.0322\n",
      "Epoch 7: val_loss improved from 0.03386 to 0.03141, saving model to ./fcnn_weights_best.h5\n",
      "225/225 [==============================] - 7s 29ms/step - loss: 0.0322 - val_loss: 0.0314 - lr: 0.0010\n",
      "Epoch 8/13\n",
      "225/225 [==============================] - ETA: 0s - loss: 0.0311\n",
      "Epoch 8: val_loss did not improve from 0.03141\n",
      "225/225 [==============================] - 7s 29ms/step - loss: 0.0311 - val_loss: 0.0330 - lr: 0.0010\n",
      "Epoch 9/13\n",
      "225/225 [==============================] - ETA: 0s - loss: 0.0304\n",
      "Epoch 9: val_loss improved from 0.03141 to 0.03138, saving model to ./fcnn_weights_best.h5\n",
      "225/225 [==============================] - 7s 30ms/step - loss: 0.0304 - val_loss: 0.0314 - lr: 0.0010\n",
      "Epoch 10/13\n",
      "225/225 [==============================] - ETA: 0s - loss: 0.0299\n",
      "Epoch 10: val_loss improved from 0.03138 to 0.03048, saving model to ./fcnn_weights_best.h5\n",
      "225/225 [==============================] - 7s 30ms/step - loss: 0.0299 - val_loss: 0.0305 - lr: 0.0010\n",
      "Epoch 11/13\n",
      "225/225 [==============================] - ETA: 0s - loss: 0.0292\n",
      "Epoch 11: val_loss improved from 0.03048 to 0.02865, saving model to ./fcnn_weights_best.h5\n",
      "225/225 [==============================] - 7s 32ms/step - loss: 0.0292 - val_loss: 0.0286 - lr: 0.0010\n",
      "Epoch 12/13\n",
      "224/225 [============================>.] - ETA: 0s - loss: 0.0290\n",
      "Epoch 12: val_loss did not improve from 0.02865\n",
      "225/225 [==============================] - 7s 30ms/step - loss: 0.0290 - val_loss: 0.0287 - lr: 0.0010\n",
      "Epoch 13/13\n",
      "225/225 [==============================] - ETA: 0s - loss: 0.0283\n",
      "Epoch 13: val_loss improved from 0.02865 to 0.02843, saving model to ./fcnn_weights_best.h5\n",
      "225/225 [==============================] - 7s 30ms/step - loss: 0.0283 - val_loss: 0.0284 - lr: 0.0010\n"
     ]
    }
   ],
   "source": [
    "history = obj.fit(X_train, Y_train)"
   ]
  },
  {
   "cell_type": "markdown",
   "metadata": {
    "id": "0I3Lh_janY_i"
   },
   "source": [
    "## Predict on the test set and score the model"
   ]
  },
  {
   "cell_type": "code",
   "execution_count": null,
   "metadata": {
    "id": "-BoH5q7NnY_j"
   },
   "outputs": [],
   "source": [
    "score = obj.predict_score(X_test.squeeze(), Y_test)\n",
    "\n",
    "print(f\"Score: {score:.2f}\")"
   ]
  },
  {
   "cell_type": "markdown",
   "metadata": {
    "id": "xF5wO8_0nY_m",
    "tags": []
   },
   "source": [
    "### Plot the history"
   ]
  },
  {
   "cell_type": "code",
   "execution_count": null,
   "metadata": {
    "id": "IOjFO-0qnY_m",
    "inputHidden": false,
    "outputHidden": false
   },
   "outputs": [],
   "source": [
    "plot_history(history)"
   ]
  },
  {
   "cell_type": "markdown",
   "metadata": {
    "id": "5FUa1WHSnY_o"
   },
   "source": [
    "### Plot some examples"
   ]
  },
  {
   "cell_type": "code",
   "execution_count": null,
   "metadata": {
    "id": "3Kg_SRqZnY_p",
    "inputHidden": false,
    "outputHidden": false
   },
   "outputs": [],
   "source": [
    "plot_random_results(obj.model_, X_test, Y_test)"
   ]
  },
  {
   "cell_type": "markdown",
   "metadata": {
    "id": "mhktkfHhnY_r"
   },
   "source": [
    "---\n",
    "\n",
    "## Exercise: Modify the model above to obtain better results and increase the score\n",
    "\n",
    "**Hint:** As usual, start simple and expand your models. Yoprofileran look for existing 'object detection models' in Keras on the web to get some inspiration. However be careful not to end up with too complex models !\n",
    "\n",
    "### GOOD LUCK !"
   ]
  }
 ],
 "metadata": {
  "accelerator": "GPU",
  "colab": {
   "provenance": []
  },
  "kernelspec": {
   "display_name": "Python 3 (ipykernel)",
   "language": "python",
   "name": "python3"
  },
  "language_info": {
   "codemirror_mode": {
    "name": "ipython",
    "version": 3
   },
   "file_extension": ".py",
   "mimetype": "text/x-python",
   "name": "python",
   "nbconvert_exporter": "python",
   "pygments_lexer": "ipython3",
   "version": "3.9.17"
  },
  "nteract": {
   "version": "0.12.3"
  }
 },
 "nbformat": 4,
 "nbformat_minor": 4
}
