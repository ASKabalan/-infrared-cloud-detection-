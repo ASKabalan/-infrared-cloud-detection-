{
 "cells": [
  {
   "cell_type": "code",
   "execution_count": 1,
   "metadata": {},
   "outputs": [],
   "source": [
    "# -*- coding: utf-8 -*-\n",
    "# pylint: disable=W0108\n",
    "%load_ext autoreload\n",
    "%autoreload 2\n",
    "import numpy\n",
    "from astropy.io import fits\n",
    "from sklearn.linear_model import RidgeClassifier, SGDClassifier,LogisticRegression\n",
    "from sklearn.model_selection import train_test_split\n",
    "\n",
    "from plots import matrix_confusion, report, roc\n",
    "from utils import get_folders, get_user_data_general, parallel_style_w_one_arg\n"
   ]
  },
  {
   "cell_type": "code",
   "execution_count": 2,
   "metadata": {},
   "outputs": [],
   "source": [
    "# ------------------------------------------------------------------------------------------------------------------------------------------------------------------\n",
    "\n",
    "\n",
    "common_args = {\"max_iter\": 5000, \"tol\": 1e-4, \"learning_rate\": \"optimal\", \"early_stopping\": True, \"n_iter_no_change\": 50}\n",
    "\n",
    "# MODELS = [\n",
    "#     SGDClassifier(loss=\"hinge\", **common_args),\n",
    "#     SGDClassifier(loss=\"log_loss\", **common_args),\n",
    "#     SGDClassifier(loss=\"perceptron\", **common_args),\n",
    "#     RidgeClassifier(max_iter=5000, solver=\"svd\"),\n",
    "# ]\n",
    "\n",
    "# NAMES = [\"SVM\", \"LOGISTIC_REGRESSION\", \"PERCEPTRON\", \"RIDGE_REGRESSION\"]\n",
    "\n",
    "MODELS = [\n",
    "    RidgeClassifier(max_iter=5000, solver=\"svd\"),\n",
    "]\n",
    "\n",
    "NAMES = [\"RIDGE_REGRESSION\"]\n",
    "\n",
    "# ------------------------------------------------------------------------------------------------------------------------------------------------------------------"
   ]
  },
  {
   "cell_type": "code",
   "execution_count": 3,
   "metadata": {},
   "outputs": [
    {
     "name": "stdout",
     "output_type": "stream",
     "text": [
      "loading images with 20 cpus\n",
      "loading images with 20 cpus\n"
     ]
    }
   ],
   "source": [
    "# USER DATA\n",
    "NAME_DB, PATH_FOLDERS, DIRECTORIES, PERCENTAGE_TRAIN, _ = get_user_data_general()\n",
    "FOLDERS = get_folders(PATH_FOLDERS, NAME_DB, DIRECTORIES)\n",
    "FOLDER_DATABASE, FOLDER_PLOTS = FOLDERS[0], FOLDERS[1]\n",
    "path_image_files = sorted(FOLDER_DATABASE.glob(\"*.fits\"))\n",
    "path_labels_files = sorted(FOLDER_DATABASE.glob(\"*.npy\"))\n",
    "\n",
    "# COLLECT DATASET\n",
    "raw_images_data = parallel_style_w_one_arg(func=lambda arg: fits.getdata(arg), data=path_image_files)\n",
    "labels_data = parallel_style_w_one_arg(func=lambda arg: numpy.load(arg), data=path_labels_files)\n",
    "del path_image_files, path_labels_files\n",
    "\n",
    "# SPLIT DATASET\n",
    "raw_train_images_data, raw_test_images_data, training_labels_data, test_labels_data = train_test_split(\n",
    "    raw_images_data, labels_data, train_size=PERCENTAGE_TRAIN, shuffle=True\n",
    ")\n",
    "del raw_images_data\n",
    "\n",
    "# NORMALISE\n",
    "MIN_GLOBAL, MAX_GLOBAL = numpy.amin(raw_train_images_data), numpy.amax(raw_train_images_data)\n",
    "train_images_data = (raw_train_images_data - MIN_GLOBAL) / (MAX_GLOBAL - MIN_GLOBAL)\n",
    "test_images_data = (raw_test_images_data - MIN_GLOBAL) / (MAX_GLOBAL - MIN_GLOBAL)\n",
    "del raw_train_images_data, raw_test_images_data\n",
    "\n",
    "# RESHAPE FOR FIT\n",
    "reshaped_train_images_data = numpy.reshape(train_images_data, (numpy.shape(train_images_data)[0], -1))\n",
    "reshaped_test_images_data = numpy.reshape(test_images_data, (numpy.shape(test_images_data)[0], -1))\n",
    "del train_images_data, test_images_data\n",
    "\n"
   ]
  },
  {
   "cell_type": "code",
   "execution_count": 4,
   "metadata": {},
   "outputs": [
    {
     "name": "stdout",
     "output_type": "stream",
     "text": [
      "ModelRIDGE_REGRESSION_Ratio60\n"
     ]
    }
   ],
   "source": [
    "# TRAINING\n",
    "for num_model, model in enumerate(MODELS):\n",
    "    case = f\"Model{NAMES[num_model]}_Ratio{int(PERCENTAGE_TRAIN*100)}\"\n",
    "    print(case)\n",
    "    model.fit(reshaped_train_images_data, training_labels_data)\n",
    "    predictions = model.predict(reshaped_test_images_data)\n",
    "    predictions_proba = model.decision_function(reshaped_test_images_data)\n",
    "    matrix_confusion(test_labels_data, predictions, FOLDER_PLOTS, case, title=NAMES[num_model])\n",
    "    roc(predictions_proba, test_labels_data, FOLDER_PLOTS, case)\n",
    "    report(test_labels_data, predictions, FOLDER_PLOTS, case)\n"
   ]
  },
  {
   "cell_type": "code",
   "execution_count": 5,
   "metadata": {},
   "outputs": [],
   "source": [
    "roc(predictions_proba, test_labels_data, FOLDER_PLOTS, case,roc_data_file='../Results/LWIRISEG/Results/classif.csv')\n"
   ]
  },
  {
   "cell_type": "code",
   "execution_count": 15,
   "metadata": {},
   "outputs": [],
   "source": [
    "predictions_prob = model.predict_proba(reshaped_test_images_data)\n"
   ]
  },
  {
   "cell_type": "code",
   "execution_count": 16,
   "metadata": {},
   "outputs": [
    {
     "data": {
      "text/plain": [
       "array([[0.9783505 , 0.0216495 ],\n",
       "       [0.00210299, 0.99789701],\n",
       "       [0.98025704, 0.01974296],\n",
       "       ...,\n",
       "       [0.99264278, 0.00735722],\n",
       "       [0.96098125, 0.03901875],\n",
       "       [0.00102751, 0.99897249]])"
      ]
     },
     "execution_count": 16,
     "metadata": {},
     "output_type": "execute_result"
    }
   ],
   "source": [
    "roc(predictions_prob,test_labels_data)"
   ]
  },
  {
   "cell_type": "code",
   "execution_count": null,
   "metadata": {},
   "outputs": [],
   "source": []
  }
 ],
 "metadata": {
  "kernelspec": {
   "display_name": "Python 3",
   "language": "python",
   "name": "python3"
  },
  "language_info": {
   "codemirror_mode": {
    "name": "ipython",
    "version": 3
   },
   "file_extension": ".py",
   "mimetype": "text/x-python",
   "name": "python",
   "nbconvert_exporter": "python",
   "pygments_lexer": "ipython3",
   "version": "3.10.13"
  }
 },
 "nbformat": 4,
 "nbformat_minor": 2
}
