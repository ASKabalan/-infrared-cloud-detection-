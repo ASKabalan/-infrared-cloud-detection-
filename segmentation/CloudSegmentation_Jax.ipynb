{
  "cells": [
    {
      "cell_type": "markdown",
      "id": "2652c5f8",
      "metadata": {
        "id": "2652c5f8"
      },
      "source": [
        "## Cloud Image Segmentation using a UNET model\n",
        "Author : *Wassim Kabalan*<br>"
      ]
    },
    {
      "cell_type": "code",
      "execution_count": 37,
      "id": "L9g2Q_P8-T7-",
      "metadata": {
        "colab": {
          "base_uri": "https://localhost:8080/"
        },
        "id": "L9g2Q_P8-T7-",
        "outputId": "241c8fc3-31f0-4b2f-bf36-c473b7b5474f"
      },
      "outputs": [
        {
          "name": "stdout",
          "output_type": "stream",
          "text": [
            "removed 'outputDS12/model/checkpoint'\n",
            "removed directory 'outputDS12/model'\n",
            "removed directory 'outputDS12'\n"
          ]
        }
      ],
      "source": [
        "!rm -rvf outputDS12"
      ]
    },
    {
      "cell_type": "markdown",
      "id": "b9fwoQ6ld2IX",
      "metadata": {
        "id": "b9fwoQ6ld2IX"
      },
      "source": [
        "## Imports"
      ]
    },
    {
      "cell_type": "code",
      "execution_count": 2,
      "id": "b654b145-2aeb-48f8-aabb-46dcf128b3ae",
      "metadata": {
        "id": "b654b145-2aeb-48f8-aabb-46dcf128b3ae"
      },
      "outputs": [],
      "source": [
        "# @title\n",
        "import tensorflow as tf\n",
        "import matplotlib.pyplot as plt\n",
        "import numpy as np\n",
        "from astropy.io import fits\n",
        "\n",
        "# Multiprocessing\n",
        "import multiprocessing\n",
        "from joblib import parallel_backend, Parallel, delayed\n",
        "num_cores = multiprocessing.cpu_count()\n",
        "\n",
        "import glob\n",
        "from sklearn.model_selection import train_test_split\n",
        "import os\n",
        "import shutil\n",
        "import random\n",
        "from flax.training import orbax_utils\n",
        "import orbax.checkpoint\n",
        "import gc\n",
        "import csv"
      ]
    },
    {
      "cell_type": "code",
      "execution_count": 3,
      "id": "j7h9AbVQuMtm",
      "metadata": {
        "cellView": "form",
        "colab": {
          "base_uri": "https://localhost:8080/"
        },
        "id": "j7h9AbVQuMtm",
        "outputId": "d78bd563-4a3e-436d-d641-f88a733a6f5f"
      },
      "outputs": [
        {
          "name": "stdout",
          "output_type": "stream",
          "text": [
            "\u001b[2K     \u001b[90m━━━━━━━━━━━━━━━━━━━━━━━━━━━━━━━━━━━━━━━━\u001b[0m \u001b[32m409.6/409.6 kB\u001b[0m \u001b[31m6.6 MB/s\u001b[0m eta \u001b[36m0:00:00\u001b[0m\n",
            "\u001b[2K     \u001b[90m━━━━━━━━━━━━━━━━━━━━━━━━━━━━━━━━━━━━━━━━\u001b[0m \u001b[32m226.8/226.8 kB\u001b[0m \u001b[31m10.8 MB/s\u001b[0m eta \u001b[36m0:00:00\u001b[0m\n",
            "\u001b[2K     \u001b[90m━━━━━━━━━━━━━━━━━━━━━━━━━━━━━━━━━━━━━━━━\u001b[0m \u001b[32m78.6/78.6 kB\u001b[0m \u001b[31m5.0 MB/s\u001b[0m eta \u001b[36m0:00:00\u001b[0m\n",
            "\u001b[?25h"
          ]
        }
      ],
      "source": [
        "# @title\n",
        "!pip install -q optuna\n",
        "import optuna"
      ]
    },
    {
      "cell_type": "code",
      "execution_count": 4,
      "id": "tRKRB2DLU47E",
      "metadata": {
        "colab": {
          "base_uri": "https://localhost:8080/"
        },
        "id": "tRKRB2DLU47E",
        "outputId": "99823b72-e0b8-4817-d5ad-0d3f69082d02"
      },
      "outputs": [
        {
          "name": "stdout",
          "output_type": "stream",
          "text": [
            "Mounted at /gdrive\n"
          ]
        }
      ],
      "source": [
        "# @title\n",
        "from google.colab import drive\n",
        "drive.mount('/gdrive')"
      ]
    },
    {
      "cell_type": "code",
      "execution_count": 5,
      "id": "RSfc9Xa-511f",
      "metadata": {
        "id": "RSfc9Xa-511f"
      },
      "outputs": [],
      "source": [
        "# @title\n",
        "%load_ext autoreload\n",
        "%autoreload 2\n",
        "import sys\n",
        "sys.path.append('../utilities')\n",
        "\n",
        "import utilities as util\n",
        "import augmentations as aug\n",
        "import visualization as viz\n",
        "from training_utilities import TrainingMetrics, TrainingTimer"
      ]
    },
    {
      "cell_type": "markdown",
      "id": "XGEPArzTd6eh",
      "metadata": {
        "id": "XGEPArzTd6eh"
      },
      "source": [
        "# Model Creation and preprocessing"
      ]
    },
    {
      "cell_type": "markdown",
      "id": "6uegbH9Md9Om",
      "metadata": {
        "id": "6uegbH9Md9Om"
      },
      "source": [
        "### Model creation using Blocks\n",
        "\n",
        "In this code snippet, several classes representing different blocks of a U-Net architecture for semantic segmentation (named `CloudSegUNET`) are implemented using the Flax library, which is a high-performance neural network library designed for flexibility. The `jax` library is also utilized for efficient numerical computing.\n",
        "\n",
        "1. **Importing Necessary Libraries**:\n",
        "   - Importing essential libraries and modules such as `jax`, `flax`, `optax`, and `typing`.\n",
        "\n",
        "2. **Double Convolution Block (`DoubleConvBlock`)**:\n",
        "   - A block containing two sequential convolution layers followed by ReLU activations.\n",
        "   - The convolution operations have a kernel size of 3x3 and use 'SAME' padding.\n",
        "\n",
        "3. **Downsampling Block (`DownBlock`)**:\n",
        "   - A block that applies a double convolution block and then performs max pooling with a window shape of 2x2 and a stride of 2 to downsample the feature map.\n",
        "\n",
        "4. **Expansive Block (`ExpansiveBlock`)**:\n",
        "   - A block that first upsamples the input feature map to match the dimensions of the skip connection using nearest neighbor interpolation.\n",
        "   - It then concatenates the upsampled feature map with the skip connection feature map along the feature dimension.\n",
        "   - Finally, it applies a double convolution block to the concatenated feature map.\n",
        "\n",
        "5. **U-Net Architecture (`CloudSegUNET`)**:\n",
        "   - The U-Net architecture starts with a series of downsampling blocks, each reducing the spatial dimensions of the input feature map while increasing the number of feature channels.\n",
        "   - Skip connections from each downsampling block are saved for later use in the expansive blocks.\n",
        "   - The architecture then transitions to a series of expansive blocks, each increasing the spatial dimensions of the feature map while decreasing the number of feature channels.\n",
        "   - Each expansive block uses a skip connection from the corresponding downsampling block to provide high-resolution features.\n",
        "   - Finally, a convolution layer with a single output channel is applied to generate the segmentation map.\n"
      ]
    },
    {
      "cell_type": "code",
      "execution_count": 6,
      "id": "524441f6-567e-440d-8f23-1d837cb69ffb",
      "metadata": {
        "id": "524441f6-567e-440d-8f23-1d837cb69ffb"
      },
      "outputs": [],
      "source": [
        "import jax\n",
        "from jax import jit, vmap, pmap, grad , numpy as jnp\n",
        "\n",
        "from flax import linen as nn\n",
        "from flax.training import train_state\n",
        "import optax\n",
        "\n",
        "from typing import Any, Callable, Sequence, Tuple, Dict\n",
        "\n",
        "class DoubleConvBlock(nn.Module):\n",
        "    input_channels: int = 128\n",
        "    kernel_size: Tuple[int, int] = (3 ,3)\n",
        "\n",
        "    @nn.compact\n",
        "    def __call__(self, x):\n",
        "        x = nn.Conv(features=self.input_channels, kernel_size=self.kernel_size , padding='SAME')(x)\n",
        "        x = nn.relu(x)\n",
        "        x = nn.Conv(features=self.input_channels, kernel_size=self.kernel_size , padding='SAME')(x)\n",
        "        x = nn.relu(x)\n",
        "        #print(x.shape)\n",
        "        return x\n",
        "\n",
        "class DownBlock(nn.Module):\n",
        "    input_channels: int = 128\n",
        "\n",
        "    @nn.compact\n",
        "    def __call__(self, x):\n",
        "        conv = DoubleConvBlock(self.input_channels)(x)\n",
        "        x = nn.max_pool(conv, window_shape=(2,2), strides=(2,2), padding='SAME')\n",
        "        return x , conv\n",
        "\n",
        "class ExpansiveBlock(nn.Module):\n",
        "    input_channels: int = 128\n",
        "\n",
        "    @nn.compact\n",
        "    def __call__(self, x , skip_connection):\n",
        "        x = jax.image.resize(image=x, shape=(x.shape[0] , skip_connection.shape[1] , skip_connection.shape[2] , x.shape[3] ), method=\"nearest\")\n",
        "        x = jnp.concatenate([x ,skip_connection],axis=-1)\n",
        "        x = DoubleConvBlock(self.input_channels)(x)\n",
        "        return x\n",
        "\n",
        "\n",
        "class CloudSegUNET(nn.Module):\n",
        "    input_channels: Sequence[int]\n",
        "    bottle_neck_conv: int = 512\n",
        "    output_channel: int=1\n",
        "    @nn.compact\n",
        "    def __call__(self, x):\n",
        "\n",
        "        skip_outputs = []\n",
        "        for conv_layer in self.input_channels:\n",
        "            x , conv = DownBlock(conv_layer)(x)\n",
        "            skip_outputs.append((conv_layer , conv))\n",
        "\n",
        "        #x = nn.Conv(self.bottle_neck_conv, kernel_size=(3, 3))(x)\n",
        "        #x = nn.relu(x)\n",
        "        #x = jax.image.resize(x, (x.shape[0] * 2, x.shape[1] * 2, x.shape[2]) , method=\"nearest\")\n",
        "\n",
        "        for i , (unconv_layer , skip_output)  in enumerate(reversed(skip_outputs)):\n",
        "            x = ExpansiveBlock(unconv_layer)(x,skip_output)\n",
        "\n",
        "        x = nn.Conv(self.output_channel, kernel_size=(3, 3), padding='SAME')(x)\n",
        "        return x"
      ]
    },
    {
      "cell_type": "markdown",
      "id": "48nMbYs-KnxK",
      "metadata": {
        "id": "48nMbYs-KnxK"
      },
      "source": [
        "### Training functions\n",
        "\n",
        "1. **Training State Class (`TrainState`)**:\n",
        "   - A class inheriting from `train_state.TrainState` to represent the training state which includes a model configuration dictionary containing model parameters.\n",
        "\n",
        "2. **Creating Training State (`create_train_state`)**:\n",
        "   - Initializes the `CloudSegUNET` model with specified input channels and bottleneck convolution channels.\n",
        "   - Initializes model parameters using a random number generator (`rng`) and an input shape.\n",
        "   - Constructs an Adam optimizer with a cosine decay learning rate schedule.\n",
        "   - Returns a `TrainState` object initialized with the model, parameters, optimizer, and model configuration.\n",
        "\n",
        "3. **Loading Training State (`load_train_state`)**:\n",
        "   - Similar to `create_train_state` but for loading a pre-existing training state from provided parameters and model configuration.\n",
        "\n",
        "4. **Training Step (`train_step`)**:\n",
        "   - A function decorated with `@jit` for Just-In-Time compilation to speed up execution.\n",
        "   - Defines a nested `loss_fn` function to compute the loss and logits given model parameters.\n",
        "   - Utilizes `jax.value_and_grad` to obtain both the loss and gradients in a single call.\n",
        "   - Computes binary predictions, and accuracy.\n",
        "   - Applies gradient updates to the model parameters.\n",
        "   - Returns the updated training state, loss, and accuracy.\n",
        "\n",
        "5. **Evaluation Step (`eval_step`)**:\n",
        "   - A function decorated with `@jit` for Just-In-Time compilation, used to evaluate the model on validation data.\n",
        "   - Computes the loss, binary predictions, and accuracy similar to `train_step`.\n",
        "   - Returns the loss and accuracy.\n",
        "\n",
        "6. **Prediction (`predict`)**:\n",
        "   - A function decorated with `@jit` for Just-In-Time compilation, used to generate predictions on new data.\n",
        "   - Computes the probability of the positive class using the sigmoid function.\n",
        "   - Returns the probabilities.\n"
      ]
    },
    {
      "cell_type": "code",
      "execution_count": 7,
      "id": "19b60a22-047a-4a83-8062-06efb43ba4df",
      "metadata": {
        "id": "19b60a22-047a-4a83-8062-06efb43ba4df"
      },
      "outputs": [],
      "source": [
        "class TrainState(train_state.TrainState):\n",
        "    model_config: Dict  # This is the configuration or any other information about the model\n",
        "\n",
        "def create_train_state(rng, input_shape, input_channels = [64 , 128, 256 , 512], bottle_neck_conv = 1024, learning_rate = 1e-3, total_steps = 10):\n",
        "    model = CloudSegUNET(input_channels, bottle_neck_conv)\n",
        "    params = model.init(rng, jnp.ones(input_shape, dtype=jnp.float32))['params']\n",
        "    model_config = {\"input_shape\" : input_shape , \"input_channels\" : input_channels , \"bottle_neck_conv\" : bottle_neck_conv}\n",
        "    # Initialize optimizer (Adam)\n",
        "    cosine_decay_scheduler = optax.cosine_decay_schedule(learning_rate, decay_steps=total_steps, alpha=0.95)\n",
        "    opt_adam = optax.adam(learning_rate=cosine_decay_scheduler)\n",
        "    return TrainState.create(apply_fn=model.apply, params=params, tx=opt_adam,model_config=model_config)\n",
        "\n",
        "def load_train_state(params, model_config, learning_rate = 1e-3, total_steps = 10):\n",
        "\n",
        "    input_channels = model_config[\"input_channels\"]\n",
        "    bottle_neck_conv = model_config[\"bottle_neck_conv\"]\n",
        "    model = CloudSegUNET(input_channels,bottle_neck_conv)\n",
        "    # Initialize optimizer (Adam)\n",
        "    cosine_decay_scheduler = optax.cosine_decay_schedule(learning_rate, decay_steps=total_steps, alpha=0.95)\n",
        "    opt_adam = optax.adam(learning_rate=cosine_decay_scheduler)\n",
        "    return TrainState.create(apply_fn=model.apply, params=params, tx=opt_adam,model_config=model_config)\n",
        "\n",
        "@jit\n",
        "def train_step(state, images, labels):\n",
        "\n",
        "    def loss_fn(params):\n",
        "        logits = state.apply_fn({'params': params}, images)\n",
        "        loss = jnp.mean(optax.sigmoid_binary_cross_entropy(logits=logits, labels=labels))\n",
        "        return loss, logits\n",
        "\n",
        "    grad_fn = jax.value_and_grad(loss_fn, has_aux=True)\n",
        "    (loss, logits), grads = grad_fn(state.params)\n",
        "\n",
        "    probs = jax.nn.sigmoid(logits)\n",
        "    # Round to get binary predictions\n",
        "    preds = jnp.round(probs)\n",
        "    # Compute accuracy for binary classification\n",
        "    accuracy = jnp.mean(preds == labels)\n",
        "    new_state = state.apply_gradients(grads=grads)\n",
        "\n",
        "    return new_state, loss, accuracy\n",
        "\n",
        "@jit\n",
        "def eval_step(state, images, labels):\n",
        "\n",
        "    logits = state.apply_fn({'params': state.params}, images)\n",
        "    loss = jnp.mean(optax.sigmoid_binary_cross_entropy(logits=logits, labels=labels))\n",
        "\n",
        "    probs = jax.nn.sigmoid(logits)\n",
        "    # Round to get binary predictions\n",
        "    preds = jnp.round(probs)\n",
        "    # Compute accuracy for binary classification\n",
        "    accuracy = jnp.mean(preds == labels)\n",
        "\n",
        "    return  loss, accuracy\n",
        "\n",
        "@jit\n",
        "def predict(state, images):\n",
        "    logits = state.apply_fn({'params': state.params}, images)\n",
        "    probs = jax.nn.sigmoid(logits)\n",
        "    return probs"
      ]
    },
    {
      "cell_type": "markdown",
      "id": "qBSopUDUTQ_q",
      "metadata": {
        "id": "qBSopUDUTQ_q"
      },
      "source": [
        "### Model persistency\n",
        "\n",
        "1. **Saving Model (`save_model`)**:\n",
        "   - Function to save the current training state of the Flax model using the orbax library.\n",
        "   - Utilizes `orbax.checkpoint.PyTreeCheckpointer` to handle the saving of the model.\n",
        "   - The `os.makedirs` function ensures the target directory exists, creating it if necessary.\n",
        "   - The `save` method of `orbax_checkpointer` is called with the `force=True` argument to allow overwriting of an existing checkpoint.\n",
        "\n",
        "2. **Loading Model (`load_model`)**:\n",
        "   - Function to load a saved training state of the Flax model using the orbax library.\n",
        "   - Utilizes `orbax.checkpoint.PyTreeCheckpointer` to handle the restoration of the model.\n",
        "   - The `restore` method of `orbax_checkpointer` is called to load the training state from the specified model path.\n",
        "   - Extracts model parameters and configuration from the restored training state.\n",
        "   - Calls `load_train_state` with the restored parameters and configuration to recreate the training state, and returns this training state.\n"
      ]
    },
    {
      "cell_type": "code",
      "execution_count": 8,
      "id": "c875745c",
      "metadata": {
        "id": "c875745c"
      },
      "outputs": [],
      "source": [
        "def save_model(state, model_path):\n",
        "    \"\"\"\n",
        "    Save the Flax model using orbax.\n",
        "\n",
        "    Parameters:\n",
        "    - state: Flax train_state to be saved.\n",
        "    - model_path: Path where the model will be saved.\n",
        "    \"\"\"\n",
        "    orbax_checkpointer = orbax.checkpoint.PyTreeCheckpointer()\n",
        "    save_args = orbax_utils.save_args_from_target({'model': state})\n",
        "    target_dir = f\"{model_path}/model\"\n",
        "    os.makedirs(target_dir, exist_ok=True)\n",
        "    # The following line is new and allows overwriting of an existing checkpoint\n",
        "    orbax_checkpointer.save(f\"{model_path}/model\", {'model': state}, save_args=save_args, force=True)\n",
        "\n",
        "def load_model(model_path):\n",
        "    \"\"\"\n",
        "    Load the Flax model using orbax.\n",
        "\n",
        "    Parameters:\n",
        "    - model_path: Path from where the model will be loaded.\n",
        "\n",
        "    Returns:\n",
        "    - state: Loaded Flax train_state.\n",
        "    \"\"\"\n",
        "    orbax_checkpointer = orbax.checkpoint.PyTreeCheckpointer()\n",
        "    restored_data = orbax_checkpointer.restore(model_path)\n",
        "    state = restored_data['model']\n",
        "    params = state['params']\n",
        "    model_config = state['model_config']\n",
        "\n",
        "    return load_train_state(params, model_config, learning_rate = 1e-3, total_steps = 10)"
      ]
    },
    {
      "cell_type": "markdown",
      "id": "VD2o2zCNcusH",
      "metadata": {
        "id": "VD2o2zCNcusH"
      },
      "source": [
        "## Data Loading and Preprocessing"
      ]
    },
    {
      "cell_type": "markdown",
      "id": "jEhlqp6icusI",
      "metadata": {
        "id": "jEhlqp6icusI"
      },
      "source": [
        "For this image segmentation task, our data consists of FITS (Flexible Image Transport System) files.\n",
        "\n",
        "### Opening and Preprocessing FITS files\n",
        "\n",
        "Our `open_fits_with_mask` function performs the following tasks:\n",
        "\n",
        "**File Opening:** Opens the provided `FITS` file using the `fits.open()` method.\\\n",
        "**Extracting Image and Mask:** The function retrieves the actual image data (cloud) and the corresponding segmentation mask.\n",
        "Normalization: To bring the pixel values within a standard range, the cloud data is normalized using a given DR value."
      ]
    },
    {
      "cell_type": "code",
      "execution_count": 9,
      "id": "UtJlLH2ycusK",
      "metadata": {
        "id": "UtJlLH2ycusK"
      },
      "outputs": [],
      "source": [
        "def open_fits_with_mask(filename,DR = 2**14):\n",
        "    image = fits.open(filename)\n",
        "    cloud = image[0].data\n",
        "\n",
        "    mask = image[1].data\n",
        "    del image\n",
        "\n",
        "    # Normalize image\n",
        "    cloud  = cloud / DR\n",
        "    return cloud , mask"
      ]
    },
    {
      "cell_type": "markdown",
      "id": "dnleiSyzUFpf",
      "metadata": {
        "id": "dnleiSyzUFpf"
      },
      "source": [
        "### Loading the Dataset\n",
        "\n",
        "**Retrieve File Paths:** We obtain a list of all FITS files present in our specified directory.\\\n",
        "**Shuffle the List:** To ensure randomness and avoid any inherent order bias, we shuffle our list of images.\\\n",
        "**Parallel Processing:** Leveraging the joblib library, we employ parallel processing to efficiently load all our FITS files using multiple cores."
      ]
    },
    {
      "cell_type": "code",
      "execution_count": 29,
      "id": "6nnmcxuB-9c3",
      "metadata": {
        "id": "6nnmcxuB-9c3"
      },
      "outputs": [],
      "source": [
        "random.seed(0)"
      ]
    },
    {
      "cell_type": "code",
      "execution_count": 30,
      "id": "NmiYsOO8HQSi",
      "metadata": {
        "id": "NmiYsOO8HQSi"
      },
      "outputs": [],
      "source": [
        "#images_list = glob.glob('/gdrive/MyDrive/Colab/CIRRUS/CIRRUS_DS/public_datasets/SWIMSEG/*.fits')\n",
        "images_list = glob.glob('/gdrive/MyDrive/Colab/CIRRUS/CIRRUS_DS/Segmentation/DS2_MASKED_SUBSET/*.fits')\n",
        "images_list += glob.glob('/gdrive/MyDrive/Colab/CIRRUS/CIRRUS_DS/Segmentation/DS1_MASKED_SUBSET/*.fits')\n",
        "images_list = random.choices(images_list, k=len(images_list))\n",
        "\n",
        "with parallel_backend('threading', n_jobs=num_cores):\n",
        "    l_fits = Parallel(verbose=0)(delayed(open_fits_with_mask)(filename=r) for r in images_list)\n",
        "l_fits = np.array(l_fits)"
      ]
    },
    {
      "cell_type": "code",
      "execution_count": 31,
      "id": "pctqeqeap7dK",
      "metadata": {
        "colab": {
          "base_uri": "https://localhost:8080/"
        },
        "id": "pctqeqeap7dK",
        "outputId": "9a637e75-6ec7-4a57-9ec1-d4e7235ab6b2"
      },
      "outputs": [
        {
          "data": {
            "text/plain": [
              "4445"
            ]
          },
          "execution_count": 31,
          "metadata": {},
          "output_type": "execute_result"
        }
      ],
      "source": [
        "len(images_list)"
      ]
    },
    {
      "cell_type": "markdown",
      "id": "R-LjcIyhUQ09",
      "metadata": {
        "id": "R-LjcIyhUQ09"
      },
      "source": [
        "### Quick Visual Inspection\n",
        "\n",
        "To verify our data loading process and get a sense of our data, we randomly select three images from our dataset.\n",
        "Display them using the util.plot_image function."
      ]
    },
    {
      "cell_type": "code",
      "execution_count": 33,
      "id": "BrZ_jQY_cusP",
      "metadata": {
        "colab": {
          "base_uri": "https://localhost:8080/",
          "height": 607
        },
        "id": "BrZ_jQY_cusP",
        "outputId": "19550e8e-437a-4ba8-fd89-1c74e36c64f9"
      },
      "outputs": [
        {
          "data": {
            "image/png": "[encoded data removed]",
            "text/plain": [
              "<Figure size 600x600 with 12 Axes>"
            ]
          },
          "metadata": {},
          "output_type": "display_data"
        }
      ],
      "source": [
        "# Collect 3 random tuples from l_fits\n",
        "random_data = [l_fits[random.randint(0, len(l_fits) - 1)] for _ in range(3)]\n",
        "# Now use plot_images function to plot these images\n",
        "viz.plot_images(data_list=random_data, figsize_per_row=(6, 2))"
      ]
    },
    {
      "cell_type": "markdown",
      "id": "sNHLNWVCcusQ",
      "metadata": {
        "id": "sNHLNWVCcusQ"
      },
      "source": [
        "### Data set gen and batching\n",
        "\n",
        "Training a neural network requires input data in batches. The custom data generator, CloudImageDataGenerator, ensures smooth data flow during training by dividing the dataset into batches and feeding it into the model. This is particularly important when the dataset is too large to fit into memory.\n",
        "\n",
        "### Data Augmentation on the fly\n",
        "\n",
        "the data set generator is used to train on batches of images\\\n",
        "Each set of batch is augmented by a parameter `aug_batch_size`\n",
        "\n",
        "### Loading data in Jax Numpy Array\n",
        "\n",
        "The only difference between this loader and the keras loader is the fact that we add a dimension (represting the grayscale channel) for convolutions and we return directly Jax numpy arrays\n"
      ]
    },
    {
      "cell_type": "code",
      "execution_count": 34,
      "id": "1d5bbadb-7444-4548-aaec-6e4977255c3a",
      "metadata": {
        "id": "1d5bbadb-7444-4548-aaec-6e4977255c3a"
      },
      "outputs": [],
      "source": [
        "class CloudImageDataGenerator(tf.keras.utils.Sequence):\n",
        "    def __init__(self, x_data, y_data, batch_size=8,aug_batch_size=2, shuffle=True):\n",
        "        self.x_data = x_data\n",
        "        self.y_data = y_data\n",
        "        self.batch_size = batch_size\n",
        "        self.aug_batch_size = aug_batch_size\n",
        "        self.shuffle = shuffle\n",
        "        self.indices = np.arange(len(self.x_data))\n",
        "        if self.shuffle:\n",
        "            np.random.shuffle(self.indices)\n",
        "\n",
        "    def __len__(self):\n",
        "        return int(np.ceil(len(self.x_data) / self.batch_size))\n",
        "\n",
        "    def __getitem__(self, index):\n",
        "        start_idx = index * self.batch_size\n",
        "        end_idx = (index + 1) * self.batch_size\n",
        "        batch_indices = self.indices[start_idx:end_idx]\n",
        "\n",
        "        batch_x = self.x_data[batch_indices]\n",
        "        batch_y = self.y_data[batch_indices]\n",
        "\n",
        "        # Create a list of tuples using zip\n",
        "        batch_list = list(zip(batch_x, batch_y))\n",
        "\n",
        "        if self.aug_batch_size != 0:\n",
        "            l_fits_aug = [aug.random_augment(img_mask=random.choice(batch_list)) for _ in range(self.aug_batch_size)]\n",
        "            fits_images_aug = np.array(l_fits_aug)\n",
        "\n",
        "            batch_x =  np.concatenate((batch_x, fits_images_aug[:,0]), axis=0)\n",
        "            batch_y =  np.concatenate((batch_y, fits_images_aug[:,1]), axis=0)\n",
        "\n",
        "        # Convert the TensorFlow tensors to JAX arrays\n",
        "        batch_x = jnp.array(batch_x[..., np.newaxis])\n",
        "        batch_y = jnp.array(batch_y[..., np.newaxis])\n",
        "\n",
        "        return batch_x, batch_y\n",
        "\n",
        "\n",
        "    def on_epoch_end(self):\n",
        "        if self.shuffle:\n",
        "            np.random.shuffle(self.indices)"
      ]
    },
    {
      "cell_type": "markdown",
      "id": "T-y7gREgLrOj",
      "metadata": {
        "id": "T-y7gREgLrOj"
      },
      "source": [
        "Split the data set into training and validation"
      ]
    },
    {
      "cell_type": "code",
      "execution_count": 35,
      "id": "YJQSlS8yK5SC",
      "metadata": {
        "id": "YJQSlS8yK5SC"
      },
      "outputs": [],
      "source": [
        "indices = np.arange(len(l_fits))\n",
        "np.random.shuffle(indices)\n",
        "\n",
        "# Split the indices for train and test\n",
        "train_idx = indices[:int(0.8 * len(indices))]\n",
        "test_idx = indices[int(0.8 * len(indices)):]\n",
        "\n",
        "# Use the indices to split the l_fits list\n",
        "all_data = l_fits\n",
        "train_data = l_fits[train_idx]\n",
        "test_data = l_fits[test_idx]\n",
        "\n",
        "# Separate images and masks\n",
        "X_train, y_train = train_data[:,0], train_data[:,1]\n",
        "X_test, y_test = test_data[:,0], test_data[:,1]\n",
        "all_train, all_val= l_fits[:,0],l_fits[:,1]"
      ]
    },
    {
      "cell_type": "markdown",
      "id": "AsQGqe92LuVx",
      "metadata": {
        "id": "AsQGqe92LuVx"
      },
      "source": [
        "Load the dataset generator\\\n",
        "We choose not to augment the validation set because it does not make sense"
      ]
    },
    {
      "cell_type": "code",
      "execution_count": 36,
      "id": "009f95c9-539f-45b6-affa-3090371e666a",
      "metadata": {
        "id": "009f95c9-539f-45b6-affa-3090371e666a"
      },
      "outputs": [],
      "source": [
        "ds_train_gen = CloudImageDataGenerator(x_data=X_train,y_data=y_train,batch_size=64,aug_batch_size=16, shuffle=True)\n",
        "ds_val_gen = CloudImageDataGenerator(x_data=X_test,y_data=y_test,batch_size=64,aug_batch_size=0, shuffle=False)"
      ]
    },
    {
      "cell_type": "markdown",
      "id": "iuV0Rn1eiYh7",
      "metadata": {
        "id": "iuV0Rn1eiYh7"
      },
      "source": [
        "# (Part 1) Training the base model"
      ]
    },
    {
      "cell_type": "markdown",
      "id": "rLG0DjQAVA4a",
      "metadata": {
        "id": "rLG0DjQAVA4a"
      },
      "source": [
        "The following cell initializes the necessary variables and configurations for training a U-Net model. Random number generators are prepared, and the model's input shape, filter configurations, and training parameters like learning rate, number of epochs, and early stopping criteria are specified. A training state for the model is created using the `create_train_state` function. Additionally, the output path for saving the model and utility instances for tracking training metrics and time are\n"
      ]
    },
    {
      "cell_type": "code",
      "execution_count": 38,
      "id": "Ogi4mQlZmt1k",
      "metadata": {
        "id": "Ogi4mQlZmt1k"
      },
      "outputs": [],
      "source": [
        "output_model_path = '/content/outputDS12'"
      ]
    },
    {
      "cell_type": "code",
      "execution_count": 39,
      "id": "w7-UjBpAnW8T",
      "metadata": {
        "id": "w7-UjBpAnW8T"
      },
      "outputs": [],
      "source": [
        "# Initialize model\n",
        "rng = jax.random.PRNGKey(0)\n",
        "rng, init_rng = jax.random.split(rng)\n",
        "input_shape = (24, 160, 128, 1)\n",
        "n_batches = len(ds_train_gen)\n",
        "\n",
        "unet_filters = [128, 64,32, 16]\n",
        "bottle_neck_conv = 1024\n",
        "learning_rate  = 1e-3\n",
        "state = create_train_state(init_rng, input_shape,unet_filters, bottle_neck_conv,learning_rate, n_batches)\n",
        "num_epochs = 100\n",
        "\n",
        "verbose = 2\n",
        "patience = 10  # Number of epochs to wait before stopping\n",
        "best_val_loss = float('inf')  # Store the best validation loss\n",
        "counter = 0  # Keep track of how many epochs have passed since last best validation loss\n",
        "\n",
        "metrics = TrainingMetrics()\n",
        "timer = TrainingTimer()"
      ]
    },
    {
      "cell_type": "code",
      "execution_count": 40,
      "id": "PUzilXLoFbDl",
      "metadata": {
        "id": "PUzilXLoFbDl"
      },
      "outputs": [],
      "source": [
        "num_epochs = 100"
      ]
    },
    {
      "cell_type": "markdown",
      "id": "JHHnlWVWVI6C",
      "metadata": {
        "id": "JHHnlWVWVI6C"
      },
      "source": [
        "The following cell outlines the main training loop for the model, iterating through each epoch and each batch of data in the training and validation datasets. In each epoch, the training metrics are reset, and the timer is started to keep track of the training time. The model parameters are updated in each training step using the `train_step` function, and training loss and accuracy are recorded. Similarly, validation loss and accuracy are computed using the `eval_step` function. Progress and average metrics are optionally printed to the console depending on the verbosity level.\n",
        "\n",
        "If the average validation loss improves, the model checkpoint is saved, and the early stopping counter is reset. If the validation loss does not improve, the early stopping counter is incremented. If the counter reaches the specified patience, training is terminated early, and a message is printed to the console. This setup helps in both tracking the training progress and ensuring that training stops if there's no improvement, to save resources and time.\n"
      ]
    },
    {
      "cell_type": "code",
      "execution_count": 41,
      "id": "nGSXgvdpGzwL",
      "metadata": {
        "id": "nGSXgvdpGzwL"
      },
      "outputs": [],
      "source": [
        "avg_train_loss = []\n",
        "avg_val_loss = []\n",
        "avg_train_accuracy = []\n",
        "avg_val_accuracy = []"
      ]
    },
    {
      "cell_type": "code",
      "execution_count": 43,
      "id": "PmzyS63ysBcG",
      "metadata": {
        "colab": {
          "base_uri": "https://localhost:8080/"
        },
        "id": "PmzyS63ysBcG",
        "outputId": "50ca2c82-89f7-4aec-b407-ac76f1c09b73"
      },
      "outputs": [
        {
          "name": "stdout",
          "output_type": "stream",
          "text": [
            "Epoch 1/100 done - Loss: 0.3882056474685669, Accuracy: 0.8421290516853333, - val_Loss: 0.3649243712425232, val_Accuracy: 0.8673885464668274,  Time taken: 26.29 seconds\n",
            "Epoch 2/100 done - Loss: 0.36195847392082214, Accuracy: 0.8579875826835632, - val_Loss: 0.3559350073337555, val_Accuracy: 0.8673885464668274,  Time taken: 18.19 seconds\n",
            "Epoch 3/100 done - Loss: 0.35834506154060364, Accuracy: 0.8564450740814209, - val_Loss: 0.3539009392261505, val_Accuracy: 0.8673885464668274,  Time taken: 18.26 seconds\n",
            "Epoch 4/100 done - Loss: 0.3597589135169983, Accuracy: 0.8568534255027771, - val_Loss: 0.35475367307662964, val_Accuracy: 0.8673885464668274,  Time taken: 18.04 seconds\n",
            "EarlyStopping counter: 1 out of 10\n",
            "Epoch 5/100 done - Loss: 0.35724908113479614, Accuracy: 0.8585548996925354, - val_Loss: 0.35508930683135986, val_Accuracy: 0.8673885464668274,  Time taken: 18.16 seconds\n",
            "EarlyStopping counter: 2 out of 10\n",
            "Epoch 6/100 done - Loss: 0.36006391048431396, Accuracy: 0.8560518026351929, - val_Loss: 0.3578101694583893, val_Accuracy: 0.8673885464668274,  Time taken: 18.11 seconds\n",
            "EarlyStopping counter: 3 out of 10\n",
            "Epoch 7/100 done - Loss: 0.35802194476127625, Accuracy: 0.8586331605911255, - val_Loss: 0.3525964915752411, val_Accuracy: 0.8673885464668274,  Time taken: 18.04 seconds\n",
            "Epoch 8/100 done - Loss: 0.3519797921180725, Accuracy: 0.8567863702774048, - val_Loss: 0.34873297810554504, val_Accuracy: 0.8673885464668274,  Time taken: 18.17 seconds\n",
            "Epoch 9/100 done - Loss: 0.34817302227020264, Accuracy: 0.8588846325874329, - val_Loss: 0.34748995304107666, val_Accuracy: 0.8673885464668274,  Time taken: 18.24 seconds\n",
            "Epoch 10/100 done - Loss: 0.33982208371162415, Accuracy: 0.8598042130470276, - val_Loss: 0.3199625015258789, val_Accuracy: 0.8747550845146179,  Time taken: 18.03 seconds\n",
            "Epoch 11/100 done - Loss: 0.3249609172344208, Accuracy: 0.8619029521942139, - val_Loss: 0.3044074773788452, val_Accuracy: 0.8647991418838501,  Time taken: 18.11 seconds\n",
            "Epoch 12/100 done - Loss: 0.2954781651496887, Accuracy: 0.8684738874435425, - val_Loss: 0.2823379635810852, val_Accuracy: 0.8860982656478882,  Time taken: 18.16 seconds\n",
            "Epoch 13/100 done - Loss: 0.2776402235031128, Accuracy: 0.871686577796936, - val_Loss: 0.25820139050483704, val_Accuracy: 0.89231938123703,  Time taken: 18.06 seconds\n",
            "Epoch 14/100 done - Loss: 0.2766145169734955, Accuracy: 0.8721951246261597, - val_Loss: 0.27416253089904785, val_Accuracy: 0.8907067775726318,  Time taken: 18.15 seconds\n",
            "EarlyStopping counter: 1 out of 10\n",
            "Epoch 15/100 done - Loss: 0.2716416120529175, Accuracy: 0.8747560381889343, - val_Loss: 0.26243022084236145, val_Accuracy: 0.8944117426872253,  Time taken: 18.15 seconds\n",
            "EarlyStopping counter: 2 out of 10\n",
            "Epoch 16/100 done - Loss: 0.2595445215702057, Accuracy: 0.8776291608810425, - val_Loss: 0.25123828649520874, val_Accuracy: 0.8960013389587402,  Time taken: 18.13 seconds\n",
            "Epoch 17/100 done - Loss: 0.25730523467063904, Accuracy: 0.8804294466972351, - val_Loss: 0.24259331822395325, val_Accuracy: 0.8988369703292847,  Time taken: 18.08 seconds\n",
            "Epoch 18/100 done - Loss: 0.2438877820968628, Accuracy: 0.8821395039558411, - val_Loss: 0.2318284958600998, val_Accuracy: 0.9035432934761047,  Time taken: 18.16 seconds\n",
            "Epoch 19/100 done - Loss: 0.24367713928222656, Accuracy: 0.8828943967819214, - val_Loss: 0.23521776497364044, val_Accuracy: 0.9039016962051392,  Time taken: 18.03 seconds\n",
            "EarlyStopping counter: 1 out of 10\n",
            "Epoch 20/100 done - Loss: 0.2403712421655655, Accuracy: 0.8831273913383484, - val_Loss: 0.22421026229858398, val_Accuracy: 0.9061258435249329,  Time taken: 18.15 seconds\n",
            "Epoch 21/100 done - Loss: 0.23739805817604065, Accuracy: 0.8853307962417603, - val_Loss: 0.22248226404190063, val_Accuracy: 0.9068635702133179,  Time taken: 18.17 seconds\n",
            "Epoch 22/100 done - Loss: 0.2323116660118103, Accuracy: 0.8868834376335144, - val_Loss: 0.21808530390262604, val_Accuracy: 0.9108492136001587,  Time taken: 18.05 seconds\n",
            "Epoch 23/100 done - Loss: 0.22630995512008667, Accuracy: 0.8895180225372314, - val_Loss: 0.215833380818367, val_Accuracy: 0.9102960228919983,  Time taken: 18.05 seconds\n",
            "Epoch 24/100 done - Loss: 0.22206515073776245, Accuracy: 0.8927138447761536, - val_Loss: 0.2142999768257141, val_Accuracy: 0.911706268787384,  Time taken: 18.09 seconds\n",
            "Epoch 25/100 done - Loss: 0.23099060356616974, Accuracy: 0.8883742094039917, - val_Loss: 0.22898580133914948, val_Accuracy: 0.9087098240852356,  Time taken: 17.97 seconds\n",
            "EarlyStopping counter: 1 out of 10\n",
            "Epoch 26/100 done - Loss: 0.22826986014842987, Accuracy: 0.8879444003105164, - val_Loss: 0.21326559782028198, val_Accuracy: 0.9117243885993958,  Time taken: 18.13 seconds\n",
            "Epoch 27/100 done - Loss: 0.21618211269378662, Accuracy: 0.8929814100265503, - val_Loss: 0.20326551795005798, val_Accuracy: 0.9162404537200928,  Time taken: 18.14 seconds\n",
            "Epoch 28/100 done - Loss: 0.21709612011909485, Accuracy: 0.8932624459266663, - val_Loss: 0.20509257912635803, val_Accuracy: 0.9140068888664246,  Time taken: 18.02 seconds\n",
            "EarlyStopping counter: 1 out of 10\n",
            "Epoch 29/100 done - Loss: 0.21041403710842133, Accuracy: 0.8945128917694092, - val_Loss: 0.2048141211271286, val_Accuracy: 0.9160921573638916,  Time taken: 18.12 seconds\n",
            "EarlyStopping counter: 2 out of 10\n",
            "Epoch 30/100 done - Loss: 0.21876032650470734, Accuracy: 0.891590416431427, - val_Loss: 0.19712959229946136, val_Accuracy: 0.9190405011177063,  Time taken: 18.16 seconds\n",
            "Epoch 31/100 done - Loss: 0.20622585713863373, Accuracy: 0.8974179029464722, - val_Loss: 0.18608015775680542, val_Accuracy: 0.9223662614822388,  Time taken: 17.95 seconds\n",
            "Epoch 32/100 done - Loss: 0.20745094120502472, Accuracy: 0.8956243991851807, - val_Loss: 0.19579169154167175, val_Accuracy: 0.921342134475708,  Time taken: 18.14 seconds\n",
            "EarlyStopping counter: 1 out of 10\n",
            "Epoch 33/100 done - Loss: 0.20007185637950897, Accuracy: 0.8988152742385864, - val_Loss: 0.19336281716823578, val_Accuracy: 0.9211502075195312,  Time taken: 18.15 seconds\n",
            "EarlyStopping counter: 2 out of 10\n",
            "Epoch 34/100 done - Loss: 0.2005147635936737, Accuracy: 0.898681640625, - val_Loss: 0.1928657740354538, val_Accuracy: 0.9189346432685852,  Time taken: 17.98 seconds\n",
            "EarlyStopping counter: 3 out of 10\n",
            "Epoch 35/100 done - Loss: 0.2002141922712326, Accuracy: 0.897700309753418, - val_Loss: 0.18426837027072906, val_Accuracy: 0.923412561416626,  Time taken: 18.10 seconds\n",
            "Epoch 36/100 done - Loss: 0.19932858645915985, Accuracy: 0.9002305269241333, - val_Loss: 0.18881097435951233, val_Accuracy: 0.9211105108261108,  Time taken: 18.17 seconds\n",
            "EarlyStopping counter: 1 out of 10\n",
            "Epoch 37/100 done - Loss: 0.19973978400230408, Accuracy: 0.8983517289161682, - val_Loss: 0.1805592179298401, val_Accuracy: 0.9251535534858704,  Time taken: 18.01 seconds\n",
            "Epoch 38/100 done - Loss: 0.192190483212471, Accuracy: 0.9019359350204468, - val_Loss: 0.1763707548379898, val_Accuracy: 0.9272081255912781,  Time taken: 18.10 seconds\n",
            "Epoch 39/100 done - Loss: 0.18804456293582916, Accuracy: 0.9026427268981934, - val_Loss: 0.17529943585395813, val_Accuracy: 0.9279671311378479,  Time taken: 18.25 seconds\n",
            "Epoch 40/100 done - Loss: 0.19283746182918549, Accuracy: 0.9021533131599426, - val_Loss: 0.18377520143985748, val_Accuracy: 0.9233148097991943,  Time taken: 18.08 seconds\n",
            "EarlyStopping counter: 1 out of 10\n",
            "Epoch 41/100 done - Loss: 0.18488338589668274, Accuracy: 0.9044821262359619, - val_Loss: 0.17412275075912476, val_Accuracy: 0.9273307919502258,  Time taken: 18.13 seconds\n",
            "Epoch 42/100 done - Loss: 0.18753893673419952, Accuracy: 0.9023188352584839, - val_Loss: 0.1732938587665558, val_Accuracy: 0.9282679557800293,  Time taken: 18.14 seconds\n",
            "Epoch 43/100 done - Loss: 0.1859448403120041, Accuracy: 0.9034823179244995, - val_Loss: 0.17016719281673431, val_Accuracy: 0.9289470911026001,  Time taken: 17.99 seconds\n",
            "Epoch 44/100 done - Loss: 0.18343469500541687, Accuracy: 0.9055312275886536, - val_Loss: 0.17420800030231476, val_Accuracy: 0.9268627166748047,  Time taken: 18.01 seconds\n",
            "EarlyStopping counter: 1 out of 10\n",
            "Epoch 45/100 done - Loss: 0.1842760294675827, Accuracy: 0.906509518623352, - val_Loss: 0.1676495373249054, val_Accuracy: 0.930404543876648,  Time taken: 18.10 seconds\n",
            "Epoch 46/100 done - Loss: 0.1812206357717514, Accuracy: 0.9070871472358704, - val_Loss: 0.16034525632858276, val_Accuracy: 0.9331738948822021,  Time taken: 17.94 seconds\n",
            "Epoch 47/100 done - Loss: 0.18189504742622375, Accuracy: 0.9044865369796753, - val_Loss: 0.16383753716945648, val_Accuracy: 0.9336098432540894,  Time taken: 18.13 seconds\n",
            "EarlyStopping counter: 1 out of 10\n",
            "Epoch 48/100 done - Loss: 0.176990807056427, Accuracy: 0.9070587754249573, - val_Loss: 0.15998104214668274, val_Accuracy: 0.9335833191871643,  Time taken: 18.10 seconds\n",
            "Epoch 49/100 done - Loss: 0.18145732581615448, Accuracy: 0.9073032140731812, - val_Loss: 0.16214804351329803, val_Accuracy: 0.9336373805999756,  Time taken: 17.99 seconds\n",
            "EarlyStopping counter: 1 out of 10\n",
            "Epoch 50/100 done - Loss: 0.17259009182453156, Accuracy: 0.9094986915588379, - val_Loss: 0.16031546890735626, val_Accuracy: 0.9324064254760742,  Time taken: 17.99 seconds\n",
            "EarlyStopping counter: 2 out of 10\n",
            "Epoch 51/100 done - Loss: 0.18262656033039093, Accuracy: 0.9046428799629211, - val_Loss: 0.160873681306839, val_Accuracy: 0.9338376522064209,  Time taken: 18.10 seconds\n",
            "EarlyStopping counter: 3 out of 10\n",
            "Epoch 52/100 done - Loss: 0.18577174842357635, Accuracy: 0.9041458964347839, - val_Loss: 0.16214683651924133, val_Accuracy: 0.933608889579773,  Time taken: 17.95 seconds\n",
            "EarlyStopping counter: 4 out of 10\n",
            "Epoch 53/100 done - Loss: 0.1725544035434723, Accuracy: 0.9083597660064697, - val_Loss: 0.16202646493911743, val_Accuracy: 0.9318287372589111,  Time taken: 18.04 seconds\n",
            "EarlyStopping counter: 5 out of 10\n",
            "Epoch 54/100 done - Loss: 0.17160876095294952, Accuracy: 0.9108189344406128, - val_Loss: 0.15976136922836304, val_Accuracy: 0.9325271844863892,  Time taken: 18.07 seconds\n",
            "Epoch 55/100 done - Loss: 0.17400647699832916, Accuracy: 0.9106711149215698, - val_Loss: 0.15448346734046936, val_Accuracy: 0.9359966516494751,  Time taken: 17.90 seconds\n",
            "Epoch 56/100 done - Loss: 0.17449244856834412, Accuracy: 0.9093614816665649, - val_Loss: 0.16021661460399628, val_Accuracy: 0.9327818155288696,  Time taken: 17.93 seconds\n",
            "EarlyStopping counter: 1 out of 10\n",
            "Epoch 57/100 done - Loss: 0.17375068366527557, Accuracy: 0.9106926918029785, - val_Loss: 0.15236437320709229, val_Accuracy: 0.9366771578788757,  Time taken: 18.12 seconds\n",
            "Epoch 58/100 done - Loss: 0.17074936628341675, Accuracy: 0.9105678796768188, - val_Loss: 0.14954739809036255, val_Accuracy: 0.937671959400177,  Time taken: 17.94 seconds\n",
            "Epoch 59/100 done - Loss: 0.16906636953353882, Accuracy: 0.9116014242172241, - val_Loss: 0.15193817019462585, val_Accuracy: 0.9375444054603577,  Time taken: 17.96 seconds\n",
            "EarlyStopping counter: 1 out of 10\n",
            "Epoch 60/100 done - Loss: 0.16920645534992218, Accuracy: 0.9112809300422668, - val_Loss: 0.1513853520154953, val_Accuracy: 0.937036395072937,  Time taken: 18.09 seconds\n",
            "EarlyStopping counter: 2 out of 10\n",
            "Epoch 61/100 done - Loss: 0.16486291587352753, Accuracy: 0.9131937623023987, - val_Loss: 0.15957604348659515, val_Accuracy: 0.9345681071281433,  Time taken: 17.93 seconds\n",
            "EarlyStopping counter: 3 out of 10\n",
            "Epoch 62/100 done - Loss: 0.1766534149646759, Accuracy: 0.9080087542533875, - val_Loss: 0.153037428855896, val_Accuracy: 0.9359898567199707,  Time taken: 18.01 seconds\n",
            "EarlyStopping counter: 4 out of 10\n",
            "Epoch 63/100 done - Loss: 0.16046710312366486, Accuracy: 0.9141361713409424, - val_Loss: 0.1562661975622177, val_Accuracy: 0.9334904551506042,  Time taken: 18.10 seconds\n",
            "EarlyStopping counter: 5 out of 10\n",
            "Epoch 64/100 done - Loss: 0.16254670917987823, Accuracy: 0.914146900177002, - val_Loss: 0.15013395249843597, val_Accuracy: 0.9383771419525146,  Time taken: 18.00 seconds\n",
            "EarlyStopping counter: 6 out of 10\n",
            "Epoch 65/100 done - Loss: 0.16158264875411987, Accuracy: 0.9141850471496582, - val_Loss: 0.14360207319259644, val_Accuracy: 0.9411430358886719,  Time taken: 18.06 seconds\n",
            "Epoch 66/100 done - Loss: 0.16048592329025269, Accuracy: 0.9145298600196838, - val_Loss: 0.14544199407100677, val_Accuracy: 0.9389806985855103,  Time taken: 18.03 seconds\n",
            "EarlyStopping counter: 1 out of 10\n",
            "Epoch 67/100 done - Loss: 0.15778355300426483, Accuracy: 0.9159536361694336, - val_Loss: 0.14567796885967255, val_Accuracy: 0.939156174659729,  Time taken: 18.02 seconds\n",
            "EarlyStopping counter: 2 out of 10\n",
            "Epoch 68/100 done - Loss: 0.16916435956954956, Accuracy: 0.9101043939590454, - val_Loss: 0.1488027572631836, val_Accuracy: 0.938310980796814,  Time taken: 18.08 seconds\n",
            "EarlyStopping counter: 3 out of 10\n",
            "Epoch 69/100 done - Loss: 0.15857574343681335, Accuracy: 0.9148716926574707, - val_Loss: 0.14081260561943054, val_Accuracy: 0.941842257976532,  Time taken: 18.12 seconds\n",
            "Epoch 70/100 done - Loss: 0.1586696207523346, Accuracy: 0.9156057238578796, - val_Loss: 0.14593170583248138, val_Accuracy: 0.93894362449646,  Time taken: 17.92 seconds\n",
            "EarlyStopping counter: 1 out of 10\n",
            "Epoch 71/100 done - Loss: 0.16417622566223145, Accuracy: 0.9129940271377563, - val_Loss: 0.1426638662815094, val_Accuracy: 0.940634548664093,  Time taken: 18.07 seconds\n",
            "EarlyStopping counter: 2 out of 10\n",
            "Epoch 72/100 done - Loss: 0.1572474241256714, Accuracy: 0.9160382747650146, - val_Loss: 0.1427857130765915, val_Accuracy: 0.9413758516311646,  Time taken: 18.04 seconds\n",
            "EarlyStopping counter: 3 out of 10\n",
            "Epoch 73/100 done - Loss: 0.16064293682575226, Accuracy: 0.9148707985877991, - val_Loss: 0.15476296842098236, val_Accuracy: 0.9369789958000183,  Time taken: 17.98 seconds\n",
            "EarlyStopping counter: 4 out of 10\n",
            "Epoch 74/100 done - Loss: 0.16453930735588074, Accuracy: 0.911207914352417, - val_Loss: 0.140834242105484, val_Accuracy: 0.9416838884353638,  Time taken: 17.99 seconds\n",
            "EarlyStopping counter: 5 out of 10\n",
            "Epoch 75/100 done - Loss: 0.16381090879440308, Accuracy: 0.9149655103683472, - val_Loss: 0.14007896184921265, val_Accuracy: 0.9419515132904053,  Time taken: 18.19 seconds\n",
            "Epoch 76/100 done - Loss: 0.157576322555542, Accuracy: 0.914207935333252, - val_Loss: 0.13725613057613373, val_Accuracy: 0.9431079626083374,  Time taken: 17.93 seconds\n",
            "Epoch 77/100 done - Loss: 0.15141698718070984, Accuracy: 0.9185718297958374, - val_Loss: 0.14383727312088013, val_Accuracy: 0.9397947788238525,  Time taken: 18.01 seconds\n",
            "EarlyStopping counter: 1 out of 10\n",
            "Epoch 78/100 done - Loss: 0.1560964584350586, Accuracy: 0.9165054559707642, - val_Loss: 0.13574925065040588, val_Accuracy: 0.943347156047821,  Time taken: 18.03 seconds\n",
            "Epoch 79/100 done - Loss: 0.15578506886959076, Accuracy: 0.9156773686408997, - val_Loss: 0.14148496091365814, val_Accuracy: 0.941798746585846,  Time taken: 17.93 seconds\n",
            "EarlyStopping counter: 1 out of 10\n",
            "Epoch 80/100 done - Loss: 0.1559017449617386, Accuracy: 0.9171096682548523, - val_Loss: 0.14301368594169617, val_Accuracy: 0.940618097782135,  Time taken: 18.08 seconds\n",
            "EarlyStopping counter: 2 out of 10\n",
            "Epoch 81/100 done - Loss: 0.1525142639875412, Accuracy: 0.9179390072822571, - val_Loss: 0.14148449897766113, val_Accuracy: 0.9420351982116699,  Time taken: 18.07 seconds\n",
            "EarlyStopping counter: 3 out of 10\n",
            "Epoch 82/100 done - Loss: 0.15825138986110687, Accuracy: 0.9151430726051331, - val_Loss: 0.1392347365617752, val_Accuracy: 0.9412881731987,  Time taken: 17.96 seconds\n",
            "EarlyStopping counter: 4 out of 10\n",
            "Epoch 83/100 done - Loss: 0.1498582363128662, Accuracy: 0.920596718788147, - val_Loss: 0.14368970692157745, val_Accuracy: 0.9406261444091797,  Time taken: 17.96 seconds\n",
            "EarlyStopping counter: 5 out of 10\n",
            "Epoch 84/100 done - Loss: 0.15574169158935547, Accuracy: 0.9174364805221558, - val_Loss: 0.13449081778526306, val_Accuracy: 0.9444373250007629,  Time taken: 18.11 seconds\n",
            "Epoch 85/100 done - Loss: 0.14928242564201355, Accuracy: 0.9186170101165771, - val_Loss: 0.13857746124267578, val_Accuracy: 0.9424000978469849,  Time taken: 18.00 seconds\n",
            "EarlyStopping counter: 1 out of 10\n",
            "Epoch 86/100 done - Loss: 0.1469867080450058, Accuracy: 0.9222795367240906, - val_Loss: 0.13398224115371704, val_Accuracy: 0.944014847278595,  Time taken: 18.00 seconds\n",
            "Epoch 87/100 done - Loss: 0.15073053538799286, Accuracy: 0.9201936721801758, - val_Loss: 0.14290204644203186, val_Accuracy: 0.9394834637641907,  Time taken: 18.18 seconds\n",
            "EarlyStopping counter: 1 out of 10\n",
            "Epoch 88/100 done - Loss: 0.14832201600074768, Accuracy: 0.9201403260231018, - val_Loss: 0.13487660884857178, val_Accuracy: 0.9433866739273071,  Time taken: 17.97 seconds\n",
            "EarlyStopping counter: 2 out of 10\n",
            "Epoch 89/100 done - Loss: 0.1422995775938034, Accuracy: 0.9227287769317627, - val_Loss: 0.13111892342567444, val_Accuracy: 0.9457097053527832,  Time taken: 18.06 seconds\n",
            "Epoch 90/100 done - Loss: 0.15104465186595917, Accuracy: 0.9191247820854187, - val_Loss: 0.1406937837600708, val_Accuracy: 0.9416229128837585,  Time taken: 18.08 seconds\n",
            "EarlyStopping counter: 1 out of 10\n",
            "Epoch 91/100 done - Loss: 0.14784568548202515, Accuracy: 0.9213801026344299, - val_Loss: 0.12920595705509186, val_Accuracy: 0.9463908672332764,  Time taken: 18.06 seconds\n",
            "Epoch 92/100 done - Loss: 0.1446075141429901, Accuracy: 0.9217379689216614, - val_Loss: 0.13285675644874573, val_Accuracy: 0.9443652629852295,  Time taken: 18.13 seconds\n",
            "EarlyStopping counter: 1 out of 10\n",
            "Epoch 93/100 done - Loss: 0.15539374947547913, Accuracy: 0.917951226234436, - val_Loss: 0.13732503354549408, val_Accuracy: 0.9429457187652588,  Time taken: 18.01 seconds\n",
            "EarlyStopping counter: 2 out of 10\n",
            "Epoch 94/100 done - Loss: 0.14808878302574158, Accuracy: 0.9219832420349121, - val_Loss: 0.1320745199918747, val_Accuracy: 0.9456925988197327,  Time taken: 17.92 seconds\n",
            "EarlyStopping counter: 3 out of 10\n",
            "Epoch 95/100 done - Loss: 0.14347560703754425, Accuracy: 0.9227688908576965, - val_Loss: 0.13309776782989502, val_Accuracy: 0.9448671936988831,  Time taken: 18.05 seconds\n",
            "EarlyStopping counter: 4 out of 10\n",
            "Epoch 96/100 done - Loss: 0.14758425951004028, Accuracy: 0.9208059906959534, - val_Loss: 0.14346785843372345, val_Accuracy: 0.9405339360237122,  Time taken: 18.14 seconds\n",
            "EarlyStopping counter: 5 out of 10\n",
            "Epoch 97/100 done - Loss: 0.14792147278785706, Accuracy: 0.9209097623825073, - val_Loss: 0.13617119193077087, val_Accuracy: 0.9437835812568665,  Time taken: 17.99 seconds\n",
            "EarlyStopping counter: 6 out of 10\n",
            "Epoch 98/100 done - Loss: 0.14569371938705444, Accuracy: 0.9208472371101379, - val_Loss: 0.13484671711921692, val_Accuracy: 0.9432382583618164,  Time taken: 18.00 seconds\n",
            "EarlyStopping counter: 7 out of 10\n",
            "Epoch 99/100 done - Loss: 0.14386603236198425, Accuracy: 0.9225092530250549, - val_Loss: 0.1302822083234787, val_Accuracy: 0.9453705549240112,  Time taken: 18.04 seconds\n",
            "EarlyStopping counter: 8 out of 10\n",
            "Epoch 100/100 done - Loss: 0.14467556774616241, Accuracy: 0.9209380149841309, - val_Loss: 0.13615821301937103, val_Accuracy: 0.9444910883903503,  Time taken: 18.02 seconds\n",
            "EarlyStopping counter: 9 out of 10\n"
          ]
        }
      ],
      "source": [
        "for epoch in range(num_epochs):\n",
        "    timer.start()\n",
        "    metrics.reset()\n",
        "\n",
        "    for cnt, batch in enumerate(ds_train_gen):\n",
        "        images, masks = batch\n",
        "        state, loss, accuracy = train_step(state, images, masks)\n",
        "        metrics.train_loss.append(loss)\n",
        "        metrics.train_accuracy.append(accuracy)\n",
        "        if verbose == 2 and cnt % ((n_batches // 10) + 1) == 0:\n",
        "\n",
        "            avg_loss = metrics.avg_loss\n",
        "            avg_accuracy = metrics.avg_accuracy\n",
        "            print(\"\\r\", end=\"\")\n",
        "            print(f\"Batch Number {cnt + 1}/{n_batches} - Loss: {avg_loss}, Accuracy: {avg_accuracy}\", end=\"\")\n",
        "\n",
        "    for cnt, batch in enumerate(ds_val_gen):\n",
        "        images, masks = batch\n",
        "        loss, accuracy = eval_step(state, images, masks)\n",
        "        metrics.test_loss.append(loss)\n",
        "        metrics.test_accuracy.append(accuracy)\n",
        "\n",
        "    epoch_time = timer.stop()\n",
        "    if verbose >= 1:\n",
        "        print(\"\\r\", end=\"\")\n",
        "        print(f\"Epoch {epoch + 1}/{num_epochs} done - Loss: {metrics.avg_loss}, Accuracy: {metrics.avg_accuracy}, - val_Loss: {metrics.avg_val_loss}, val_Accuracy: {metrics.avg_val_acc},  Time taken: {epoch_time:.2f} seconds\")\n",
        "        avg_train_loss.append(metrics.avg_loss)\n",
        "        avg_val_loss.append(metrics.avg_val_loss)\n",
        "        avg_train_accuracy.append(metrics.avg_accuracy)\n",
        "        avg_val_accuracy.append(metrics.avg_val_acc)\n",
        "\n",
        "    if metrics.avg_val_loss < best_val_loss:\n",
        "        best_val_loss = metrics.avg_val_loss\n",
        "        counter = 0\n",
        "        # Save the model checkpoint\n",
        "        save_model(state, output_model_path)\n",
        "    else:\n",
        "        counter += 1\n",
        "        if verbose >= 1:\n",
        "            print(f\"EarlyStopping counter: {counter} out of {patience}\")\n",
        "        if counter >= patience:\n",
        "            if verbose >= 1:\n",
        "                print(\"EarlyStopping: Stop training\")\n",
        "                break"
      ]
    },
    {
      "cell_type": "markdown",
      "id": "KikG0Se9yHm8",
      "metadata": {
        "id": "KikG0Se9yHm8"
      },
      "source": [
        "## Evaluate the base model"
      ]
    },
    {
      "cell_type": "code",
      "execution_count": 44,
      "id": "9cfmrrAtycRZ",
      "metadata": {
        "id": "9cfmrrAtycRZ"
      },
      "outputs": [],
      "source": [
        "from tqdm import tqdm  # Import tqdm\n",
        "\n",
        "def save_image(entry, output_prefix, counter):\n",
        "    image, mask, pred = entry\n",
        "\n",
        "    target_file = f\"{output_model_path}/Results/{output_prefix}_{counter:04d}\"\n",
        "    viz.save_image_pred(\n",
        "        cloud_image=image,\n",
        "        binary_mask=mask,\n",
        "        y_pred=pred,\n",
        "        output_path=target_file\n",
        "    )\n",
        "\n",
        "def evaluate_and_save_images(data_gen, state, output_prefix,evaluate=False,images_to_save=0):\n",
        "    all_images = []\n",
        "    all_predictions = []\n",
        "    all_groundtruth = []\n",
        "\n",
        "    # Predictions\n",
        "    for batch in data_gen:\n",
        "        images, masks = batch\n",
        "\n",
        "        batch_predictions = predict(state, images)\n",
        "        all_images.append(images)\n",
        "        all_predictions.append(batch_predictions)\n",
        "        all_groundtruth.append(masks)\n",
        "\n",
        "    # Concatenate and squeeze\n",
        "    all_images = jnp.concatenate(all_images, axis=0); x_img = all_images.squeeze(axis=-1)\n",
        "    all_predictions = jnp.concatenate(all_predictions, axis=0); y_pred = all_predictions.squeeze(axis=-1)\n",
        "    all_groundtruth = jnp.concatenate(all_groundtruth, axis=0); y_test = all_groundtruth.squeeze(axis=-1)\n",
        "\n",
        "    # Evaluate\n",
        "    if evaluate:\n",
        "        os.makedirs(f\"{output_model_path}\", exist_ok=True)\n",
        "        util.evaluate_model(y_test, y_pred, output_file=f\"{output_model_path}/evaluation_results.md\", roc_data_file=f\"{output_model_path}/roc_plot.csv\")\n",
        "\n",
        "    # Save images, predictions and ground truth\n",
        "    if images_to_save != 0:\n",
        "        os.makedirs(f\"{output_model_path}/Results\", exist_ok=True)\n",
        "        entries = zip(all_images, all_groundtruth, all_predictions)\n",
        "        for counter, entry in tqdm(enumerate(entries, start=1), total=images_to_save):\n",
        "            save_image(entry, output_prefix, counter)\n",
        "            if counter >= images_to_save:\n",
        "                break\n",
        "\n",
        "        #with parallel_backend('threading', n_jobs=num_cores):\n",
        "        #    Parallel(verbose=0)(delayed(save_image)(entry, output_prefix, counter) for counter, entry in enumerate(entries, start=1))\n",
        "\n",
        "    return x_img ,y_test ,y_pred"
      ]
    },
    {
      "cell_type": "code",
      "execution_count": 45,
      "id": "gDLDIt-CDN5i",
      "metadata": {
        "colab": {
          "base_uri": "https://localhost:8080/"
        },
        "id": "gDLDIt-CDN5i",
        "outputId": "0aac0f5a-1c69-4eb8-d07e-9df8decc5e96"
      },
      "outputs": [
        {
          "name": "stdout",
          "output_type": "stream",
          "text": [
            "Mean Accuracy: 0.9445\n",
            "Mean Precision: 0.9610\n",
            "Mean Recall: 0.9756\n",
            "Mean F1 Score: 0.9683\n",
            "Error Rate (ER): 0.0555\n",
            "BinaryCrossEntropy Loss: 0.1362\n",
            "IOU: 0.9385\n",
            "Mean AUC: 0.9721\n",
            "\n"
          ]
        }
      ],
      "source": [
        "# Evaluate the model on validation and training sets\n",
        "images, masks , pred = evaluate_and_save_images(ds_val_gen, state, \"DS12_val\",True,0)\n",
        "images_t, masks_t , pred_t = evaluate_and_save_images(ds_train_gen, state, \"DS12_train\",False,0)"
      ]
    },
    {
      "cell_type": "code",
      "execution_count": 46,
      "id": "hxpUGpQdN1DM",
      "metadata": {
        "colab": {
          "base_uri": "https://localhost:8080/"
        },
        "id": "hxpUGpQdN1DM",
        "outputId": "2eb0b264-cd5e-4d48-ccb9-354a806011b2"
      },
      "outputs": [
        {
          "name": "stdout",
          "output_type": "stream",
          "text": [
            "Mean Accuracy: 0.9445\n",
            "Mean Precision: 0.9610\n",
            "Mean Recall: 0.9756\n",
            "Mean F1 Score: 0.9683\n",
            "Error Rate (ER): 0.0555\n",
            "BinaryCrossEntropy Loss: 0.1362\n",
            "IOU: 0.9385\n",
            "Mean AUC: 0.9721\n",
            "\n"
          ]
        }
      ],
      "source": [
        "# Evaluate the model on validation and training sets\n",
        "images, masks , pred = evaluate_and_save_images(ds_val_gen, state, \"DS12_val\",True,0)"
      ]
    },
    {
      "cell_type": "code",
      "execution_count": null,
      "id": "G1vGPuoBXOhm",
      "metadata": {
        "id": "G1vGPuoBXOhm"
      },
      "outputs": [],
      "source": [
        "def save_metrics_to_csv(avg_train_loss, avg_val_loss, avg_train_accuracy, avg_val_accuracy, file_path='metrics.csv'):\n",
        "    with open(file_path, mode='w', newline='') as file:\n",
        "        writer = csv.writer(file)\n",
        "        writer.writerow(['Epoch', 'Avg_Train_Loss', 'Avg_Val_Loss', 'Avg_Train_Accuracy', 'Avg_Val_Accuracy'])\n",
        "        for epoch, (train_loss, val_loss, train_acc, val_acc) in enumerate(zip(avg_train_loss, avg_val_loss, avg_train_accuracy, avg_val_accuracy), start=1):\n",
        "            writer.writerow([epoch, train_loss, val_loss, train_acc, val_acc])\n",
        "\n",
        "# Call the function to save the metrics to a CSV file\n",
        "save_metrics_to_csv(avg_train_loss, avg_val_loss, avg_train_accuracy, avg_val_accuracy, file_path=f'{output_model_path}/metrics.csv')"
      ]
    },
    {
      "cell_type": "markdown",
      "id": "RxuejW8jyJ-C",
      "metadata": {
        "id": "RxuejW8jyJ-C"
      },
      "source": [
        "## Plot some results"
      ]
    },
    {
      "cell_type": "code",
      "execution_count": null,
      "id": "b7e2bdec-2eb8-43ac-825f-e4a658e71954",
      "metadata": {
        "id": "b7e2bdec-2eb8-43ac-825f-e4a658e71954"
      },
      "outputs": [],
      "source": [
        "# Collect 3 random triples from the lists\n",
        "random_data = []\n",
        "for _ in range(3):\n",
        "    random_index = random.randint(0, len(images) - 1)\n",
        "    random_data.append((images[random_index], masks[random_index], pred[random_index]))\n",
        "\n",
        "# Now use plot_image_preds function to plot these images\n",
        "viz.plot_image_preds(data_list=random_data, figsize_per_row=(24, 8), predmask_cmap='jet')"
      ]
    },
    {
      "cell_type": "markdown",
      "id": "yqaYYy2wyM2Y",
      "metadata": {
        "id": "yqaYYy2wyM2Y"
      },
      "source": [
        "# (Part 2) Hyperparameter optimizing using Optuna"
      ]
    },
    {
      "cell_type": "markdown",
      "id": "p6QxyRP-Vwgt",
      "metadata": {
        "id": "p6QxyRP-Vwgt"
      },
      "source": [
        "The following cell defines an objective function for an Optuna optimization trial to find the best set of filters for a U-Net model. Here's a brief breakdown:\n",
        "\n",
        "1. **Hyperparameter Suggestion**:\n",
        "   - Optuna's `trial.suggest_categorical` method is used to suggest a string representing a set of U-Net filters from a predefined list of options.\n",
        "\n",
        "2. **Model Initialization**:\n",
        "   - The U-Net model is initialized with the suggested filters using the `create_train_state` function.\n",
        "\n",
        "3. **Training Loop**:\n",
        "   - A training loop is implemented, going through a specified number of epochs, processing batches from the training data generator, and evaluating on the validation data generator.\n",
        "\n",
        "4. **Intermediate Reporting**:\n",
        "   - The average validation loss is reported to Optuna at the end of each epoch using `trial.report`. This allows Optuna to track the progress of the trial.\n",
        "\n",
        "5. **Pruning Check**:\n",
        "   - `trial.should_prune` is called to check if the trial should be pruned based on its performance so far. If it should be pruned, an exception is raised to stop the trial early.\n",
        "\n",
        "6. **Early Stopping and Model Saving**:\n",
        "   - Implements an early stopping mechanism based on validation loss, and saves the model checkpoint whenever a new best validation loss is observed.\n"
      ]
    },
    {
      "cell_type": "code",
      "execution_count": null,
      "id": "Ow8g8742t0sC",
      "metadata": {
        "id": "Ow8g8742t0sC"
      },
      "outputs": [],
      "source": [
        "def objective(trial):\n",
        "    # Suggest a set of channels\n",
        "\n",
        "    try:\n",
        "        unet_filters_str = trial.suggest_categorical(\n",
        "            'unet_filters', [\n",
        "                '64_128_256', '256_128_64',\n",
        "                '32_64_128', '128_64_32',\n",
        "                '128_256_512', '512_256_128',\n",
        "                '32_64_128_256', '256_128_64_32',\n",
        "                '16_32_64_128', '128_64_32_16',\n",
        "                '8_16_32_64', '64_32_16_8',\n",
        "                '16_32_64', '64_32_16',\n",
        "                '8_16_32', '32_16_8',\n",
        "                '4_8_16_32', '32_16_8_4'\n",
        "            ]\n",
        "        )\n",
        "\n",
        "\n",
        "        print(unet_filters_str)\n",
        "        # Convert the string back to a list of ints\n",
        "        unet_filters = [int(x) for x in unet_filters_str.split('_')]\n",
        "\n",
        "        # Initialize model\n",
        "        rng = jax.random.PRNGKey(0)\n",
        "        rng, init_rng = jax.random.split(rng)\n",
        "        input_shape = (24, 160, 128, 1)\n",
        "        n_batches = len(ds_train_gen)\n",
        "\n",
        "        bottle_neck_conv = 1024\n",
        "        learning_rate  = 1e-3\n",
        "        state = create_train_state(init_rng, input_shape, unet_filters, bottle_neck_conv, learning_rate, n_batches)\n",
        "        num_epochs = 50\n",
        "\n",
        "        verbose = 2\n",
        "        patience = 10  # Number of epochs to wait before stopping\n",
        "        best_val_loss = float('inf')  # Store the best validation loss\n",
        "        counter = 0  # Keep track of how many epochs have passed since last best validation loss\n",
        "        output_model_path = '/output'\n",
        "\n",
        "        metrics = TrainingMetrics()\n",
        "        timer = TrainingTimer()\n",
        "\n",
        "        for epoch in range(num_epochs):\n",
        "            metrics.reset()\n",
        "            timer.start()\n",
        "\n",
        "            for cnt, batch in enumerate(ds_train_gen):\n",
        "                images, masks = batch\n",
        "                state, loss, accuracy = train_step(state, images, masks)\n",
        "                metrics.train_loss.append(loss)\n",
        "                metrics.train_accuracy.append(accuracy)\n",
        "                if verbose == 2 and cnt % (n_batches // 10) == 0:\n",
        "                    avg_loss = metrics.avg_loss\n",
        "                    avg_accuracy = metrics.avg_accuracy\n",
        "                    print(\"\\r\", end=\"\")\n",
        "                    print(f\"Batch Number {cnt + 1}/{n_batches} - Loss: {avg_loss}, Accuracy: {avg_accuracy}\", end=\"\")\n",
        "\n",
        "            for cnt, batch in enumerate(ds_val_gen):\n",
        "                images, masks = batch\n",
        "                loss, accuracy = eval_step(state, images, masks)\n",
        "                metrics.test_loss.append(loss)\n",
        "                metrics.test_accuracy.append(accuracy)\n",
        "\n",
        "            epoch_time = timer.stop()\n",
        "            if verbose >= 1:\n",
        "                print(\"\\r\", end=\"\")\n",
        "                print(f\"Epoch {epoch + 1}/{num_epochs} done - Loss: {metrics.avg_loss}, Accuracy: {metrics.avg_accuracy}, - val_Loss: {metrics.avg_val_loss}, val_Accuracy: {metrics.avg_val_acc},  Time taken: {epoch_time:.2f} seconds\")\n",
        "\n",
        "            # Report intermediate results to Optuna\n",
        "            trial.report(metrics.avg_val_loss, epoch)\n",
        "\n",
        "            # Check if the current trial should be pruned\n",
        "            if trial.should_prune():\n",
        "                raise optuna.TrialPruned()\n",
        "\n",
        "            if metrics.avg_val_loss < best_val_loss:\n",
        "                best_val_loss = metrics.avg_val_loss\n",
        "                counter = 0\n",
        "                # Save the model checkpoint\n",
        "                save_model(state, f\"{output_model_path}/{unet_filters_str}\")\n",
        "            else:\n",
        "                counter += 1\n",
        "                if verbose >= 1:\n",
        "                    print(f\"EarlyStopping counter: {counter} out of {patience}\")\n",
        "                if counter >= patience:\n",
        "                    if verbose >= 1:\n",
        "                        print(\"EarlyStopping: Stop training\")\n",
        "                    break\n",
        "    finally:\n",
        "        # Memory cleanup\n",
        "        if state is not None:\n",
        "            jax.tree_util.tree_map(lambda x: x.device_buffer.delete(), state)\n",
        "            del state\n",
        "            gc.collect()\n",
        "\n",
        "    return best_val_loss\n"
      ]
    },
    {
      "cell_type": "code",
      "execution_count": null,
      "id": "D7SVtbWguGjD",
      "metadata": {
        "id": "D7SVtbWguGjD"
      },
      "outputs": [],
      "source": [
        "pruner = optuna.pruners.MedianPruner()\n",
        "study = optuna.create_study(direction='minimize', pruner=pruner)\n",
        "study.optimize(objective, n_trials=10)  # specify the number of trials\n",
        "\n",
        "# Results\n",
        "print('Number of finished trials: ', len(study.trials))\n",
        "print('Best trial:')\n",
        "trial = study.best_trial\n",
        "\n",
        "print('Value: ', trial.value)\n",
        "print('Params: ')\n",
        "for key, value in trial.params.items():\n",
        "    print(f'    {key}: {value}')"
      ]
    },
    {
      "cell_type": "markdown",
      "id": "_VPq-xb5yPp8",
      "metadata": {
        "id": "_VPq-xb5yPp8"
      },
      "source": [
        "# (Part 3) Load existing model"
      ]
    },
    {
      "cell_type": "markdown",
      "id": "kRVkV7rDWOuc",
      "metadata": {
        "id": "kRVkV7rDWOuc"
      },
      "source": [
        "The following cell performs two main tasks:\n",
        "\n",
        "1. **Model Loading**:\n",
        "   - Utilizes the `load_model` function to load a pre-trained model from the specified path, and stores the loaded state in `loaded_state`.\n",
        "\n",
        "2. **Model Evaluation and Image Saving**:\n",
        "   - Calls the `evaluate_and_save_images` function with the validation data generator (`ds_val_gen`), the loaded model state, and a specified output prefix. It also sets flags for evaluating the model and saving images to `True`. This function will evaluate the model on the validation set, save images along with their predictions and ground truth to the specified path, and return the images, masks, and predictions which are stored in `images`, `masks`, and `pred` respectively.\n"
      ]
    },
    {
      "cell_type": "code",
      "execution_count": 50,
      "id": "QG5W6LPNyRov",
      "metadata": {
        "id": "QG5W6LPNyRov"
      },
      "outputs": [],
      "source": [
        "state_l = load_model('/content/outputDS12/model/')"
      ]
    },
    {
      "cell_type": "code",
      "execution_count": 51,
      "id": "Z31Usd4Jdl3Z",
      "metadata": {
        "colab": {
          "base_uri": "https://localhost:8080/"
        },
        "id": "Z31Usd4Jdl3Z",
        "outputId": "398e9058-c2df-46d8-ef21-2afd641dbf5a"
      },
      "outputs": [
        {
          "name": "stderr",
          "output_type": "stream",
          "text": [
            "100%|█████████▉| 199/200 [00:01<00:00, 114.37it/s]\n"
          ]
        },
        {
          "name": "stdout",
          "output_type": "stream",
          "text": [
            "Mean Accuracy: 0.9464\n",
            "Mean Precision: 0.9593\n",
            "Mean Recall: 0.9797\n",
            "Mean F1 Score: 0.9694\n",
            "Error Rate (ER): 0.0536\n",
            "BinaryCrossEntropy Loss: 0.1292\n",
            "IOU: 0.9406\n",
            "Mean AUC: 0.9763\n",
            "\n"
          ]
        },
        {
          "name": "stderr",
          "output_type": "stream",
          "text": [
            "100%|█████████▉| 199/200 [00:01<00:00, 154.01it/s]\n"
          ]
        }
      ],
      "source": [
        " # Evaluate the model on validation and training sets\n",
        "images_t, masks_t , pred_t = evaluate_and_save_images(ds_train_gen, state, \"DS12_Train\",False,200)\n",
        "images, masks , pred = evaluate_and_save_images(ds_val_gen, state_l, \"DS12_Val\",True,200)"
      ]
    },
    {
      "cell_type": "markdown",
      "id": "IEfzf3RzWLNq",
      "metadata": {
        "id": "IEfzf3RzWLNq"
      },
      "source": [
        "# Download results"
      ]
    },
    {
      "cell_type": "code",
      "execution_count": 55,
      "id": "tXj7glUKgN7_",
      "metadata": {
        "id": "tXj7glUKgN7_"
      },
      "outputs": [],
      "source": [
        "import os\n",
        "from google.colab import files\n",
        "import shutil\n",
        "\n",
        "def zip_and_download(folder_name, zip_name=None,to_drive=False):\n",
        "    \"\"\"\n",
        "    Zips the specified folder and initiates a download of the zipped file.\n",
        "\n",
        "    Parameters:\n",
        "    - folder_name (str): Name of the folder to be zipped.\n",
        "    - zip_name (str, optional): Name of the resulting zip file. If None, same name as folder is used.\n",
        "    \"\"\"\n",
        "    if zip_name is None:\n",
        "        zip_name = folder_name\n",
        "\n",
        "    # Ensure the provided folder exists\n",
        "    if not os.path.exists(folder_name):\n",
        "        print(f\"No such folder: '{folder_name}'\")\n",
        "        return\n",
        "\n",
        "    # Zip the folder\n",
        "    shutil.make_archive(zip_name, 'zip', folder_name)\n",
        "\n",
        "    if to_drive:\n",
        "        shutil.copy(f\"/content/{zip_name}.zip\", f\"/gdrive/MyDrive/Colab/CIRRUS/{zip_name}.zip\")\n",
        "    else:\n",
        "        # Initiate download\n",
        "        try:\n",
        "            files.download(zip_name + '.zip')\n",
        "        except Exception as e:\n",
        "            print(f\"Error: {str(e)}\")\n"
      ]
    },
    {
      "cell_type": "code",
      "execution_count": 56,
      "id": "fPqqNQd5xphF",
      "metadata": {
        "id": "fPqqNQd5xphF"
      },
      "outputs": [],
      "source": [
        "zip_and_download('/content/outputDS12','outputDS12',True)"
      ]
    },
    {
      "cell_type": "code",
      "execution_count": null,
      "id": "ZBDMbHFFvP_U",
      "metadata": {
        "id": "ZBDMbHFFvP_U"
      },
      "outputs": [],
      "source": [
        "from google.colab import runtime\n",
        "runtime.unassign()"
      ]
    },
    {
      "cell_type": "code",
      "execution_count": null,
      "id": "NaWnv4MwQRMa",
      "metadata": {
        "id": "NaWnv4MwQRMa"
      },
      "outputs": [],
      "source": [
        "!rm -frv /content/output/DS12"
      ]
    }
  ],
  "metadata": {
    "accelerator": "GPU",
    "colab": {
      "collapsed_sections": [
        "b9fwoQ6ld2IX",
        "yqaYYy2wyM2Y"
      ],
      "gpuType": "A100",
      "provenance": []
    },
    "kernelspec": {
      "display_name": "Python 3",
      "name": "python3"
    },
    "language_info": {
      "codemirror_mode": {
        "name": "ipython",
        "version": 3
      },
      "file_extension": ".py",
      "mimetype": "text/x-python",
      "name": "python",
      "nbconvert_exporter": "python",
      "pygments_lexer": "ipython3",
      "version": "3.10.13"
    }
  },
  "nbformat": 4,
  "nbformat_minor": 5
}
